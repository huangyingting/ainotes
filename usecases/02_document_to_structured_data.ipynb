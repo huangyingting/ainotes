{
 "cells": [
  {
   "attachments": {},
   "cell_type": "markdown",
   "metadata": {},
   "source": [
    "### Document to Structured Data"
   ]
  },
  {
   "attachments": {},
   "cell_type": "markdown",
   "metadata": {},
   "source": [
    "## Set Up Azure OpenAI"
   ]
  },
  {
   "cell_type": "code",
   "execution_count": 1,
   "metadata": {},
   "outputs": [
    {
     "data": {
      "text/plain": [
       "True"
      ]
     },
     "execution_count": 1,
     "metadata": {},
     "output_type": "execute_result"
    }
   ],
   "source": [
    "import os\n",
    "from openai import AzureOpenAI\n",
    "from dotenv import load_dotenv\n",
    "load_dotenv()\n"
   ]
  },
  {
   "attachments": {},
   "cell_type": "markdown",
   "metadata": {},
   "source": [
    "### Request API"
   ]
  },
  {
   "cell_type": "code",
   "execution_count": 3,
   "metadata": {},
   "outputs": [
    {
     "data": {
      "text/plain": [
       "ChatCompletion(id='chatcmpl-8mz4DfvT7Aq3woxERWeuKf3iFruAR', choices=[Choice(finish_reason='stop', index=0, logprobs=None, message=ChatCompletionMessage(content='I am an AI language model developed by OpenAI. I am here to help answer your questions and engage in conversation with you.', role='assistant', function_call=None, tool_calls=None))], created=1706685177, model='gpt-35-turbo-16k', object='chat.completion', system_fingerprint=None, usage=CompletionUsage(completion_tokens=26, prompt_tokens=11, total_tokens=37))"
      ]
     },
     "execution_count": 3,
     "metadata": {},
     "output_type": "execute_result"
    }
   ],
   "source": [
    "deployment_name = \"gpt-35-turbo-16k\"\n",
    "\n",
    "# call OpenAI API with model name and prompt\n",
    "client = AzureOpenAI(\n",
    "    api_key=os.getenv(\"AZURE_OPENAI_KEY\"),  \n",
    "    api_version=os.getenv(\"OPENAI_API_VERSION\"),\n",
    "    azure_endpoint = os.getenv(\"AZURE_OPENAI_ENDPOINT\")\n",
    "    )\n",
    "\n",
    "response = client.chat.completions.create(\n",
    "  model = deployment_name,\n",
    "  messages = [{\"role\":\"user\",\"content\":\"who are you?\"},],\n",
    "  temperature=0.5,\n",
    "  max_tokens=8192,\n",
    "  top_p=0.95,\n",
    "  frequency_penalty=0,\n",
    "  presence_penalty=0,\n",
    "  stop=None)"
   ]
  },
  {
   "cell_type": "code",
   "execution_count": 5,
   "metadata": {},
   "outputs": [
    {
     "name": "stdout",
     "output_type": "stream",
     "text": [
      "assistant\n",
      "I am an AI language model developed by OpenAI. I am here to help answer your questions and engage in conversation with you.\n"
     ]
    }
   ],
   "source": [
    "print(response.choices[0].message.role)\n",
    "print(response.choices[0].message.content)"
   ]
  },
  {
   "cell_type": "code",
   "execution_count": 6,
   "metadata": {},
   "outputs": [],
   "source": [
    "def request_api(messages, deployment_name):\n",
    "    client = AzureOpenAI(\n",
    "        api_key=os.getenv(\"AZURE_OPENAI_KEY\"),  \n",
    "        api_version=os.getenv(\"OPENAI_API_VERSION\"),\n",
    "        azure_endpoint = os.getenv(\"AZURE_OPENAI_ENDPOINT\")\n",
    "        )    \n",
    "    response = client.chat.completions.create(\n",
    "        model = deployment_name,\n",
    "        messages = messages,\n",
    "        temperature=0,\n",
    "        max_tokens=8192,\n",
    "        top_p=0.95,\n",
    "        frequency_penalty=0,\n",
    "        presence_penalty=0,\n",
    "        stop='###')\n",
    "    return response"
   ]
  },
  {
   "attachments": {},
   "cell_type": "markdown",
   "metadata": {},
   "source": [
    "### Get Structured Data"
   ]
  },
  {
   "cell_type": "code",
   "execution_count": 7,
   "metadata": {},
   "outputs": [],
   "source": [
    "def get_structured_data(document, prompt_postfix, deployment_id):\n",
    "    content = prompt_postfix.replace('<document>', document)\n",
    "    messages = [{\"role\":\"user\",\"content\":content},]; \n",
    "    #print(messages)\n",
    "\n",
    "    structured_data = request_api(messages, deployment_id)\n",
    "    return structured_data"
   ]
  },
  {
   "attachments": {},
   "cell_type": "markdown",
   "metadata": {},
   "source": [
    "### Document Type: Resume"
   ]
  },
  {
   "cell_type": "code",
   "execution_count": 9,
   "metadata": {},
   "outputs": [],
   "source": [
    "fname = \"../data/resume.txt\"\n",
    "\n",
    "with open(fname, 'r') as f:\n",
    "    document = f.readlines()\n",
    "\n",
    "# convert list to str\n",
    "document = ' '.join(document); \n",
    "#print(document)"
   ]
  },
  {
   "cell_type": "code",
   "execution_count": 10,
   "metadata": {},
   "outputs": [],
   "source": [
    "# prompt\n",
    "prompt_postfix = \"\"\" <document>\n",
    "  \\n###\n",
    "  \\nExtract the key sections from the resume above into json.\n",
    "\"\"\"\n",
    "structured_data = get_structured_data(document, prompt_postfix, deployment_name)"
   ]
  },
  {
   "cell_type": "code",
   "execution_count": 12,
   "metadata": {},
   "outputs": [
    {
     "name": "stdout",
     "output_type": "stream",
     "text": [
      "{\n",
      "  \"contact\": {\n",
      "    \"email\": \"chew.yean.yam@gmail.com\",\n",
      "    \"linkedin\": \"www.linkedin.com/in/cyyam\"\n",
      "  },\n",
      "  \"top_skills\": [\n",
      "    \"Research\",\n",
      "    \"Microarray Analysis\",\n",
      "    \"OpenCV\"\n",
      "  ],\n",
      "  \"languages\": [\n",
      "    \"English (Native or Bilingual)\",\n",
      "    \"Malay (Professional Working)\",\n",
      "    \"Mandarin (Native or Bilingual)\",\n",
      "    \"Cantonese (Native or Bilingual)\"\n",
      "  ],\n",
      "  \"certifications\": [\n",
      "    \"Uncovering Your Authentic Self at Work\",\n",
      "    \"Worldwide Communities - Community SME 2018\",\n",
      "    \"Fred Kofman on Managing Conflict\"\n",
      "  ],\n",
      "  \"summary\": \"Over 20 years of industrial and applied research experience with global advanced technology companies and internationally renowned research institutions. Experienced in building and leading Data Science and Machine Learning specialist teams. Advises on AI strategies and identifies commercial opportunities. Experienced in incubation of new AI capabilities for products.\",\n",
      "  \"experience\": [\n",
      "    {\n",
      "      \"company\": \"Microsoft\",\n",
      "      \"title\": \"Principal Data and Applied Scientist\",\n",
      "      \"start_date\": \"December 2021\",\n",
      "      \"end_date\": \"Present\",\n",
      "      \"duration\": \"1 year 6 months\",\n",
      "      \"description\": \"Design and build AI applications with enterprises in Latin America Region across industries. Advise on their AI strategies, identify commercial opportunities and code with them to deployment. Translate business requirements into machine learning solution. Enhance skills of team of Cloud Solution Architect specialised in Machine Learning through collaboration and education.\"\n",
      "    },\n",
      "    {\n",
      "      \"company\": \"Microsoft\",\n",
      "      \"title\": \"Principal Data and Applied Scientist\",\n",
      "      \"start_date\": \"December 2019\",\n",
      "      \"end_date\": \"December 2021\",\n",
      "      \"duration\": \"2 years 1 month\",\n",
      "      \"description\": \"Design and build AI Capabilities with enterprises. AI Incubator | Design, build and incubate AI and Data Analytics capabilities.\"\n",
      "    },\n",
      "    {\n",
      "      \"company\": \"Microsoft\",\n",
      "      \"title\": \"Principal Data and Applied Science Manager\",\n",
      "      \"start_date\": \"May 2018\",\n",
      "      \"end_date\": \"November 2019\",\n",
      "      \"duration\": \"1 year 7 months\",\n",
      "      \"description\": \"Lead a Data Science team. Design and build many AI applications with enterprises in the EMEA region across industries. Advise on their AI strategies, identify commercial opportunities and code with them to deployment. Translate business requirements into machine learning solution.\"\n",
      "    },\n",
      "    {\n",
      "      \"company\": \"Microsoft\",\n",
      "      \"title\": \"Principal Data and Applied Scientist\",\n",
      "      \"start_date\": \"April 2015\",\n",
      "      \"end_date\": \"April 2018\",\n",
      "      \"duration\": \"3 years 1 month\",\n",
      "      \"description\": \"Design and build many AI applications with enterprises world-wide across industries. Advise on their AI strategies, identify commercial opportunities and code with them to deployment. Translate business requirements into machine learning solution.\"\n",
      "    },\n",
      "    {\n",
      "      \"company\": \"Data Science and Machine Learning Study Group (MeetUp)\",\n",
      "      \"title\": \"Co-Founder/Organizer\",\n",
      "      \"start_date\": \"November 2019\",\n",
      "      \"end_date\": \"Present\",\n",
      "      \"duration\": \"3 years 7 months\",\n",
      "      \"description\": \"Organize and empower the community to achieve quality Machine Learning and Data Science knowledge.\"\n",
      "    },\n",
      "    {\n",
      "      \"company\": \"University of Bristol\",\n",
      "      \"title\": \"External Advisory Board Member\",\n",
      "      \"start_date\": \"January 2019\",\n",
      "      \"end_date\": \"Present\",\n",
      "      \"duration\": \"4 years 5 months\",\n",
      "      \"description\": \"Provide advice on Data Science and Machine Learning related courses and promote collaboration between academia and industry.\"\n",
      "    },\n",
      "    {\n",
      "      \"company\": \"BAE Systems\",\n",
      "      \"title\": \"Principal Research Scientist\",\n",
      "      \"start_date\": \"April 2013\",\n",
      "      \"end_date\": \"March 2015\",\n",
      "      \"duration\": \"2 years\",\n",
      "      \"description\": \"Worked on various application domains including Text Document Analysis, Health Impact Assessment, and Unmanned Aerial Vehicle (UAV).\"\n",
      "    },\n",
      "    {\n",
      "      \"company\": \"Hewlett-Packard Laboratories\",\n",
      "      \"title\": \"Research Scientist\",\n",
      "      \"start_date\": \"November 2010\",\n",
      "      \"end_date\": \"October 2012\",\n",
      "      \"duration\": \"2 years\",\n",
      "      \"description\": \"Worked on application domains including Cloud Computing Stewardship and Economics.\"\n",
      "    },\n",
      "    {\n",
      "      \"company\": \"National Physical Laboratory\",\n",
      "      \"title\": \"Senior Scientist\",\n",
      "      \"start_date\": \"October 2007\",\n",
      "      \"end_date\": \"March 2010\",\n",
      "      \"duration\": \"2 years 6 months\",\n",
      "      \"description\": \"Worked on various application domains including Biometrics and Anti-Counterfeit technologies.\"\n",
      "    },\n",
      "    {\n",
      "      \"company\": \"University of Southampton, Electronics and Computer Science\",\n",
      "      \"title\": \"Research Scientist\",\n",
      "      \"start_date\": \"January 2007\",\n",
      "      \"end_date\": \"September 2007\",\n",
      "      \"duration\": \"9 months\",\n",
      "      \"description\": \"Worked on application domains including Human Motion and Biometrics.\"\n",
      "    },\n",
      "    {\n",
      "      \"company\": \"Intel\",\n",
      "      \"title\": \"Senior Technical Marketing Engineer\",\n",
      "      \"start_date\": \"August 2004\",\n",
      "      \"end_date\": \"November 2006\",\n",
      "      \"duration\": \"2 years 4 months\",\n",
      "      \"description\": \"Worked on various application domains including Digital Security Surveillance and Emerging Markets.\"\n",
      "    },\n",
      "    {\n",
      "      \"company\": \"A*STAR - Agency for Science, Technology and Research\",\n",
      "      \"title\": \"Research Fellow\",\n",
      "      \"start_date\": \"April 2003\",\n",
      "      \"end_date\": \"July 2004\",\n",
      "      \"duration\": \"1 year 4 months\",\n",
      "      \"description\": \"Worked on application domains including Micro-array Analysis and Bioinformatics.\"\n",
      "    },\n",
      "    {\n",
      "      \"company\": \"University of Southampton - Electronics and Computer Science\",\n",
      "      \"title\": \"Research Consultant\",\n",
      "      \"start_date\": \"January 2002\",\n",
      "      \"end_date\": \"December 2002\",\n",
      "      \"duration\": \"1 year\",\n",
      "      \"description\": \"Worked on various application domains including Computer Vision, Time-series Analytics, and Pattern Recognition.\"\n",
      "    }\n",
      "  ],\n",
      "  \"education\": [\n",
      "    {\n",
      "      \"university\": \"University of Southampton\",\n",
      "      \"degree\": \"Ph.D.\",\n",
      "      \"field\": \"Computer Vision, Image Processing, Human Motion Modelling, Biometrics\",\n",
      "      \"start_date\": \"1999\",\n",
      "      \"end_date\": \"2002\"\n",
      "    },\n",
      "    {\n",
      "      \"university\": \"University of Southampton\",\n",
      "      \"degree\": \"B. Eng.\",\n",
      "      \"field\": \"Computer Engineering\",\n",
      "      \"start_date\": \"1997\",\n",
      "      \"end_date\": \"1999\"\n",
      "    }\n",
      "  ]\n",
      "}\n"
     ]
    }
   ],
   "source": [
    "print(structured_data.choices[0].message.content)"
   ]
  },
  {
   "cell_type": "code",
   "execution_count": null,
   "metadata": {},
   "outputs": [],
   "source": []
  }
 ],
 "metadata": {
  "kernelspec": {
   "display_name": "azureml_py38",
   "language": "python",
   "name": "python3"
  },
  "language_info": {
   "codemirror_mode": {
    "name": "ipython",
    "version": 3
   },
   "file_extension": ".py",
   "mimetype": "text/x-python",
   "name": "python",
   "nbconvert_exporter": "python",
   "pygments_lexer": "ipython3",
   "version": "3.10.12"
  },
  "orig_nbformat": 4,
  "vscode": {
   "interpreter": {
    "hash": "6d65a8c07f5b6469e0fc613f182488c0dccce05038bbda39e5ac9075c0454d11"
   }
  }
 },
 "nbformat": 4,
 "nbformat_minor": 2
}
