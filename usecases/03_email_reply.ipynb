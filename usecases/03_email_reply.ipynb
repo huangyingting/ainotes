{
  "cells": [
    {
      "cell_type": "markdown",
      "id": "011db2ec",
      "metadata": {},
      "source": [
        "### Azure OpenAI -  Content generation\n",
        " \n",
        "Given a prompt, the model will return one or more predicted completions, and can also return the probabilities of alternative tokens at each position.\n",
        "\n",
        "source: https://learnprompting.org/docs/basic_applications/writing_emails"
      ]
    },
    {
      "cell_type": "code",
      "execution_count": 5,
      "id": "a92744f4",
      "metadata": {
        "gather": {
          "logged": 1681842003771
        },
        "jupyter": {
          "source_hidden": false
        }
      },
      "outputs": [
        {
          "data": {
            "text/plain": [
              "True"
            ]
          },
          "execution_count": 5,
          "metadata": {},
          "output_type": "execute_result"
        }
      ],
      "source": [
        "import os\n",
        "from openai import AzureOpenAI\n",
        "from dotenv import load_dotenv\n",
        "load_dotenv()"
      ]
    },
    {
      "cell_type": "markdown",
      "id": "e1966c51",
      "metadata": {},
      "source": [
        "### Setup Parameters\n",
        "\n",
        "\n",
        "Here we will load the configurations from _config.json_ file to setup deployment name, openai api base, openai api key and openai api version."
      ]
    },
    {
      "cell_type": "code",
      "execution_count": 6,
      "id": "19ae1e36",
      "metadata": {
        "gather": {
          "logged": 1681842042034
        },
        "jupyter": {
          "source_hidden": false
        }
      },
      "outputs": [],
      "source": [
        "# Setting up the deployment name\n",
        "deployment_name = \"gpt-35-turbo-instruct\""
      ]
    },
    {
      "cell_type": "code",
      "execution_count": 7,
      "id": "b15862a1",
      "metadata": {
        "gather": {
          "logged": 1681842044295
        },
        "jupyter": {
          "source_hidden": false
        }
      },
      "outputs": [],
      "source": [
        "def run_completion(prompt: str, deployment_name: str, temperaure=0.7, max_tokens=100, verbose=False):\n",
        "    try:        \n",
        "        # Create a completion for the provided prompt and parameters\n",
        "        # To know more about the parameters, checkout this documentation: https://learn.microsoft.com/en-us/azure/cognitive-services/openai/reference\n",
        "\n",
        "        client = AzureOpenAI(\n",
        "            api_key=os.getenv(\"AZURE_OPENAI_KEY\"),  \n",
        "            api_version=os.getenv(\"OPENAI_API_VERSION\"),\n",
        "            azure_endpoint = os.getenv(\"AZURE_OPENAI_ENDPOINT\")\n",
        "        )\n",
        "        \n",
        "        completion = client.completions.create(\n",
        "                        prompt=prompt,\n",
        "                        temperature=temperaure,\n",
        "                        max_tokens=max_tokens,\n",
        "                        top_p=1,\n",
        "                        frequency_penalty=0,\n",
        "                        presence_penalty=0,\n",
        "                        model=deployment_name)\n",
        "\n",
        "        # print the completion\n",
        "        if (verbose):\n",
        "            print(completion.choices[0].text.strip(\" \\n\"))\n",
        "        \n",
        "        return completion.choices[0].text\n",
        "        \n",
        "        # Here indicating if the response is filtered\n",
        "        if completion.choices[0].finish_reason == \"content_filter\":\n",
        "            print(\"The generated content is filtered.\")\n",
        "            \n",
        "    except Exception as e:\n",
        "        # Handle all other errors\n",
        "        print(f\"An error occurred: {e}\")\n"
      ]
    },
    {
      "cell_type": "code",
      "execution_count": 8,
      "id": "3243c47f-4f4b-4840-938b-99f193088ca4",
      "metadata": {
        "gather": {
          "logged": 1681842045413
        },
        "jupyter": {
          "outputs_hidden": false,
          "source_hidden": false
        },
        "nteract": {
          "transient": {
            "deleting": false
          }
        }
      },
      "outputs": [],
      "source": [
        "def print_response(r):\n",
        "    for x in r.split(\"\\n\"):\n",
        "        print(x)\n"
      ]
    },
    {
      "cell_type": "markdown",
      "id": "72effb63-d4ae-4bda-aef6-1b4813f37058",
      "metadata": {
        "nteract": {
          "transient": {
            "deleting": false
          }
        }
      },
      "source": [
        "## Responding to an Email\n",
        "\n",
        "Two-way / two-hop approach:\n",
        "\n",
        "1. Generate summary and action points\n",
        "1. Generate reply based on the summary and action points"
      ]
    },
    {
      "cell_type": "code",
      "execution_count": 9,
      "id": "ec717dfb-cb62-4596-87ac-62517057406a",
      "metadata": {
        "gather": {
          "logged": 1681842052625
        },
        "jupyter": {
          "outputs_hidden": false,
          "source_hidden": false
        },
        "nteract": {
          "transient": {
            "deleting": false
          }
        }
      },
      "outputs": [
        {
          "name": "stdout",
          "output_type": "stream",
          "text": [
            "\n",
            "Summary:\n",
            "The company is seeking assistance from Mario to address issues with the user interface of their software. They believe he is the ideal person to help due to his expertise in software development and familiarity with the software.\n",
            "\n",
            "Action Items:\n",
            "1. Make changes to the layout, design, or functionality of the UI to improve user experience.\n",
            "2. Seek additional resources or support if needed.\n",
            "3. Provide an estimated timeline for when the modifications will be completed.\n",
            "4. Communicate with the company if there are any questions or concerns.\n",
            "5. Prioritize this task to ensure timely completion.\n",
            "\n"
          ]
        }
      ],
      "source": [
        "prompt = \"\"\"\n",
        "Dear Mario,\n",
        "\n",
        "I hope you're doing well. I am writing to provide you with some updates on our company and to request your assistance in addressing an issue with the user interface (UI) of the software you have been working on.\n",
        "\n",
        "As you know, our company has been focusing on providing a user-friendly experience to our customers, and we have identified some issues with the UI of the software. Specifically, we have received feedback from our users that they are having difficulty accessing certain features, and that the UI is not intuitive enough.\n",
        "\n",
        "We need your help to address these issues and make improvements to the UI of the software. This may involve making changes to the layout, design, or functionality of the UI. We believe that your expertise in software development and your familiarity with the software will make you the ideal person to help us with this task.\n",
        "\n",
        "If you need any additional resources or support to complete this task, please do not hesitate to let me know. Additionally, I would appreciate it if you could provide me with an estimated timeline for when you expect these modifications to be completed.\n",
        "\n",
        "If you have any questions or need further clarification, please do not hesitate to contact me.\n",
        "\n",
        "Thank you for your hard work and dedication to our company. I look forward to hearing back from you soon.\n",
        "\n",
        "Best regards,\n",
        "John\n",
        "\n",
        "Generate a summary of this and a list of action items.\n",
        "\"\"\"\n",
        "r = run_completion(prompt=prompt, deployment_name=deployment_name, temperaure=1.0, max_tokens=500, verbose=False)\n",
        "print_response(r)"
      ]
    },
    {
      "cell_type": "code",
      "execution_count": 10,
      "id": "75aa30a2-131d-4b92-80fe-40e09fe5ca54",
      "metadata": {
        "gather": {
          "logged": 1681842062305
        },
        "jupyter": {
          "outputs_hidden": false,
          "source_hidden": false
        },
        "nteract": {
          "transient": {
            "deleting": false
          }
        }
      },
      "outputs": [
        {
          "name": "stdout",
          "output_type": "stream",
          "text": [
            "\n",
            "Subject: Re: Feedback on Software UI\n",
            "\n",
            "Dear John,\n",
            "\n",
            "I hope this email finds you well. Thank you for informing me about the feedback that our company has received regarding the user interface of our software.\n",
            "\n",
            "I understand the importance of having an efficient and user-friendly UI, and I am willing to work with you on addressing these issues. I will assess the current layout, design, and functionality of the UI and make necessary modifications to improve its overall user experience.\n",
            "\n",
            "I estimate that the changes will be completed within the next two weeks. If there are any unexpected delays, I will keep you updated. In case of any additional support or resources needed, I will let you know immediately.\n",
            "\n",
            "I am committed to ensuring that our software has a seamless UI that meets the needs and expectations of our users. Please let me know if there are any specific areas or features that require particular attention.\n",
            "\n",
            "Thank you for bringing this matter to my attention, and I look forward to working together to enhance our software's UI.\n",
            "\n",
            "Best regards,\n",
            "Mario\n"
          ]
        }
      ],
      "source": [
        "prompt = \"\"\"\n",
        "Summary: John is writing to inform Mario of recent feedback the company has received regarding their user interface (UI) of the software. John is requesting Mario's help in addressing these issues and making improvements to the software's UI. \n",
        "\n",
        "Action Items:\n",
        "1. Assess the layout, design, and functionality of the UI and make necessary changes.\n",
        "2. Provide John with an estimated timeline for when these modifications are expected to be complete.\n",
        "3. Let John know if any additional resources or support are needed to complete the task.\n",
        "\n",
        "Write a response email from Mario using the above email summary:\n",
        "\"\"\"\n",
        "\n",
        "r = run_completion(prompt=prompt, deployment_name=deployment_name, temperaure=1.0, max_tokens=500, verbose=False)\n",
        "print_response(r)"
      ]
    },
    {
      "cell_type": "code",
      "execution_count": null,
      "id": "1e6a8e2a-ee24-4b13-9eb7-58a0f9bc3640",
      "metadata": {
        "jupyter": {
          "outputs_hidden": false,
          "source_hidden": false
        },
        "nteract": {
          "transient": {
            "deleting": false
          }
        }
      },
      "outputs": [],
      "source": []
    }
  ],
  "metadata": {
    "kernel_info": {
      "name": "python3"
    },
    "kernelspec": {
      "display_name": "Python 3 (ipykernel)",
      "language": "python",
      "name": "python3"
    },
    "language_info": {
      "codemirror_mode": {
        "name": "ipython",
        "version": 3
      },
      "file_extension": ".py",
      "mimetype": "text/x-python",
      "name": "python",
      "nbconvert_exporter": "python",
      "pygments_lexer": "ipython3",
      "version": "3.10.12"
    },
    "microsoft": {
      "host": {
        "AzureML": {
          "notebookHasBeenCompleted": true
        }
      },
      "ms_spell_check": {
        "ms_spell_check_language": "en"
      }
    },
    "nteract": {
      "version": "nteract-front-end@1.0.0"
    }
  },
  "nbformat": 4,
  "nbformat_minor": 5
}
