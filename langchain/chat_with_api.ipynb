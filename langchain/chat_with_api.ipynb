{
 "cells": [
  {
   "cell_type": "code",
   "execution_count": 4,
   "metadata": {},
   "outputs": [
    {
     "name": "stdout",
     "output_type": "stream",
     "text": [
      "Note: you may need to restart the kernel to use updated packages.\n"
     ]
    }
   ],
   "source": [
    "%pip install langchain langchain-openai --quiet\n"
   ]
  },
  {
   "cell_type": "code",
   "execution_count": 11,
   "metadata": {},
   "outputs": [
    {
     "data": {
      "text/plain": [
       "True"
      ]
     },
     "execution_count": 11,
     "metadata": {},
     "output_type": "execute_result"
    }
   ],
   "source": [
    "from langchain_openai import AzureOpenAI\n",
    "from dotenv import load_dotenv\n",
    "from langchain.chains import APIChain\n",
    "from langchain.chains.api import open_meteo_docs\n",
    "from langchain.chains.api import news_docs\n",
    "import os\n",
    "\n",
    "load_dotenv()"
   ]
  },
  {
   "cell_type": "code",
   "execution_count": 7,
   "metadata": {},
   "outputs": [
    {
     "name": "stdout",
     "output_type": "stream",
     "text": [
      "\n",
      "\n",
      "\u001b[1m> Entering new APIChain chain...\u001b[0m\n",
      "\u001b[32;1m\u001b[1;3m https://api.open-meteo.com/v1/forecast?latitude=48.137154&longitude=11.576124&current_weather=true&temperature_unit=fahrenheit&hourly=temperature_2m\u001b[0m\n",
      "\u001b[33;1m\u001b[1;3m{\"latitude\":48.14,\"longitude\":11.58,\"generationtime_ms\":0.1049041748046875,\"utc_offset_seconds\":0,\"timezone\":\"GMT\",\"timezone_abbreviation\":\"GMT\",\"elevation\":526.0,\"current_weather_units\":{\"time\":\"iso8601\",\"interval\":\"seconds\",\"temperature\":\"°F\",\"windspeed\":\"km/h\",\"winddirection\":\"°\",\"is_day\":\"\",\"weathercode\":\"wmo code\"},\"current_weather\":{\"time\":\"2024-02-01T07:15\",\"interval\":900,\"temperature\":44.2,\"windspeed\":14.3,\"winddirection\":260,\"is_day\":1,\"weathercode\":3},\"hourly_units\":{\"time\":\"iso8601\",\"temperature_2m\":\"°F\"},\"hourly\":{\"time\":[\"2024-02-01T00:00\",\"2024-02-01T01:00\",\"2024-02-01T02:00\",\"2024-02-01T03:00\",\"2024-02-01T04:00\",\"2024-02-01T05:00\",\"2024-02-01T06:00\",\"2024-02-01T07:00\",\"2024-02-01T08:00\",\"2024-02-01T09:00\",\"2024-02-01T10:00\",\"2024-02-01T11:00\",\"2024-02-01T12:00\",\"2024-02-01T13:00\",\"2024-02-01T14:00\",\"2024-02-01T15:00\",\"2024-02-01T16:00\",\"2024-02-01T17:00\",\"2024-02-01T18:00\",\"2024-02-01T19:00\",\"2024-02-01T20:00\",\"2024-02-01T21:00\",\"2024-02-01T22:00\",\"2024-02-01T23:00\",\"2024-02-02T00:00\",\"2024-02-02T01:00\",\"2024-02-02T02:00\",\"2024-02-02T03:00\",\"2024-02-02T04:00\",\"2024-02-02T05:00\",\"2024-02-02T06:00\",\"2024-02-02T07:00\",\"2024-02-02T08:00\",\"2024-02-02T09:00\",\"2024-02-02T10:00\",\"2024-02-02T11:00\",\"2024-02-02T12:00\",\"2024-02-02T13:00\",\"2024-02-02T14:00\",\"2024-02-02T15:00\",\"2024-02-02T16:00\",\"2024-02-02T17:00\",\"2024-02-02T18:00\",\"2024-02-02T19:00\",\"2024-02-02T20:00\",\"2024-02-02T21:00\",\"2024-02-02T22:00\",\"2024-02-02T23:00\",\"2024-02-03T00:00\",\"2024-02-03T01:00\",\"2024-02-03T02:00\",\"2024-02-03T03:00\",\"2024-02-03T04:00\",\"2024-02-03T05:00\",\"2024-02-03T06:00\",\"2024-02-03T07:00\",\"2024-02-03T08:00\",\"2024-02-03T09:00\",\"2024-02-03T10:00\",\"2024-02-03T11:00\",\"2024-02-03T12:00\",\"2024-02-03T13:00\",\"2024-02-03T14:00\",\"2024-02-03T15:00\",\"2024-02-03T16:00\",\"2024-02-03T17:00\",\"2024-02-03T18:00\",\"2024-02-03T19:00\",\"2024-02-03T20:00\",\"2024-02-03T21:00\",\"2024-02-03T22:00\",\"2024-02-03T23:00\",\"2024-02-04T00:00\",\"2024-02-04T01:00\",\"2024-02-04T02:00\",\"2024-02-04T03:00\",\"2024-02-04T04:00\",\"2024-02-04T05:00\",\"2024-02-04T06:00\",\"2024-02-04T07:00\",\"2024-02-04T08:00\",\"2024-02-04T09:00\",\"2024-02-04T10:00\",\"2024-02-04T11:00\",\"2024-02-04T12:00\",\"2024-02-04T13:00\",\"2024-02-04T14:00\",\"2024-02-04T15:00\",\"2024-02-04T16:00\",\"2024-02-04T17:00\",\"2024-02-04T18:00\",\"2024-02-04T19:00\",\"2024-02-04T20:00\",\"2024-02-04T21:00\",\"2024-02-04T22:00\",\"2024-02-04T23:00\",\"2024-02-05T00:00\",\"2024-02-05T01:00\",\"2024-02-05T02:00\",\"2024-02-05T03:00\",\"2024-02-05T04:00\",\"2024-02-05T05:00\",\"2024-02-05T06:00\",\"2024-02-05T07:00\",\"2024-02-05T08:00\",\"2024-02-05T09:00\",\"2024-02-05T10:00\",\"2024-02-05T11:00\",\"2024-02-05T12:00\",\"2024-02-05T13:00\",\"2024-02-05T14:00\",\"2024-02-05T15:00\",\"2024-02-05T16:00\",\"2024-02-05T17:00\",\"2024-02-05T18:00\",\"2024-02-05T19:00\",\"2024-02-05T20:00\",\"2024-02-05T21:00\",\"2024-02-05T22:00\",\"2024-02-05T23:00\",\"2024-02-06T00:00\",\"2024-02-06T01:00\",\"2024-02-06T02:00\",\"2024-02-06T03:00\",\"2024-02-06T04:00\",\"2024-02-06T05:00\",\"2024-02-06T06:00\",\"2024-02-06T07:00\",\"2024-02-06T08:00\",\"2024-02-06T09:00\",\"2024-02-06T10:00\",\"2024-02-06T11:00\",\"2024-02-06T12:00\",\"2024-02-06T13:00\",\"2024-02-06T14:00\",\"2024-02-06T15:00\",\"2024-02-06T16:00\",\"2024-02-06T17:00\",\"2024-02-06T18:00\",\"2024-02-06T19:00\",\"2024-02-06T20:00\",\"2024-02-06T21:00\",\"2024-02-06T22:00\",\"2024-02-06T23:00\",\"2024-02-07T00:00\",\"2024-02-07T01:00\",\"2024-02-07T02:00\",\"2024-02-07T03:00\",\"2024-02-07T04:00\",\"2024-02-07T05:00\",\"2024-02-07T06:00\",\"2024-02-07T07:00\",\"2024-02-07T08:00\",\"2024-02-07T09:00\",\"2024-02-07T10:00\",\"2024-02-07T11:00\",\"2024-02-07T12:00\",\"2024-02-07T13:00\",\"2024-02-07T14:00\",\"2024-02-07T15:00\",\"2024-02-07T16:00\",\"2024-02-07T17:00\",\"2024-02-07T18:00\",\"2024-02-07T19:00\",\"2024-02-07T20:00\",\"2024-02-07T21:00\",\"2024-02-07T22:00\",\"2024-02-07T23:00\"],\"temperature_2m\":[38.7,39.1,39.2,41.3,43.9,44.7,44.4,44.2,44.5,44.4,44.6,44.7,44.3,44.6,44.9,44.9,44.4,43.8,43.0,42.5,42.1,41.6,41.3,41.0,40.6,40.1,39.6,39.5,39.2,39.3,39.7,39.9,40.5,41.2,41.9,41.1,41.2,40.5,41.8,43.0,43.8,44.6,45.0,45.4,45.4,45.3,45.5,45.8,46.2,46.4,46.4,45.6,44.9,44.5,44.2,44.2,44.8,46.3,48.6,50.1,51.4,52.0,51.6,50.7,49.5,48.2,47.2,46.2,45.1,44.4,44.0,43.7,43.2,42.9,42.6,42.8,43.0,43.3,43.7,44.3,45.2,46.2,47.6,49.1,50.3,50.8,50.9,50.9,50.7,50.3,49.8,49.0,48.0,47.0,46.0,45.1,44.3,43.8,43.4,42.9,41.7,40.5,40.4,42.3,45.5,48.7,52.1,55.7,58.1,58.9,58.6,57.7,55.9,53.5,51.7,51.2,51.4,51.5,51.2,50.7,50.3,49.2,48.1,46.9,45.7,44.6,44.0,44.5,45.5,46.8,48.2,49.7,50.7,50.8,50.2,49.4,48.1,46.4,45.0,44.4,44.1,43.9,43.6,43.3,43.0,42.8,42.5,42.2,41.5,40.8,41.0,42.8,45.6,48.5,51.8,55.1,57.1,56.8,55.1,53.4,51.8,50.1,48.8,48.0,47.6,47.3,47.3,47.3]}}\u001b[0m\n",
      "\n",
      "\u001b[1m> Finished chain.\u001b[0m\n"
     ]
    },
    {
     "data": {
      "text/plain": [
       "{'question': 'What is the weather like right now in Munich, Germany in degrees Fahrenheit?',\n",
       " 'output': ' The current temperature in Munich, Germany is 44.2 degrees Fahrenheit. This information was retrieved from the API using the latitude and longitude coordinates for Munich and specifying the desired weather variable of temperature at 2 meters above ground. The response also includes data for the next 168 hours in hourly intervals. '}"
      ]
     },
     "execution_count": 7,
     "metadata": {},
     "output_type": "execute_result"
    }
   ],
   "source": [
    "DEPLOYMENT_NAME=\"gpt-35-turbo-instruct\"\n",
    "MODEL_NAME = \"gpt-35-turbo-instruct\"\n",
    "API_VERSION=\"2023-12-01-preview\"\n",
    "\n",
    "llm = AzureOpenAI(azure_deployment=DEPLOYMENT_NAME, model_name=MODEL_NAME, openai_api_version=API_VERSION)\n",
    "\n",
    "meteo_api_chain = APIChain.from_llm_and_api_docs(\n",
    "    llm,\n",
    "    open_meteo_docs.OPEN_METEO_DOCS,\n",
    "    verbose=True,\n",
    "    limit_to_domains=[\"https://api.open-meteo.com/\"],\n",
    ")\n",
    "meteo_api_chain.invoke(\n",
    "    \"What is the weather like right now in Munich, Germany in degrees Fahrenheit?\"\n",
    ")"
   ]
  },
  {
   "cell_type": "code",
   "execution_count": 13,
   "metadata": {},
   "outputs": [
    {
     "data": {
      "text/plain": [
       "{'question': 'Top business headlines from China today',\n",
       " 'output': \" The top two business headlines from China today are about the performance of the Shenzhen Stock Exchange's ChiNext Index and a report on the increasing average travel expenses for Chinese households by 2023.\"}"
      ]
     },
     "execution_count": 13,
     "metadata": {},
     "output_type": "execute_result"
    }
   ],
   "source": [
    "news_api_chain = APIChain.from_llm_and_api_docs(\n",
    "        llm,\n",
    "        news_docs.NEWS_DOCS,\n",
    "        headers={\"X-Api-Key\": os.environ[\"NEWS_API_KEY\"]},\n",
    "        limit_to_domains=[\"https://newsapi.org/\"],\n",
    "    )\n",
    "news_api_chain.invoke(\n",
    "    \"Top business headlines from China today\"\n",
    ")"
   ]
  }
 ],
 "metadata": {
  "kernelspec": {
   "display_name": "venv",
   "language": "python",
   "name": "python3"
  },
  "language_info": {
   "codemirror_mode": {
    "name": "ipython",
    "version": 3
   },
   "file_extension": ".py",
   "mimetype": "text/x-python",
   "name": "python",
   "nbconvert_exporter": "python",
   "pygments_lexer": "ipython3",
   "version": "3.10.12"
  }
 },
 "nbformat": 4,
 "nbformat_minor": 2
}
