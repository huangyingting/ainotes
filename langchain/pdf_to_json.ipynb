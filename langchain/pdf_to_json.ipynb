{
 "cells": [
  {
   "cell_type": "code",
   "execution_count": 5,
   "metadata": {},
   "outputs": [
    {
     "name": "stderr",
     "output_type": "stream",
     "text": [
      "INFO: Preparing to split document for partition.\n",
      "INFO: Concurrency level set to 5\n",
      "INFO: Splitting pages 1 to 1 (1 total)\n",
      "INFO: Determined optimal split size of 2 pages.\n",
      "INFO: Document has too few pages (1) to be split efficiently. Partitioning without split.\n",
      "INFO: Successfully partitioned the document.\n"
     ]
    }
   ],
   "source": [
    "from langchain_openai import AzureChatOpenAI\n",
    "from langchain_unstructured import UnstructuredLoader\n",
    "import os\n",
    "from dotenv import load_dotenv\n",
    "load_dotenv() \n",
    "\n",
    "llm = AzureChatOpenAI(\n",
    "    azure_endpoint=os.getenv(\"AZURE_OPENAI_ENDPOINT\"),\n",
    "    openai_api_key=os.getenv(\"AZURE_OPENAI_API_KEY\"),\n",
    "    openai_api_version=os.getenv(\"OPENAI_API_VERSION\"),\n",
    "    azure_deployment=\"gpt-4o\",\n",
    "    temperature=0,\n",
    ")\n",
    "\n",
    "file_paths = [\n",
    "    \"../data/Wine-PO.pdf\"\n",
    "]\n",
    "\n",
    "loader = UnstructuredLoader(file_paths,\n",
    "                            api_key=os.getenv(\"UNSTRUCTURED_API_KEY\"),\n",
    "                            partition_via_api=True)\n",
    "\n",
    "docs = loader.load()"
   ]
  },
  {
   "cell_type": "code",
   "execution_count": 11,
   "metadata": {},
   "outputs": [],
   "source": [
    "from langchain_core.pydantic_v1 import BaseModel, Field\n",
    "from typing import List\n",
    "\n",
    "\n",
    "class Item(BaseModel):\n",
    "    item_name: str = Field(description=\"Item Name\")\n",
    "    quantity: int = Field(description=\"Quantity\")\n",
    "    item_price: float = Field(description=\"Item Price\")\n",
    "    item_discount: float = Field(description=\"Item Discount\")\n",
    "    total: float = Field(description=\"Total Price\")\n",
    "\n",
    "class Order(BaseModel):\n",
    "    po_number: str = Field(description=\"PO Number\")\n",
    "    order_status: str = Field(description=\"Order Status\")\n",
    "    client_id: str = Field(description=\"Client ID\")\n",
    "    customer_contact_name: str = Field(description=\"Customer Contact Name\")\n",
    "    customer_company_name: str = Field(description=\"Customer Company Name\")\n",
    "    customer_address: str = Field(description=\"Customer Address\")\n",
    "    supplier_contact_name: str = Field(description=\"Supplier Contact Name\")\n",
    "    supplier_company_name: str = Field(description=\"Supplier Company Name\")\n",
    "    supplier_address: str = Field(description=\"Supplier Address\")\n",
    "    delivery_date: str = Field(description=\"Delivery Date\")\n",
    "    order_total: float = Field(description=\"Order Total\")\n",
    "    subtotal: float = Field(description=\"Subtotal\")\n",
    "    sales_tax: float = Field(description=\"Sales Tax\")\n",
    "    shipping_cost: float = Field(description=\"Shipping Cost\")\n",
    "    other_costs: float = Field(description=\"Other Costs\")\n",
    "    items: List[Item] = Field(description=\"Items\")"
   ]
  },
  {
   "cell_type": "code",
   "execution_count": 12,
   "metadata": {},
   "outputs": [
    {
     "name": "stderr",
     "output_type": "stream",
     "text": [
      "INFO: HTTP Request: POST https://aoaisec.openai.azure.com/openai/deployments/gpt-4o/chat/completions?api-version=2024-02-01 \"HTTP/1.1 200 OK\"\n"
     ]
    }
   ],
   "source": [
    "from langchain_core.output_parsers import JsonOutputParser\n",
    "from langchain_core.prompts import PromptTemplate\n",
    "\n",
    "parser = JsonOutputParser(pydantic_object=Order)\n",
    "\n",
    "prompt = PromptTemplate(\n",
    "    template=\"Extract the information as specified.\\n{format_instructions}\\n{context}\\n\",\n",
    "    input_variables=[\"context\"],\n",
    "    partial_variables={\"format_instructions\": parser.get_format_instructions()},\n",
    ")\n",
    "\n",
    "chain = prompt | llm | parser\n",
    "\n",
    "response = chain.invoke({\n",
    "    \"context\": docs\n",
    "})\n"
   ]
  },
  {
   "cell_type": "code",
   "execution_count": 7,
   "metadata": {},
   "outputs": [
    {
     "data": {
      "text/plain": [
       "{'po_number': 'P/O NUMBER',\n",
       " 'order_status': '',\n",
       " 'client_id': 'CLIENT ID',\n",
       " 'customer_contact_name': '',\n",
       " 'customer_company_name': '',\n",
       " 'customer_address': '',\n",
       " 'supplier_contact_name': '',\n",
       " 'supplier_company_name': '',\n",
       " 'supplier_address': '',\n",
       " 'delivery_date': 'DATE',\n",
       " 'order_total': 0,\n",
       " 'subtotal': 0,\n",
       " 'sales_tax': 0,\n",
       " 'shipping_cost': 0,\n",
       " 'other_costs': 0,\n",
       " 'items': []}"
      ]
     },
     "execution_count": 7,
     "metadata": {},
     "output_type": "execute_result"
    }
   ],
   "source": [
    "response"
   ]
  }
 ],
 "metadata": {
  "kernelspec": {
   "display_name": "openai",
   "language": "python",
   "name": "python3"
  },
  "language_info": {
   "codemirror_mode": {
    "name": "ipython",
    "version": 3
   },
   "file_extension": ".py",
   "mimetype": "text/x-python",
   "name": "python",
   "nbconvert_exporter": "python",
   "pygments_lexer": "ipython3",
   "version": "3.10.12"
  }
 },
 "nbformat": 4,
 "nbformat_minor": 2
}
