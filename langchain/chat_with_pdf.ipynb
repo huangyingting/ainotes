{
 "cells": [
  {
   "cell_type": "code",
   "execution_count": 2,
   "metadata": {},
   "outputs": [
    {
     "name": "stdout",
     "output_type": "stream",
     "text": [
      "Requirement already satisfied: langchain in /home/ythuang/venv/lib/python3.10/site-packages (0.1.4)\n",
      "Requirement already satisfied: langchain_openai in /home/ythuang/venv/lib/python3.10/site-packages (0.0.5)\n",
      "Collecting PyPDF2\n",
      "  Downloading pypdf2-3.0.1-py3-none-any.whl (232 kB)\n",
      "\u001b[2K     \u001b[90m━━━━━━━━━━━━━━━━━━━━━━━━━━━━━━━━━━━━━\u001b[0m \u001b[32m232.6/232.6 KB\u001b[0m \u001b[31m981.0 kB/s\u001b[0m eta \u001b[36m0:00:00\u001b[0ma \u001b[36m0:00:01\u001b[0m\n",
      "\u001b[?25hCollecting faiss-cpu\n",
      "  Downloading faiss_cpu-1.7.4-cp310-cp310-manylinux_2_17_x86_64.manylinux2014_x86_64.whl (17.6 MB)\n",
      "\u001b[2K     \u001b[90m━━━━━━━━━━━━━━━━━━━━━━━━━━━━━━━━━━━━━━━━\u001b[0m \u001b[32m17.6/17.6 MB\u001b[0m \u001b[31m6.7 MB/s\u001b[0m eta \u001b[36m0:00:00\u001b[0m00:01\u001b[0m00:01\u001b[0m\n",
      "\u001b[?25hRequirement already satisfied: aiohttp<4.0.0,>=3.8.3 in /home/ythuang/venv/lib/python3.10/site-packages (from langchain) (3.9.0)\n",
      "Requirement already satisfied: SQLAlchemy<3,>=1.4 in /home/ythuang/venv/lib/python3.10/site-packages (from langchain) (2.0.25)\n",
      "Requirement already satisfied: dataclasses-json<0.7,>=0.5.7 in /home/ythuang/venv/lib/python3.10/site-packages (from langchain) (0.5.14)\n",
      "Requirement already satisfied: langchain-core<0.2,>=0.1.16 in /home/ythuang/venv/lib/python3.10/site-packages (from langchain) (0.1.16)\n",
      "Requirement already satisfied: requests<3,>=2 in /home/ythuang/venv/lib/python3.10/site-packages (from langchain) (2.31.0)\n",
      "Requirement already satisfied: numpy<2,>=1 in /home/ythuang/venv/lib/python3.10/site-packages (from langchain) (1.26.2)\n",
      "Requirement already satisfied: langchain-community<0.1,>=0.0.14 in /home/ythuang/venv/lib/python3.10/site-packages (from langchain) (0.0.16)\n",
      "Requirement already satisfied: pydantic<3,>=1 in /home/ythuang/venv/lib/python3.10/site-packages (from langchain) (2.5.2)\n",
      "Requirement already satisfied: jsonpatch<2.0,>=1.33 in /home/ythuang/venv/lib/python3.10/site-packages (from langchain) (1.33)\n",
      "Requirement already satisfied: langsmith<0.1,>=0.0.83 in /home/ythuang/venv/lib/python3.10/site-packages (from langchain) (0.0.84)\n",
      "Requirement already satisfied: tenacity<9.0.0,>=8.1.0 in /home/ythuang/venv/lib/python3.10/site-packages (from langchain) (8.2.3)\n",
      "Requirement already satisfied: PyYAML>=5.3 in /home/ythuang/venv/lib/python3.10/site-packages (from langchain) (6.0.1)\n",
      "Requirement already satisfied: async-timeout<5.0.0,>=4.0.0 in /home/ythuang/venv/lib/python3.10/site-packages (from langchain) (4.0.3)\n",
      "Requirement already satisfied: openai<2.0.0,>=1.10.0 in /home/ythuang/venv/lib/python3.10/site-packages (from langchain_openai) (1.10.0)\n",
      "Requirement already satisfied: tiktoken<0.6.0,>=0.5.2 in /home/ythuang/venv/lib/python3.10/site-packages (from langchain_openai) (0.5.2)\n",
      "Requirement already satisfied: aiosignal>=1.1.2 in /home/ythuang/venv/lib/python3.10/site-packages (from aiohttp<4.0.0,>=3.8.3->langchain) (1.3.1)\n",
      "Requirement already satisfied: yarl<2.0,>=1.0 in /home/ythuang/venv/lib/python3.10/site-packages (from aiohttp<4.0.0,>=3.8.3->langchain) (1.9.3)\n",
      "Requirement already satisfied: multidict<7.0,>=4.5 in /home/ythuang/venv/lib/python3.10/site-packages (from aiohttp<4.0.0,>=3.8.3->langchain) (6.0.4)\n",
      "Requirement already satisfied: frozenlist>=1.1.1 in /home/ythuang/venv/lib/python3.10/site-packages (from aiohttp<4.0.0,>=3.8.3->langchain) (1.4.0)\n",
      "Requirement already satisfied: attrs>=17.3.0 in /home/ythuang/venv/lib/python3.10/site-packages (from aiohttp<4.0.0,>=3.8.3->langchain) (23.1.0)\n",
      "Requirement already satisfied: typing-inspect<1,>=0.4.0 in /home/ythuang/venv/lib/python3.10/site-packages (from dataclasses-json<0.7,>=0.5.7->langchain) (0.9.0)\n",
      "Requirement already satisfied: marshmallow<4.0.0,>=3.18.0 in /home/ythuang/venv/lib/python3.10/site-packages (from dataclasses-json<0.7,>=0.5.7->langchain) (3.20.1)\n",
      "Requirement already satisfied: jsonpointer>=1.9 in /home/ythuang/venv/lib/python3.10/site-packages (from jsonpatch<2.0,>=1.33->langchain) (2.4)\n",
      "Requirement already satisfied: packaging<24.0,>=23.2 in /home/ythuang/venv/lib/python3.10/site-packages (from langchain-core<0.2,>=0.1.16->langchain) (23.2)\n",
      "Requirement already satisfied: anyio<5,>=3 in /home/ythuang/venv/lib/python3.10/site-packages (from langchain-core<0.2,>=0.1.16->langchain) (3.7.1)\n",
      "Requirement already satisfied: typing-extensions<5,>=4.7 in /home/ythuang/venv/lib/python3.10/site-packages (from openai<2.0.0,>=1.10.0->langchain_openai) (4.8.0)\n",
      "Requirement already satisfied: sniffio in /home/ythuang/venv/lib/python3.10/site-packages (from openai<2.0.0,>=1.10.0->langchain_openai) (1.3.0)\n",
      "Requirement already satisfied: httpx<1,>=0.23.0 in /home/ythuang/venv/lib/python3.10/site-packages (from openai<2.0.0,>=1.10.0->langchain_openai) (0.24.1)\n",
      "Requirement already satisfied: distro<2,>=1.7.0 in /home/ythuang/venv/lib/python3.10/site-packages (from openai<2.0.0,>=1.10.0->langchain_openai) (1.8.0)\n",
      "Requirement already satisfied: tqdm>4 in /home/ythuang/venv/lib/python3.10/site-packages (from openai<2.0.0,>=1.10.0->langchain_openai) (4.66.1)\n",
      "Requirement already satisfied: pydantic-core==2.14.5 in /home/ythuang/venv/lib/python3.10/site-packages (from pydantic<3,>=1->langchain) (2.14.5)\n",
      "Requirement already satisfied: annotated-types>=0.4.0 in /home/ythuang/venv/lib/python3.10/site-packages (from pydantic<3,>=1->langchain) (0.6.0)\n",
      "Requirement already satisfied: idna<4,>=2.5 in /home/ythuang/venv/lib/python3.10/site-packages (from requests<3,>=2->langchain) (3.4)\n",
      "Requirement already satisfied: charset-normalizer<4,>=2 in /home/ythuang/venv/lib/python3.10/site-packages (from requests<3,>=2->langchain) (3.3.2)\n",
      "Requirement already satisfied: urllib3<3,>=1.21.1 in /home/ythuang/venv/lib/python3.10/site-packages (from requests<3,>=2->langchain) (2.1.0)\n",
      "Requirement already satisfied: certifi>=2017.4.17 in /home/ythuang/venv/lib/python3.10/site-packages (from requests<3,>=2->langchain) (2023.11.17)\n",
      "Requirement already satisfied: greenlet!=0.4.17 in /home/ythuang/venv/lib/python3.10/site-packages (from SQLAlchemy<3,>=1.4->langchain) (3.0.3)\n",
      "Requirement already satisfied: regex>=2022.1.18 in /home/ythuang/venv/lib/python3.10/site-packages (from tiktoken<0.6.0,>=0.5.2->langchain_openai) (2023.10.3)\n",
      "Requirement already satisfied: exceptiongroup in /home/ythuang/venv/lib/python3.10/site-packages (from anyio<5,>=3->langchain-core<0.2,>=0.1.16->langchain) (1.2.0)\n",
      "Requirement already satisfied: httpcore<0.18.0,>=0.15.0 in /home/ythuang/venv/lib/python3.10/site-packages (from httpx<1,>=0.23.0->openai<2.0.0,>=1.10.0->langchain_openai) (0.17.3)\n",
      "Requirement already satisfied: mypy-extensions>=0.3.0 in /home/ythuang/venv/lib/python3.10/site-packages (from typing-inspect<1,>=0.4.0->dataclasses-json<0.7,>=0.5.7->langchain) (1.0.0)\n",
      "Requirement already satisfied: h11<0.15,>=0.13 in /home/ythuang/venv/lib/python3.10/site-packages (from httpcore<0.18.0,>=0.15.0->httpx<1,>=0.23.0->openai<2.0.0,>=1.10.0->langchain_openai) (0.14.0)\n",
      "Installing collected packages: faiss-cpu, PyPDF2\n",
      "Successfully installed PyPDF2-3.0.1 faiss-cpu-1.7.4\n",
      "Note: you may need to restart the kernel to use updated packages.\n"
     ]
    }
   ],
   "source": [
    "%pip install langchain langchain_openai PyPDF2 faiss-cpu"
   ]
  },
  {
   "cell_type": "code",
   "execution_count": 16,
   "metadata": {},
   "outputs": [
    {
     "data": {
      "text/plain": [
       "True"
      ]
     },
     "execution_count": 16,
     "metadata": {},
     "output_type": "execute_result"
    }
   ],
   "source": [
    "from PyPDF2 import PdfReader\n",
    "from langchain_openai import AzureOpenAIEmbeddings, AzureOpenAI\n",
    "from langchain.text_splitter import CharacterTextSplitter\n",
    "from langchain.vectorstores import FAISS\n",
    "from langchain.chains.question_answering import load_qa_chain\n",
    "from dotenv import load_dotenv\n",
    "load_dotenv()"
   ]
  },
  {
   "cell_type": "code",
   "execution_count": 10,
   "metadata": {},
   "outputs": [
    {
     "data": {
      "text/plain": [
       "'Wat Phra Yai or Wat Phra \\nPhuttha Ming Mongkhon \\nLocated on top Khao Nak Koet \\nand commonly called ‘the Big \\nBuddha’ this 45m tall statue \\nis revered by both the people \\nof Phuket and visitors alike. \\nThe lofty site offers the best \\n360° views of the island, with \\nsweeping vistas of Phuket \\nTown, Kata, and Karon beaches, \\nChalong Bay and more.\\nOld Phuket Town \\nThe Old Phuket Town is located \\nalong Thalang, Phang-nga, \\nYaowarat and Krabi roads. The \\nbeginning of the tin boom in the \\n19th century led to construction \\nof many fine mansions and shops \\nthat are still well preserved. The \\narchitectural style, typical of the \\nregion, is described as Sino-\\nPortuguese and has a strongly \\nMediterranean character. \\nThe Upside Down House\\nLocated on Bypass Road \\n(Chalermphrakiat Road), called \\nBan Teelanka in Thai, the pink \\nhouse stands upside down \\nand presents a fun attraction \\nfor families and kids. Open \\ndaily from 10am to 6pm. www.\\nupsidedownhouse-phuket.comWat Chalong\\nThe famous temple in Ph'"
      ]
     },
     "execution_count": 10,
     "metadata": {},
     "output_type": "execute_result"
    }
   ],
   "source": [
    "pdfreader = PdfReader('../data/Phuket.pdf')\n",
    "# read text from pdf\n",
    "raw_text = ''\n",
    "for i, page in enumerate(pdfreader.pages):\n",
    "    content = page.extract_text()\n",
    "    if content:\n",
    "        raw_text += content\n",
    "\n",
    "# Show first 1000 characters of the text.\n",
    "raw_text[:1000]"
   ]
  },
  {
   "cell_type": "code",
   "execution_count": 11,
   "metadata": {},
   "outputs": [
    {
     "data": {
      "text/plain": [
       "13"
      ]
     },
     "execution_count": 11,
     "metadata": {},
     "output_type": "execute_result"
    }
   ],
   "source": [
    "# Split the text into chunks of 1000 characters with 200 characters overlap.\n",
    "text_splitter = CharacterTextSplitter(        \n",
    "    separator = \"\\n\",\n",
    "    chunk_size = 800,\n",
    "    chunk_overlap  = 200,\n",
    "    length_function = len,\n",
    ")\n",
    "pdfTexts = text_splitter.split_text(raw_text)\n",
    "len(pdfTexts)"
   ]
  },
  {
   "cell_type": "code",
   "execution_count": 13,
   "metadata": {},
   "outputs": [],
   "source": [
    "EMBEDDINGS_DEPLOYMENT_NAME = \"text-embedding-ada-002\"\n",
    "EMBEDDINGS_API_VERSION = \"2023-08-01-preview\"\n",
    "\n",
    "embeddings = AzureOpenAIEmbeddings(\n",
    "    azure_deployment=EMBEDDINGS_DEPLOYMENT_NAME,\n",
    "    openai_api_version=EMBEDDINGS_API_VERSION,\n",
    ")"
   ]
  },
  {
   "cell_type": "code",
   "execution_count": 14,
   "metadata": {},
   "outputs": [],
   "source": [
    "document_search = FAISS.from_texts(pdfTexts, embeddings)\n"
   ]
  },
  {
   "cell_type": "code",
   "execution_count": 21,
   "metadata": {},
   "outputs": [],
   "source": [
    "DEPLOYMENT_NAME=\"gpt-35-turbo-instruct\"\n",
    "MODEL_NAME = \"gpt-35-turbo-instruct\"\n",
    "API_VERSION=\"2023-12-01-preview\"\n",
    "chain = load_qa_chain(AzureOpenAI(azure_deployment=DEPLOYMENT_NAME, model_name=MODEL_NAME, openai_api_version=API_VERSION), chain_type=\"stuff\")\n"
   ]
  },
  {
   "cell_type": "code",
   "execution_count": 24,
   "metadata": {},
   "outputs": [
    {
     "data": {
      "text/plain": [
       "{'input_documents': [Document(page_content='ascetic displays, including fire-walking and ascending sharp-bladed \\nladders. \\nLaguna Phuket Triathlon \\nHeld in December at Hat Bang Tao, the triathlon attracts athletes from \\nall over the world.\\nactivities\\nScuba Diving\\nExpeditions regularly leave Phuket \\nfor dives around neighbouring \\nislands, and further afield, \\nmost particularly around the \\nenduringly popular Phi Phi Islands \\nin neighbouring Krabi province \\nand the Similan Islands in Phang-\\nnga province. Diving in Phuket’s \\nwarm clear blue waters is best \\nfrom November to May, when \\nthe calm seas and rain free days \\nmake Phuket’s diving a truly unique \\nexperience. \\nSea Kayaking or Canoeing \\nThis form of ecotourism is offered, \\nas popular one-day tours or more \\nextended tours involving overnight \\ncamping on island beaches.'),\n",
       "  Document(page_content='experience. \\nSea Kayaking or Canoeing \\nThis form of ecotourism is offered, \\nas popular one-day tours or more \\nextended tours involving overnight \\ncamping on island beaches. \\nThe tours mainly take place in \\nneighbouring Phang-nga Bay and \\nKrabi province, where mangrove \\nswamps and island grottoes are \\naccessible only by kayak. \\nSnorkelling \\nThis can be enjoyed in sheltered \\nbays all around Phuket. It is \\nparticularly enjoyable at easily \\naccessible reefs at Patong, Karon \\nand Kata Beaches. Mask, snorkel \\nand fins can be rented on a daily \\nbasis from shops all over the island. Flying Hanuman Ziplining \\nExperience\\nFlying Hanuman is a zipline \\nadventure like no other. With \\n28 platforms in an established \\nforest, the Flying Humaman \\nprovides high ropes courses'),\n",
       "  Document(page_content='Experience\\nFlying Hanuman is a zipline \\nadventure like no other. With \\n28 platforms in an established \\nforest, the Flying Humaman \\nprovides high ropes courses \\nfor all ages and abilities.  (http://\\nwww.flyinghanuman.com” www.\\nflyinghanuman.com)\\n  \\nLocal Bike Tours\\nCycling tours along sandy Mai \\nKhao beach, down country \\nroads or past lush coconut \\ngroves teeming with wildlife \\nare available. There are half day \\ntours and full day mountain bike \\nadventures that will take you \\nthrough a variety of Phuket’s \\nscenic landscapes. \\nMuay Thai or Thai Boxing\\nPhuket is a great destination if \\nyou want to learn Muay Thai. \\nThere are many training camps \\nhere and they are open to all ages \\n(usually from 13 years upward) \\nand genders.\\nCooking Classes\\nThere are many Cooking Classes'),\n",
       "  Document(page_content='nightlife entertainment as well \\nas a beautiful Buddhist temple \\nhosting a weekly market.Dino Park Mini Golf\\nLocated between Karon and Kata Beaches, this 18-hole mini-golf \\ncourse uses the light and sound techniques to feature dinosaurs and \\nan erupting volcano. Great fun for all the family and best enjoyed after \\nthe heat of the day has subsided. Open daily from 10am to 11pm. \\nLaem Phromthep \\nLocated on the southernmost \\ntip of Phuket with a panoramic \\nview, this viewpoint is famous for \\nsunset watching. \\nPatong Beach Laem Phromthep\\nKata Beach\\nIslands in the Ao Phang-nga \\nNational Park in Phang-nga\\nThis marine national park consists \\nof around 300 islands and is \\nfamous for its classic karst \\nscenery (think James Bond \\nIsland). There are many activities \\nto enjoy around the islands, from')],\n",
       " 'question': 'What activities can do in Phuket?',\n",
       " 'output_text': ' Some activities you can do in Phuket include participating in the Laguna Phuket Triathlon, scuba diving, sea kayaking or canoeing, snorkeling, ziplining with Flying Hanuman, taking a local bike tour, learning Muay Thai, attending cooking classes, visiting Dino Park Mini Golf, watching the sunset at Laem Phromthep, and exploring the islands in Ao Phang-nga National Park.'}"
      ]
     },
     "execution_count": 24,
     "metadata": {},
     "output_type": "execute_result"
    }
   ],
   "source": [
    "inquiry = \"What activities can do in Phuket?\"\n",
    "docs = document_search.similarity_search(inquiry)\n",
    "chain.invoke({\"input_documents\": docs, \"question\":inquiry})"
   ]
  }
 ],
 "metadata": {
  "kernelspec": {
   "display_name": "venv",
   "language": "python",
   "name": "python3"
  },
  "language_info": {
   "codemirror_mode": {
    "name": "ipython",
    "version": 3
   },
   "file_extension": ".py",
   "mimetype": "text/x-python",
   "name": "python",
   "nbconvert_exporter": "python",
   "pygments_lexer": "ipython3",
   "version": "3.10.12"
  }
 },
 "nbformat": 4,
 "nbformat_minor": 2
}
