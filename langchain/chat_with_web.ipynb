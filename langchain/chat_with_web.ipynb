{
 "cells": [
  {
   "cell_type": "code",
   "execution_count": 7,
   "metadata": {},
   "outputs": [
    {
     "name": "stdout",
     "output_type": "stream",
     "text": [
      "Requirement already satisfied: langchain in /home/ythuang/venv/lib/python3.10/site-packages (0.1.4)\n",
      "Requirement already satisfied: langchain_openai in /home/ythuang/venv/lib/python3.10/site-packages (0.0.5)\n",
      "Requirement already satisfied: PyPDF2 in /home/ythuang/venv/lib/python3.10/site-packages (3.0.1)\n",
      "Requirement already satisfied: faiss-cpu in /home/ythuang/venv/lib/python3.10/site-packages (1.7.4)\n",
      "Requirement already satisfied: chromadb in /home/ythuang/venv/lib/python3.10/site-packages (0.4.22)\n",
      "Requirement already satisfied: google-api-core in /home/ythuang/venv/lib/python3.10/site-packages (2.16.0)\n",
      "Requirement already satisfied: google-api-python-client in /home/ythuang/venv/lib/python3.10/site-packages (2.115.0)\n",
      "Requirement already satisfied: google-auth in /home/ythuang/venv/lib/python3.10/site-packages (2.27.0)\n",
      "Requirement already satisfied: google-auth-httplib2 in /home/ythuang/venv/lib/python3.10/site-packages (0.2.0)\n",
      "Requirement already satisfied: googleapis-common-protos in /home/ythuang/venv/lib/python3.10/site-packages (1.61.0)\n",
      "Collecting html2text\n",
      "  Downloading html2text-2020.1.16-py3-none-any.whl (32 kB)\n",
      "Requirement already satisfied: SQLAlchemy<3,>=1.4 in /home/ythuang/venv/lib/python3.10/site-packages (from langchain) (2.0.25)\n",
      "Requirement already satisfied: dataclasses-json<0.7,>=0.5.7 in /home/ythuang/venv/lib/python3.10/site-packages (from langchain) (0.5.14)\n",
      "Requirement already satisfied: tenacity<9.0.0,>=8.1.0 in /home/ythuang/venv/lib/python3.10/site-packages (from langchain) (8.2.3)\n",
      "Requirement already satisfied: jsonpatch<2.0,>=1.33 in /home/ythuang/venv/lib/python3.10/site-packages (from langchain) (1.33)\n",
      "Requirement already satisfied: async-timeout<5.0.0,>=4.0.0 in /home/ythuang/venv/lib/python3.10/site-packages (from langchain) (4.0.3)\n",
      "Requirement already satisfied: PyYAML>=5.3 in /home/ythuang/venv/lib/python3.10/site-packages (from langchain) (6.0.1)\n",
      "Requirement already satisfied: requests<3,>=2 in /home/ythuang/venv/lib/python3.10/site-packages (from langchain) (2.31.0)\n",
      "Requirement already satisfied: aiohttp<4.0.0,>=3.8.3 in /home/ythuang/venv/lib/python3.10/site-packages (from langchain) (3.9.0)\n",
      "Requirement already satisfied: numpy<2,>=1 in /home/ythuang/venv/lib/python3.10/site-packages (from langchain) (1.26.2)\n",
      "Requirement already satisfied: langsmith<0.1,>=0.0.83 in /home/ythuang/venv/lib/python3.10/site-packages (from langchain) (0.0.84)\n",
      "Requirement already satisfied: langchain-community<0.1,>=0.0.14 in /home/ythuang/venv/lib/python3.10/site-packages (from langchain) (0.0.16)\n",
      "Requirement already satisfied: langchain-core<0.2,>=0.1.16 in /home/ythuang/venv/lib/python3.10/site-packages (from langchain) (0.1.16)\n",
      "Requirement already satisfied: pydantic<3,>=1 in /home/ythuang/venv/lib/python3.10/site-packages (from langchain) (2.5.2)\n",
      "Requirement already satisfied: tiktoken<0.6.0,>=0.5.2 in /home/ythuang/venv/lib/python3.10/site-packages (from langchain_openai) (0.5.2)\n",
      "Requirement already satisfied: openai<2.0.0,>=1.10.0 in /home/ythuang/venv/lib/python3.10/site-packages (from langchain_openai) (1.10.0)\n",
      "Requirement already satisfied: typing-extensions>=4.5.0 in /home/ythuang/venv/lib/python3.10/site-packages (from chromadb) (4.8.0)\n",
      "Requirement already satisfied: opentelemetry-instrumentation-fastapi>=0.41b0 in /home/ythuang/venv/lib/python3.10/site-packages (from chromadb) (0.43b0)\n",
      "Requirement already satisfied: pypika>=0.48.9 in /home/ythuang/venv/lib/python3.10/site-packages (from chromadb) (0.48.9)\n",
      "Requirement already satisfied: opentelemetry-api>=1.2.0 in /home/ythuang/venv/lib/python3.10/site-packages (from chromadb) (1.22.0)\n",
      "Requirement already satisfied: grpcio>=1.58.0 in /home/ythuang/venv/lib/python3.10/site-packages (from chromadb) (1.59.3)\n",
      "Requirement already satisfied: mmh3>=4.0.1 in /home/ythuang/venv/lib/python3.10/site-packages (from chromadb) (4.1.0)\n",
      "Requirement already satisfied: opentelemetry-sdk>=1.2.0 in /home/ythuang/venv/lib/python3.10/site-packages (from chromadb) (1.22.0)\n",
      "Requirement already satisfied: build>=1.0.3 in /home/ythuang/venv/lib/python3.10/site-packages (from chromadb) (1.0.3)\n",
      "Requirement already satisfied: importlib-resources in /home/ythuang/venv/lib/python3.10/site-packages (from chromadb) (6.1.1)\n",
      "Requirement already satisfied: opentelemetry-exporter-otlp-proto-grpc>=1.2.0 in /home/ythuang/venv/lib/python3.10/site-packages (from chromadb) (1.22.0)\n",
      "Requirement already satisfied: tqdm>=4.65.0 in /home/ythuang/venv/lib/python3.10/site-packages (from chromadb) (4.66.1)\n",
      "Requirement already satisfied: overrides>=7.3.1 in /home/ythuang/venv/lib/python3.10/site-packages (from chromadb) (7.7.0)\n",
      "Requirement already satisfied: typer>=0.9.0 in /home/ythuang/venv/lib/python3.10/site-packages (from chromadb) (0.9.0)\n",
      "Requirement already satisfied: bcrypt>=4.0.1 in /home/ythuang/venv/lib/python3.10/site-packages (from chromadb) (4.1.2)\n",
      "Requirement already satisfied: uvicorn[standard]>=0.18.3 in /home/ythuang/venv/lib/python3.10/site-packages (from chromadb) (0.25.0)\n",
      "Requirement already satisfied: pulsar-client>=3.1.0 in /home/ythuang/venv/lib/python3.10/site-packages (from chromadb) (3.4.0)\n",
      "Requirement already satisfied: fastapi>=0.95.2 in /home/ythuang/venv/lib/python3.10/site-packages (from chromadb) (0.100.1)\n",
      "Requirement already satisfied: posthog>=2.4.0 in /home/ythuang/venv/lib/python3.10/site-packages (from chromadb) (3.3.3)\n",
      "Requirement already satisfied: onnxruntime>=1.14.1 in /home/ythuang/venv/lib/python3.10/site-packages (from chromadb) (1.16.3)\n",
      "Requirement already satisfied: kubernetes>=28.1.0 in /home/ythuang/venv/lib/python3.10/site-packages (from chromadb) (29.0.0)\n",
      "Requirement already satisfied: chroma-hnswlib==0.7.3 in /home/ythuang/venv/lib/python3.10/site-packages (from chromadb) (0.7.3)\n",
      "Requirement already satisfied: tokenizers>=0.13.2 in /home/ythuang/venv/lib/python3.10/site-packages (from chromadb) (0.15.1)\n",
      "Requirement already satisfied: protobuf!=3.20.0,!=3.20.1,!=4.21.0,!=4.21.1,!=4.21.2,!=4.21.3,!=4.21.4,!=4.21.5,<5.0.0.dev0,>=3.19.5 in /home/ythuang/venv/lib/python3.10/site-packages (from google-api-core) (4.25.1)\n",
      "Requirement already satisfied: httplib2<1.dev0,>=0.15.0 in /home/ythuang/venv/lib/python3.10/site-packages (from google-api-python-client) (0.22.0)\n",
      "Requirement already satisfied: uritemplate<5,>=3.0.1 in /home/ythuang/venv/lib/python3.10/site-packages (from google-api-python-client) (4.1.1)\n",
      "Requirement already satisfied: cachetools<6.0,>=2.0.0 in /home/ythuang/venv/lib/python3.10/site-packages (from google-auth) (5.3.2)\n",
      "Requirement already satisfied: pyasn1-modules>=0.2.1 in /home/ythuang/venv/lib/python3.10/site-packages (from google-auth) (0.3.0)\n",
      "Requirement already satisfied: rsa<5,>=3.1.4 in /home/ythuang/venv/lib/python3.10/site-packages (from google-auth) (4.9)\n",
      "Requirement already satisfied: frozenlist>=1.1.1 in /home/ythuang/venv/lib/python3.10/site-packages (from aiohttp<4.0.0,>=3.8.3->langchain) (1.4.0)\n",
      "Requirement already satisfied: multidict<7.0,>=4.5 in /home/ythuang/venv/lib/python3.10/site-packages (from aiohttp<4.0.0,>=3.8.3->langchain) (6.0.4)\n",
      "Requirement already satisfied: aiosignal>=1.1.2 in /home/ythuang/venv/lib/python3.10/site-packages (from aiohttp<4.0.0,>=3.8.3->langchain) (1.3.1)\n",
      "Requirement already satisfied: yarl<2.0,>=1.0 in /home/ythuang/venv/lib/python3.10/site-packages (from aiohttp<4.0.0,>=3.8.3->langchain) (1.9.3)\n",
      "Requirement already satisfied: attrs>=17.3.0 in /home/ythuang/venv/lib/python3.10/site-packages (from aiohttp<4.0.0,>=3.8.3->langchain) (23.1.0)\n",
      "Requirement already satisfied: pyproject_hooks in /home/ythuang/venv/lib/python3.10/site-packages (from build>=1.0.3->chromadb) (1.0.0)\n",
      "Requirement already satisfied: packaging>=19.0 in /home/ythuang/venv/lib/python3.10/site-packages (from build>=1.0.3->chromadb) (23.2)\n",
      "Requirement already satisfied: tomli>=1.1.0 in /home/ythuang/venv/lib/python3.10/site-packages (from build>=1.0.3->chromadb) (2.0.1)\n",
      "Requirement already satisfied: marshmallow<4.0.0,>=3.18.0 in /home/ythuang/venv/lib/python3.10/site-packages (from dataclasses-json<0.7,>=0.5.7->langchain) (3.20.1)\n",
      "Requirement already satisfied: typing-inspect<1,>=0.4.0 in /home/ythuang/venv/lib/python3.10/site-packages (from dataclasses-json<0.7,>=0.5.7->langchain) (0.9.0)\n",
      "Requirement already satisfied: starlette<0.28.0,>=0.27.0 in /home/ythuang/venv/lib/python3.10/site-packages (from fastapi>=0.95.2->chromadb) (0.27.0)\n",
      "Requirement already satisfied: pyparsing!=3.0.0,!=3.0.1,!=3.0.2,!=3.0.3,<4,>=2.4.2 in /home/ythuang/venv/lib/python3.10/site-packages (from httplib2<1.dev0,>=0.15.0->google-api-python-client) (3.1.1)\n",
      "Requirement already satisfied: jsonpointer>=1.9 in /home/ythuang/venv/lib/python3.10/site-packages (from jsonpatch<2.0,>=1.33->langchain) (2.4)\n",
      "Requirement already satisfied: python-dateutil>=2.5.3 in /home/ythuang/venv/lib/python3.10/site-packages (from kubernetes>=28.1.0->chromadb) (2.8.2)\n",
      "Requirement already satisfied: certifi>=14.05.14 in /home/ythuang/venv/lib/python3.10/site-packages (from kubernetes>=28.1.0->chromadb) (2023.11.17)\n",
      "Requirement already satisfied: requests-oauthlib in /home/ythuang/venv/lib/python3.10/site-packages (from kubernetes>=28.1.0->chromadb) (1.3.1)\n",
      "Requirement already satisfied: oauthlib>=3.2.2 in /home/ythuang/venv/lib/python3.10/site-packages (from kubernetes>=28.1.0->chromadb) (3.2.2)\n",
      "Requirement already satisfied: six>=1.9.0 in /home/ythuang/venv/lib/python3.10/site-packages (from kubernetes>=28.1.0->chromadb) (1.16.0)\n",
      "Requirement already satisfied: urllib3>=1.24.2 in /home/ythuang/venv/lib/python3.10/site-packages (from kubernetes>=28.1.0->chromadb) (2.1.0)\n",
      "Requirement already satisfied: websocket-client!=0.40.0,!=0.41.*,!=0.42.*,>=0.32.0 in /home/ythuang/venv/lib/python3.10/site-packages (from kubernetes>=28.1.0->chromadb) (1.6.4)\n",
      "Requirement already satisfied: anyio<5,>=3 in /home/ythuang/venv/lib/python3.10/site-packages (from langchain-core<0.2,>=0.1.16->langchain) (3.7.1)\n",
      "Requirement already satisfied: flatbuffers in /home/ythuang/venv/lib/python3.10/site-packages (from onnxruntime>=1.14.1->chromadb) (23.5.26)\n",
      "Requirement already satisfied: sympy in /home/ythuang/venv/lib/python3.10/site-packages (from onnxruntime>=1.14.1->chromadb) (1.12)\n",
      "Requirement already satisfied: coloredlogs in /home/ythuang/venv/lib/python3.10/site-packages (from onnxruntime>=1.14.1->chromadb) (15.0.1)\n",
      "Requirement already satisfied: distro<2,>=1.7.0 in /home/ythuang/venv/lib/python3.10/site-packages (from openai<2.0.0,>=1.10.0->langchain_openai) (1.8.0)\n",
      "Requirement already satisfied: sniffio in /home/ythuang/venv/lib/python3.10/site-packages (from openai<2.0.0,>=1.10.0->langchain_openai) (1.3.0)\n",
      "Requirement already satisfied: httpx<1,>=0.23.0 in /home/ythuang/venv/lib/python3.10/site-packages (from openai<2.0.0,>=1.10.0->langchain_openai) (0.24.1)\n",
      "Requirement already satisfied: importlib-metadata<7.0,>=6.0 in /home/ythuang/venv/lib/python3.10/site-packages (from opentelemetry-api>=1.2.0->chromadb) (6.8.0)\n",
      "Requirement already satisfied: deprecated>=1.2.6 in /home/ythuang/venv/lib/python3.10/site-packages (from opentelemetry-api>=1.2.0->chromadb) (1.2.14)\n",
      "Requirement already satisfied: opentelemetry-exporter-otlp-proto-common==1.22.0 in /home/ythuang/venv/lib/python3.10/site-packages (from opentelemetry-exporter-otlp-proto-grpc>=1.2.0->chromadb) (1.22.0)\n",
      "Requirement already satisfied: backoff<3.0.0,>=1.10.0 in /home/ythuang/venv/lib/python3.10/site-packages (from opentelemetry-exporter-otlp-proto-grpc>=1.2.0->chromadb) (2.2.1)\n",
      "Requirement already satisfied: opentelemetry-proto==1.22.0 in /home/ythuang/venv/lib/python3.10/site-packages (from opentelemetry-exporter-otlp-proto-grpc>=1.2.0->chromadb) (1.22.0)\n",
      "Requirement already satisfied: opentelemetry-instrumentation==0.43b0 in /home/ythuang/venv/lib/python3.10/site-packages (from opentelemetry-instrumentation-fastapi>=0.41b0->chromadb) (0.43b0)\n",
      "Requirement already satisfied: opentelemetry-semantic-conventions==0.43b0 in /home/ythuang/venv/lib/python3.10/site-packages (from opentelemetry-instrumentation-fastapi>=0.41b0->chromadb) (0.43b0)\n",
      "Requirement already satisfied: opentelemetry-instrumentation-asgi==0.43b0 in /home/ythuang/venv/lib/python3.10/site-packages (from opentelemetry-instrumentation-fastapi>=0.41b0->chromadb) (0.43b0)\n",
      "Requirement already satisfied: opentelemetry-util-http==0.43b0 in /home/ythuang/venv/lib/python3.10/site-packages (from opentelemetry-instrumentation-fastapi>=0.41b0->chromadb) (0.43b0)\n",
      "Requirement already satisfied: setuptools>=16.0 in /home/ythuang/venv/lib/python3.10/site-packages (from opentelemetry-instrumentation==0.43b0->opentelemetry-instrumentation-fastapi>=0.41b0->chromadb) (59.6.0)\n",
      "Requirement already satisfied: wrapt<2.0.0,>=1.0.0 in /home/ythuang/venv/lib/python3.10/site-packages (from opentelemetry-instrumentation==0.43b0->opentelemetry-instrumentation-fastapi>=0.41b0->chromadb) (1.16.0)\n",
      "Requirement already satisfied: asgiref~=3.0 in /home/ythuang/venv/lib/python3.10/site-packages (from opentelemetry-instrumentation-asgi==0.43b0->opentelemetry-instrumentation-fastapi>=0.41b0->chromadb) (3.7.2)\n",
      "Requirement already satisfied: monotonic>=1.5 in /home/ythuang/venv/lib/python3.10/site-packages (from posthog>=2.4.0->chromadb) (1.6)\n",
      "Requirement already satisfied: pyasn1<0.6.0,>=0.4.6 in /home/ythuang/venv/lib/python3.10/site-packages (from pyasn1-modules>=0.2.1->google-auth) (0.5.1)\n",
      "Requirement already satisfied: pydantic-core==2.14.5 in /home/ythuang/venv/lib/python3.10/site-packages (from pydantic<3,>=1->langchain) (2.14.5)\n",
      "Requirement already satisfied: annotated-types>=0.4.0 in /home/ythuang/venv/lib/python3.10/site-packages (from pydantic<3,>=1->langchain) (0.6.0)\n",
      "Requirement already satisfied: charset-normalizer<4,>=2 in /home/ythuang/venv/lib/python3.10/site-packages (from requests<3,>=2->langchain) (3.3.2)\n",
      "Requirement already satisfied: idna<4,>=2.5 in /home/ythuang/venv/lib/python3.10/site-packages (from requests<3,>=2->langchain) (3.4)\n",
      "Requirement already satisfied: greenlet!=0.4.17 in /home/ythuang/venv/lib/python3.10/site-packages (from SQLAlchemy<3,>=1.4->langchain) (3.0.3)\n",
      "Requirement already satisfied: regex>=2022.1.18 in /home/ythuang/venv/lib/python3.10/site-packages (from tiktoken<0.6.0,>=0.5.2->langchain_openai) (2023.10.3)\n",
      "Requirement already satisfied: huggingface_hub<1.0,>=0.16.4 in /home/ythuang/venv/lib/python3.10/site-packages (from tokenizers>=0.13.2->chromadb) (0.20.3)\n",
      "Requirement already satisfied: click<9.0.0,>=7.1.1 in /home/ythuang/venv/lib/python3.10/site-packages (from typer>=0.9.0->chromadb) (8.1.7)\n",
      "Requirement already satisfied: h11>=0.8 in /home/ythuang/venv/lib/python3.10/site-packages (from uvicorn[standard]>=0.18.3->chromadb) (0.14.0)\n",
      "Requirement already satisfied: python-dotenv>=0.13 in /home/ythuang/venv/lib/python3.10/site-packages (from uvicorn[standard]>=0.18.3->chromadb) (1.0.0)\n",
      "Requirement already satisfied: websockets>=10.4 in /home/ythuang/venv/lib/python3.10/site-packages (from uvicorn[standard]>=0.18.3->chromadb) (12.0)\n",
      "Requirement already satisfied: httptools>=0.5.0 in /home/ythuang/venv/lib/python3.10/site-packages (from uvicorn[standard]>=0.18.3->chromadb) (0.6.1)\n",
      "Requirement already satisfied: uvloop!=0.15.0,!=0.15.1,>=0.14.0 in /home/ythuang/venv/lib/python3.10/site-packages (from uvicorn[standard]>=0.18.3->chromadb) (0.19.0)\n",
      "Requirement already satisfied: watchfiles>=0.13 in /home/ythuang/venv/lib/python3.10/site-packages (from uvicorn[standard]>=0.18.3->chromadb) (0.20.0)\n",
      "Requirement already satisfied: exceptiongroup in /home/ythuang/venv/lib/python3.10/site-packages (from anyio<5,>=3->langchain-core<0.2,>=0.1.16->langchain) (1.2.0)\n",
      "Requirement already satisfied: httpcore<0.18.0,>=0.15.0 in /home/ythuang/venv/lib/python3.10/site-packages (from httpx<1,>=0.23.0->openai<2.0.0,>=1.10.0->langchain_openai) (0.17.3)\n",
      "Requirement already satisfied: filelock in /home/ythuang/venv/lib/python3.10/site-packages (from huggingface_hub<1.0,>=0.16.4->tokenizers>=0.13.2->chromadb) (3.13.1)\n",
      "Requirement already satisfied: fsspec>=2023.5.0 in /home/ythuang/venv/lib/python3.10/site-packages (from huggingface_hub<1.0,>=0.16.4->tokenizers>=0.13.2->chromadb) (2023.12.2)\n",
      "Requirement already satisfied: zipp>=0.5 in /home/ythuang/venv/lib/python3.10/site-packages (from importlib-metadata<7.0,>=6.0->opentelemetry-api>=1.2.0->chromadb) (3.17.0)\n",
      "Requirement already satisfied: mypy-extensions>=0.3.0 in /home/ythuang/venv/lib/python3.10/site-packages (from typing-inspect<1,>=0.4.0->dataclasses-json<0.7,>=0.5.7->langchain) (1.0.0)\n",
      "Requirement already satisfied: humanfriendly>=9.1 in /home/ythuang/venv/lib/python3.10/site-packages (from coloredlogs->onnxruntime>=1.14.1->chromadb) (10.0)\n",
      "Requirement already satisfied: mpmath>=0.19 in /home/ythuang/venv/lib/python3.10/site-packages (from sympy->onnxruntime>=1.14.1->chromadb) (1.3.0)\n",
      "Installing collected packages: html2text\n",
      "Successfully installed html2text-2020.1.16\n",
      "Note: you may need to restart the kernel to use updated packages.\n"
     ]
    }
   ],
   "source": [
    "%pip install langchain langchain_openai PyPDF2 faiss-cpu chromadb google-api-core google-api-python-client google-auth google-auth-httplib2 googleapis-common-protos html2text"
   ]
  },
  {
   "cell_type": "code",
   "execution_count": 1,
   "metadata": {},
   "outputs": [
    {
     "data": {
      "text/plain": [
       "True"
      ]
     },
     "execution_count": 1,
     "metadata": {},
     "output_type": "execute_result"
    }
   ],
   "source": [
    "from langchain.retrievers.web_research import WebResearchRetriever\n",
    "from langchain_community.utilities import GoogleSearchAPIWrapper\n",
    "from langchain_community.vectorstores import Chroma\n",
    "from langchain_openai import AzureChatOpenAI, AzureOpenAIEmbeddings\n",
    "from dotenv import load_dotenv\n",
    "\n",
    "EMBEDDINGS_DEPLOYMENT_NAME = \"text-embedding-ada-002\"\n",
    "EMBEDDINGS_API_VERSION = \"2023-08-01-preview\"\n",
    "\n",
    "DEPLOYMENT_NAME=\"gpt-35-turbo\"\n",
    "MODEL_NAME = \"gpt-35-turbo\"\n",
    "API_VERSION=\"2023-12-01-preview\"\n",
    "\n",
    "load_dotenv()"
   ]
  },
  {
   "cell_type": "code",
   "execution_count": 2,
   "metadata": {},
   "outputs": [],
   "source": [
    "# Vectorstore\n",
    "vectorstore = Chroma(\n",
    "    embedding_function=AzureOpenAIEmbeddings(\n",
    "        azure_deployment=EMBEDDINGS_DEPLOYMENT_NAME,\n",
    "        openai_api_version=EMBEDDINGS_API_VERSION), \n",
    "        persist_directory=\"./chroma_db_oai\"\n",
    ")\n",
    "\n",
    "# LLM\n",
    "llm = AzureChatOpenAI(\n",
    "    azure_deployment=DEPLOYMENT_NAME, \n",
    "    model_name=MODEL_NAME, \n",
    "    openai_api_version=API_VERSION,\n",
    "    temperature=0)\n",
    "\n",
    "# Search\n",
    "search = GoogleSearchAPIWrapper()"
   ]
  },
  {
   "cell_type": "code",
   "execution_count": 4,
   "metadata": {},
   "outputs": [],
   "source": [
    "# Initialize\n",
    "web_research_retriever = WebResearchRetriever.from_llm(\n",
    "    vectorstore=vectorstore, llm=llm, search=search\n",
    ")"
   ]
  },
  {
   "cell_type": "code",
   "execution_count": 7,
   "metadata": {},
   "outputs": [
    {
     "name": "stderr",
     "output_type": "stream",
     "text": [
      "INFO:langchain.retrievers.web_research:Generating questions for Google Search ...\n"
     ]
    },
    {
     "name": "stderr",
     "output_type": "stream",
     "text": [
      "INFO:langchain.retrievers.web_research:Questions for Google Search (raw): {'question': 'How do LLM Powered Autonomous Agents work?', 'text': LineList(lines=['1. What is the functioning principle of LLM Powered Autonomous Agents?\\n', '2. How do LLM Powered Autonomous Agents operate?\\n', '3. Can you explain the working mechanism of LLM Powered Autonomous Agents?'])}\n",
      "INFO:langchain.retrievers.web_research:Questions for Google Search: ['1. What is the functioning principle of LLM Powered Autonomous Agents?\\n', '2. How do LLM Powered Autonomous Agents operate?\\n', '3. Can you explain the working mechanism of LLM Powered Autonomous Agents?']\n",
      "INFO:langchain.retrievers.web_research:Searching for relevant urls...\n",
      "INFO:langchain.retrievers.web_research:Searching for relevant urls...\n",
      "INFO:langchain.retrievers.web_research:Search results: [{'title': \"LLM Powered Autonomous Agents | Lil'Log\", 'link': 'https://lilianweng.github.io/posts/2023-06-23-agent/', 'snippet': 'Jun 23, 2023 ... 1. Overview of a LLM-powered autonomous agent system. Component One: Planning#. A complicated task usually involves many steps. An agent needs\\xa0...'}]\n",
      "INFO:langchain.retrievers.web_research:Searching for relevant urls...\n",
      "INFO:langchain.retrievers.web_research:Search results: [{'title': \"LLM Powered Autonomous Agents | Lil'Log\", 'link': 'https://lilianweng.github.io/posts/2023-06-23-agent/', 'snippet': 'Jun 23, 2023 ... (1) Task planning: LLM works as the brain and parses the user requests into multiple tasks. There are four attributes associated with each task:\\xa0...'}]\n",
      "INFO:langchain.retrievers.web_research:Searching for relevant urls...\n",
      "INFO:langchain.retrievers.web_research:Search results: [{'title': \"LLM Powered Autonomous Agents | Lil'Log\", 'link': 'https://lilianweng.github.io/posts/2023-06-23-agent/', 'snippet': 'Jun 23, 2023 ... Overview of a LLM-powered autonomous agent system. Component One: Planning#. A complicated task usually involves many steps. An agent needs to\\xa0...'}]\n",
      "INFO:langchain.retrievers.web_research:New URLs to load: []\n",
      "INFO:langchain.retrievers.web_research:Grabbing most relevant splits from urls...\n"
     ]
    },
    {
     "data": {
      "text/plain": [
       "{'question': 'How do LLM Powered Autonomous Agents work?',\n",
       " 'answer': \"LLM-powered autonomous agents work by utilizing LLM as the agent's brain, along with several key components such as planning, memory, and tool use. In terms of planning, the agent breaks down large tasks into smaller subgoals and can reflect on past actions to improve future results. The agent also utilizes short-term and long-term memory to learn and retain information. Additionally, the agent can call external APIs for additional information. The design of generative agents combines LLM with memory, planning, and reflection mechanisms to enable agents to behave based on past experience and interact with other agents.\\n\",\n",
       " 'sources': '',\n",
       " 'source_documents': [Document(page_content=\"# Agent System Overview#\\n\\nIn a LLM-powered autonomous agent system, LLM functions as the agent's brain,\\ncomplemented by several key components:\\n\\n  * **Planning**\\n    * Subgoal and decomposition: The agent breaks down large tasks into smaller, manageable subgoals, enabling efficient handling of complex tasks.\\n    * Reflection and refinement: The agent can do self-criticism and self-reflection over past actions, learn from mistakes and refine them for future steps, thereby improving the quality of final results.\\n  * **Memory**\\n    * Short-term memory: I would consider all the in-context learning (See Prompt Engineering) as utilizing short-term memory of the model to learn.\\n    * Long-term memory: This provides the agent with the capability to retain and recall (infinite) information over extended periods, often by leveraging an external vector store and fast retrieval.\\n  * **Tool use**\\n    * The agent learns to call external APIs for extra information that is missing from the model weights (often hard to change after pre-training), including current information, code execution capability, access to proprietary information sources and more.\\n\\nFig. 1. Overview of a LLM-powered autonomous agent system.\\n\\n# Component One: Planning#\\n\\nA complicated task usually involves many steps. An agent needs to know what\\nthey are and plan ahead.\\n\\n## Task Decomposition#\", metadata={'description': 'Building agents with LLM (large language model) as its core controller is a cool concept. Several proof-of-concepts demos, such as AutoGPT, GPT-Engineer and BabyAGI, serve as inspiring examples. The potentiality of LLM extends beyond generating well-written copies, stories, essays and programs; it can be framed as a powerful general problem solver.\\nAgent System Overview In a LLM-powered autonomous agent system, LLM functions as the agent’s brain, complemented by several key components:', 'language': 'en', 'source': 'https://lilianweng.github.io/posts/2023-06-23-agent/', 'title': \"LLM Powered Autonomous Agents | Lil'Log\"}),\n",
       "  Document(page_content='The design of generative agents combines LLM with memory, planning and\\nreflection mechanisms to enable agents to behave conditioned on past\\nexperience, as well as to interact with other agents.', metadata={'description': 'Building agents with LLM (large language model) as its core controller is a cool concept. Several proof-of-concepts demos, such as AutoGPT, GPT-Engineer and BabyAGI, serve as inspiring examples. The potentiality of LLM extends beyond generating well-written copies, stories, essays and programs; it can be framed as a powerful general problem solver.\\nAgent System Overview In a LLM-powered autonomous agent system, LLM functions as the agent’s brain, complemented by several key components:', 'language': 'en', 'source': 'https://lilianweng.github.io/posts/2023-06-23-agent/', 'title': \"LLM Powered Autonomous Agents | Lil'Log\"})]}"
      ]
     },
     "execution_count": 7,
     "metadata": {},
     "output_type": "execute_result"
    }
   ],
   "source": [
    "import logging\n",
    "\n",
    "logging.basicConfig()\n",
    "logging.getLogger(\"langchain.retrievers.web_research\").setLevel(logging.INFO)\n",
    "from langchain.chains import RetrievalQAWithSourcesChain\n",
    "\n",
    "user_input = \"How do LLM Powered Autonomous Agents work?\"\n",
    "qa_chain = RetrievalQAWithSourcesChain.from_chain_type(\n",
    "    llm, retriever=web_research_retriever, return_source_documents=True\n",
    ")\n",
    "\n",
    "qa_chain.invoke({\"question\": user_input})\n"
   ]
  }
 ],
 "metadata": {
  "kernelspec": {
   "display_name": "venv",
   "language": "python",
   "name": "python3"
  },
  "language_info": {
   "codemirror_mode": {
    "name": "ipython",
    "version": 3
   },
   "file_extension": ".py",
   "mimetype": "text/x-python",
   "name": "python",
   "nbconvert_exporter": "python",
   "pygments_lexer": "ipython3",
   "version": "3.10.12"
  }
 },
 "nbformat": 4,
 "nbformat_minor": 2
}
