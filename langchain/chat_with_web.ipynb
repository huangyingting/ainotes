{
 "cells": [
  {
   "cell_type": "code",
   "execution_count": 3,
   "metadata": {},
   "outputs": [
    {
     "name": "stdout",
     "output_type": "stream",
     "text": [
      "Note: you may need to restart the kernel to use updated packages.\n"
     ]
    }
   ],
   "source": [
    "%pip install langchain langchain_openai PyPDF2 faiss-cpu chromadb google-api-core google-api-python-client google-auth google-auth-httplib2 googleapis-common-protos html2text --quiet"
   ]
  },
  {
   "cell_type": "code",
   "execution_count": 4,
   "metadata": {},
   "outputs": [
    {
     "data": {
      "text/plain": [
       "True"
      ]
     },
     "execution_count": 4,
     "metadata": {},
     "output_type": "execute_result"
    }
   ],
   "source": [
    "from langchain.retrievers.web_research import WebResearchRetriever\n",
    "from langchain_community.utilities import GoogleSearchAPIWrapper\n",
    "from langchain_community.vectorstores import Chroma\n",
    "from langchain_openai import AzureChatOpenAI, AzureOpenAIEmbeddings\n",
    "from dotenv import load_dotenv\n",
    "\n",
    "EMBEDDINGS_DEPLOYMENT_NAME = \"text-embedding-ada-002\"\n",
    "EMBEDDINGS_API_VERSION = \"2023-08-01-preview\"\n",
    "\n",
    "DEPLOYMENT_NAME=\"gpt-35-turbo\"\n",
    "MODEL_NAME = \"gpt-35-turbo\"\n",
    "API_VERSION=\"2023-12-01-preview\"\n",
    "\n",
    "load_dotenv()"
   ]
  },
  {
   "cell_type": "code",
   "execution_count": 5,
   "metadata": {},
   "outputs": [],
   "source": [
    "# Vectorstore\n",
    "vectorstore = Chroma(\n",
    "    embedding_function=AzureOpenAIEmbeddings(\n",
    "        azure_deployment=EMBEDDINGS_DEPLOYMENT_NAME,\n",
    "        openai_api_version=EMBEDDINGS_API_VERSION), \n",
    "        persist_directory=\"./chroma_db_oai\"\n",
    ")\n",
    "\n",
    "# LLM\n",
    "llm = AzureChatOpenAI(\n",
    "    azure_deployment=DEPLOYMENT_NAME, \n",
    "    model_name=MODEL_NAME, \n",
    "    openai_api_version=API_VERSION,\n",
    "    temperature=0)\n",
    "\n",
    "# Search\n",
    "search = GoogleSearchAPIWrapper()"
   ]
  },
  {
   "cell_type": "code",
   "execution_count": 6,
   "metadata": {},
   "outputs": [],
   "source": [
    "# Initialize\n",
    "web_research_retriever = WebResearchRetriever.from_llm(\n",
    "    vectorstore=vectorstore, llm=llm, search=search\n",
    ")"
   ]
  },
  {
   "cell_type": "code",
   "execution_count": 8,
   "metadata": {},
   "outputs": [
    {
     "name": "stderr",
     "output_type": "stream",
     "text": [
      "INFO:langchain.retrievers.web_research:Generating questions for Google Search ...\n",
      "INFO:langchain.retrievers.web_research:Questions for Google Search (raw): {'question': 'Does Azure ExpressRoute support multiple circuits in same peering location from same ISP?', 'text': ['1. Can Azure ExpressRoute accommodate multiple circuits from the same ISP at the same peering location?\\n', '2. Is it possible to have multiple circuits from the same ISP in the same peering location with Azure ExpressRoute?\\n', '3. Does Azure ExpressRoute allow for multiple circuits from the same ISP to be used in the same peering location?']}\n",
      "INFO:langchain.retrievers.web_research:Questions for Google Search: ['1. Can Azure ExpressRoute accommodate multiple circuits from the same ISP at the same peering location?\\n', '2. Is it possible to have multiple circuits from the same ISP in the same peering location with Azure ExpressRoute?\\n', '3. Does Azure ExpressRoute allow for multiple circuits from the same ISP to be used in the same peering location?']\n",
      "INFO:langchain.retrievers.web_research:Searching for relevant urls...\n",
      "INFO:langchain.retrievers.web_research:Searching for relevant urls...\n",
      "INFO:langchain.retrievers.web_research:Search results: [{'title': 'Comparing Private Connectivity of AWS, Azure, and GCP | Megaport', 'link': 'https://www.megaport.com/blog/comparing-cloud-providers-private-connectivity/', 'snippet': 'Oct 8, 2020 ... With the standard ExpressRoute, you can connect multiple VNets within the same geographical region to a single ExpressRoute circuit and can\\xa0...'}]\n",
      "INFO:langchain.retrievers.web_research:Searching for relevant urls...\n",
      "INFO:langchain.retrievers.web_research:Search results: [{'title': 'FAQ - Azure ExpressRoute | Microsoft Learn', 'link': 'https://learn.microsoft.com/en-us/azure/expressroute/expressroute-faqs', 'snippet': 'Nov 28, 2023 ... Multiple ExpressRoute circuits from different peering locations or up to four connections from the same peering location can be connected to the\\xa0...'}]\n",
      "INFO:langchain.retrievers.web_research:Searching for relevant urls...\n",
      "INFO:langchain.retrievers.web_research:Search results: [{'title': 'FAQ - Azure ExpressRoute | Microsoft Learn', 'link': 'https://learn.microsoft.com/en-us/azure/expressroute/expressroute-faqs', 'snippet': 'Nov 28, 2023 ... Each ExpressRoute circuit is associated with one service provider only. I see two ExpressRoute peering locations in the same metro, for example,\\xa0...'}]\n",
      "INFO:langchain.retrievers.web_research:New URLs to load: []\n",
      "INFO:langchain.retrievers.web_research:Grabbing most relevant splits from urls...\n"
     ]
    },
    {
     "name": "stdout",
     "output_type": "stream",
     "text": [
      "{'question': 'Does Azure ExpressRoute support multiple circuits in same peering location from same ISP?', 'answer': 'Yes. You can have multiple ExpressRoute circuits with the same or different service providers. If the metro has multiple ExpressRoute peering locations and the circuits are created at different peering locations, you can link them to the same virtual network. If the circuits are created at the same peering location, you can link up to four circuits to the same virtual network.\\n', 'sources': 'https://learn.microsoft.com/en-us/azure/expressroute/expressroute-faqs', 'source_documents': [Document(page_content='### Can I have ExpressRoute circuits from different service providers?\\n\\nYes. You can have ExpressRoute circuits with many service providers. Each\\nExpressRoute circuit is associated with one service provider only.\\n\\n### I see two ExpressRoute peering locations in the same metro, for example,\\nSingapore and Singapore2. Which peering location should I choose to create my\\nExpressRoute circuit?\\n\\nIf your service provider offers ExpressRoute at both sites, you can work with\\nyour provider and pick either site to set up ExpressRoute.\\n\\n### Can I have multiple ExpressRoute circuits in the same metro? Can I link\\nthem to the same virtual network?\\n\\nYes. You can have multiple ExpressRoute circuits with the same or different\\nservice providers. If the metro has multiple ExpressRoute peering locations\\nand the circuits are created at different peering locations, you can link them\\nto the same virtual network. If the circuits are created at the same peering\\nlocation, you can link up to four circuits to the same virtual network.\\n\\n### How do I connect my virtual networks to an ExpressRoute circuit?\\n\\nThe basic steps are:\\n\\n  * Establish an ExpressRoute circuit and have the service provider enable it.\\n  * You, or the provider, must configure the BGP peering(s).\\n  * Link the virtual network to the ExpressRoute circuit.\\n\\nFor more information, see ExpressRoute workflows for circuit provisioning and\\ncircuit states.\\n\\n### Are there connectivity boundaries for my ExpressRoute circuit?', metadata={'description': 'The ExpressRoute FAQ contains information about Supported Azure Services, Cost, Data and Connections, SLA, Providers and Locations, Bandwidth, and other Technical Details.', 'language': 'en-us', 'source': 'https://learn.microsoft.com/en-us/azure/expressroute/expressroute-faqs', 'title': 'FAQ - Azure ExpressRoute | Microsoft Learn'}), Document(page_content=\"For more information, see sharing an ExpressRoute circuit across multiple\\nsubscriptions.\\n\\n### I have multiple Azure subscriptions associated to different Microsoft\\nEntra tenants or Enterprise Agreement enrollments. Can I connect virtual\\nnetworks that are in separate tenants and enrollments to a single ExpressRoute\\ncircuit not in the same tenant or enrollment?\\n\\nYes. ExpressRoute authorizations can span subscription, tenant, and enrollment\\nboundaries with no extra configuration required. Connectivity and bandwidth\\ncharges for the dedicated circuit gets applied to the ExpressRoute circuit\\nowner and all virtual networks share the same bandwidth.\\n\\nFor more information, see sharing an ExpressRoute circuit across multiple\\nsubscriptions.\\n\\n### Are virtual networks connected to the same circuit isolated from each\\nother?\\n\\nNo. From a routing perspective, all virtual networks linked to the same\\nExpressRoute circuit are part of the same routing domain and aren't isolated\\nfrom each other. If you need route isolation, you need to create a separate\\nExpressRoute circuit.\\n\\n### Can a virtual network connect to more than one ExpressRoute circuit?\\n\\nYes. You can link a single virtual network with up to four ExpressRoute\\ncircuits in the same location or up to 16 ExpressRoute circuits in different\\npeering locations.\\n\\n### Do virtual networks connected to ExpressRoute circuits have Internet\\nconnectivity?\", metadata={'description': 'The ExpressRoute FAQ contains information about Supported Azure Services, Cost, Data and Connections, SLA, Providers and Locations, Bandwidth, and other Technical Details.', 'language': 'en-us', 'source': 'https://learn.microsoft.com/en-us/azure/expressroute/expressroute-faqs', 'title': 'FAQ - Azure ExpressRoute | Microsoft Learn'}), Document(page_content='See here for designing for high availability.\\n\\n### How can I ensure high availability for a virtual network connected to\\nExpressRoute?\\n\\nYou can achieve high availability by connecting up to 4 ExpressRoute circuits\\nin the same peering location to your virtual network. You can also connect up\\nto 16 ExpressRoute circuits in different peering locations to your virtual\\nnetwork. For example, Singapore and Singapore2. If one ExpressRoute circuit\\ndisconnects, connectivity fails over to another ExpressRoute circuit. By\\ndefault, traffic leaving your virtual network is routed based on Equal Cost\\nMulti-path Routing (ECMP). You can use **connection weight** to prefer one\\ncircuit to another. For more information, see Optimizing ExpressRoute Routing.\\n\\nNote\\n\\n  * Although it is possible to connect up to 16 circuits to your virtual network, the outgoing traffic from your virtual network will be load-balanced using Equal-Cost Multipath (ECMP) across a maximum of 4 circuits.\\n  * Equal-Cost Multipath (ECMP) in ExpressRoute uses the Per-Flow (based on 5-tuple) load balancing method. Accordingly, traffic flow between a given source and destination host pair are guaranteed to take the same path, even if multiple ECMP paths are available.\\n\\n### How do I ensure that my traffic destined for Azure Public services like\\nAzure Storage and Azure SQL on Microsoft peering or public peering is\\npreferred on the ExpressRoute path?', metadata={'description': 'The ExpressRoute FAQ contains information about Supported Azure Services, Cost, Data and Connections, SLA, Providers and Locations, Bandwidth, and other Technical Details.', 'language': 'en-us', 'source': 'https://learn.microsoft.com/en-us/azure/expressroute/expressroute-faqs', 'title': 'FAQ - Azure ExpressRoute | Microsoft Learn'}), Document(page_content=\"You must implement the _Local Preference_ attribute on your router(s) to\\nensure that the path from on-premises to Azure is always preferred on your\\nExpressRoute circuit(s).\\n\\nFor more information, see BGP path selection and common router configurations.\\n\\n### If I'm not colocated at a cloud exchange and my service provider offers\\npoint-to-point connection, do I need to order two physical connections between\\nmy on-premises network and Microsoft?\\n\\nIf your service provider can establish two Ethernet virtual circuits over the\\nphysical connection, you only need one physical connection. The physical\\nconnection (for example, an optical fiber) is terminated on a layer 1 (L1)\\ndevice (see the image). The two Ethernet virtual circuits are tagged with\\ndifferent VLAN IDs, one for the primary circuit, and one for the secondary.\\nThose VLAN IDs are in the outer 802.1Q Ethernet header. The inner 802.1Q\\nEthernet header (not shown) is mapped to a specific ExpressRoute routing\\ndomain.\\n\\n### Can I extend one of my VLANs to Azure using ExpressRoute?\\n\\nNo. We don't support layer 2 connectivity extensions into Azure.\\n\\n### Can I have more than one ExpressRoute circuit in my subscription?\\n\\nYes. You can have more than one ExpressRoute circuit in your subscription. The\\ndefault limit is set to 50. You can contact Microsoft Support to increase the\\nlimit, if needed.\\n\\n### Can I have ExpressRoute circuits from different service providers?\", metadata={'description': 'The ExpressRoute FAQ contains information about Supported Azure Services, Cost, Data and Connections, SLA, Providers and Locations, Bandwidth, and other Technical Details.', 'language': 'en-us', 'source': 'https://learn.microsoft.com/en-us/azure/expressroute/expressroute-faqs', 'title': 'FAQ - Azure ExpressRoute | Microsoft Learn'}), Document(page_content='### Are there connectivity boundaries for my ExpressRoute circuit?\\n\\nYes. The ExpressRoute partners and locations article provides an overview of\\nthe connectivity boundaries for an ExpressRoute circuit. Connectivity for an\\nExpressRoute circuit is limited to a single geopolitical region. Connectivity\\ncan be expanded to cross geopolitical regions by enabling the ExpressRoute\\npremium feature.\\n\\n### Can I link to more than one virtual network to an ExpressRoute circuit?\\n\\nYes. You can have up to 10 virtual networks connections on a standard\\nExpressRoute circuit, and up to 100 on a premium ExpressRoute circuit.\\n\\n### I have multiple Azure subscriptions that contain virtual networks. Can I\\nconnect virtual networks that are in separate subscriptions to a single\\nExpressRoute circuit?\\n\\nYes. You can link up to 10 virtual networks in the same subscription as the\\ncircuit or different subscriptions using a single ExpressRoute circuit. This\\nlimit can be increased by enabling the ExpressRoute premium feature.\\nConnectivity and bandwidth charges for the dedicated circuit gets applied to\\nthe ExpressRoute circuit owner and all virtual networks share the same\\nbandwidth.\\n\\nFor more information, see sharing an ExpressRoute circuit across multiple\\nsubscriptions.', metadata={'description': 'The ExpressRoute FAQ contains information about Supported Azure Services, Cost, Data and Connections, SLA, Providers and Locations, Bandwidth, and other Technical Details.', 'language': 'en-us', 'source': 'https://learn.microsoft.com/en-us/azure/expressroute/expressroute-faqs', 'title': 'FAQ - Azure ExpressRoute | Microsoft Learn'}), Document(page_content=\"### Is connectivity lost if one of my ExpressRoute links fail?\\n\\nYou don't lose connectivity if one of the cross connections fails. A redundant\\nconnection is available to support the load of your network and provide high\\navailability of your ExpressRoute circuit. You can additionally create a\\ncircuit in a different peering location to achieve circuit-level resilience.\\n\\n### How is redundancy implemented for private peering?\\n\\nMultiple ExpressRoute circuits from different peering locations or up to four\\nconnections from the same peering location can be connected to the same\\nvirtual network to provide high-availability in the case a single circuit\\nbecomes unavailable. You can then assign higher weights to one of the local\\nconnections to prefer a specific circuit. It's recommended that your setup has\\nat least two ExpressRoute circuits to avoid single points of failure.\\n\\nSee here for designing for high availability and here for designing for\\ndisaster recovery.\\n\\n### How is redundancy implemented for Microsoft peering?\\n\\nWe recommended when you're using Microsoft peering to access Azure public\\nservices like Azure Storage, Azure SQL, or you're using Microsoft peering for\\nMicrosoft 365 that you implement multiple circuits in different peering\\nlocations to avoid single points of failure. You can either advertise the same\\nprefix on both circuits and use AS PATH prepending or advertise different\\nprefixes to determine path from on-premises.\\n\\nSee here for designing for high availability.\", metadata={'description': 'The ExpressRoute FAQ contains information about Supported Azure Services, Cost, Data and Connections, SLA, Providers and Locations, Bandwidth, and other Technical Details.', 'language': 'en-us', 'source': 'https://learn.microsoft.com/en-us/azure/expressroute/expressroute-faqs', 'title': 'FAQ - Azure ExpressRoute | Microsoft Learn'})]}\n"
     ]
    }
   ],
   "source": [
    "# import logging\n",
    "# logging.basicConfig()\n",
    "# logging.getLogger(\"langchain.retrievers.web_research\").setLevel(logging.INFO)\n",
    "from langchain.chains import RetrievalQAWithSourcesChain\n",
    "\n",
    "user_input = \"Does Azure ExpressRoute support multiple circuits in same peering location from same ISP?\"\n",
    "qa_chain = RetrievalQAWithSourcesChain.from_chain_type(\n",
    "    llm, retriever=web_research_retriever, return_source_documents=True\n",
    ")\n",
    "\n",
    "result = qa_chain.invoke({\"question\": user_input})\n",
    "\n",
    "print(result)\n"
   ]
  }
 ],
 "metadata": {
  "kernelspec": {
   "display_name": "venv",
   "language": "python",
   "name": "python3"
  },
  "language_info": {
   "codemirror_mode": {
    "name": "ipython",
    "version": 3
   },
   "file_extension": ".py",
   "mimetype": "text/x-python",
   "name": "python",
   "nbconvert_exporter": "python",
   "pygments_lexer": "ipython3",
   "version": "3.10.12"
  }
 },
 "nbformat": 4,
 "nbformat_minor": 2
}
