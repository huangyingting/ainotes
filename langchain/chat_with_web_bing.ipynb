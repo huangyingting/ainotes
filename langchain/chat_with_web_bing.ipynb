{
 "cells": [
  {
   "cell_type": "code",
   "execution_count": 6,
   "metadata": {},
   "outputs": [
    {
     "name": "stdout",
     "output_type": "stream",
     "text": [
      "Note: you may need to restart the kernel to use updated packages.\n"
     ]
    }
   ],
   "source": [
    "%pip install langchain langchain_openai numexpr langchainhub --quiet"
   ]
  },
  {
   "cell_type": "code",
   "execution_count": 39,
   "metadata": {},
   "outputs": [],
   "source": [
    "from langchain_openai import AzureChatOpenAI\n",
    "import os\n",
    "from dotenv import load_dotenv\n",
    "from langchain.agents import load_tools, AgentExecutor, create_react_agent\n",
    "from langchain import hub\n",
    "from dotenv import load_dotenv\n",
    "\n",
    "load_dotenv()\n",
    "DEPLOYMENT_NAME=\"gpt-35-turbo\"\n",
    "MODEL_NAME = \"gpt-35-turbo\"\n",
    "API_VERSION=\"2023-12-01-preview\"\n",
    "\n",
    "llm = AzureChatOpenAI(temperature=0,     \n",
    "                  azure_deployment=DEPLOYMENT_NAME, \n",
    "                  model_name=MODEL_NAME, \n",
    "                  openai_api_version=API_VERSION) "
   ]
  },
  {
   "cell_type": "code",
   "execution_count": 40,
   "metadata": {},
   "outputs": [
    {
     "name": "stdout",
     "output_type": "stream",
     "text": [
      "\n",
      "\n",
      "\u001b[1m> Entering new AgentExecutor chain...\u001b[0m\n",
      "\u001b[32;1m\u001b[1;3mI should use bing_search to find the list prices for both cars.\n",
      "Action: bing_search\n",
      "Action Input: \"BMW X1 2023 list price\" \u001b[0m\u001b[36;1m\u001b[1;3m<b>2023</b>.05.04 - <b>BMW</b> SG Pricelist M <b>BMW</b> 1 Series M135i xDrive 6.7 B 324,888 <b>BMW</b> 2 Series Coupé M240i xDrive 8.9 C2 378,888 <b>BMW</b> 2 Series Gran Coupé M235i xDrive 6.8 C1 351,888 <b>BMW</b> 3 Series Sedan M340i xDrive 8.8 C2 442,888 <b>BMW</b> X3 X3 M40i 9.5 C2 446,888 <b>BMW</b> X4 X4 M40i 9.5 C2 473,888 <b>BMW</b> i4 Gran Coupé i4 M50 23.1 A2 450,888 <b>BMW</b> M3 Sedan M3 Competition The <b>BMW</b> <b>X1</b> <b>2023</b> in Singapore comes only in two different variants which are <b>BMW</b> <b>X1</b> sDrive 18i and <b>BMW</b> <b>X1</b> sDrive 18i xLine. These variants are equipped with a 2.0L petrol engine with Manual Transmission. While the <b>BMW</b> <b>X1</b> <b>2023</b> <b>Price</b> in Singapore starts at SGD $257,888 and goes up to $259,888 for the top variant. $38,845 See All for Sale 2024 <b>2023</b> 2022 2021 2020 2019 2018 2017 2016 2015 The new <b>X1</b> range is due in Australian <b>BMW</b> showrooms in late 2022 in a choice of two variants, priced from $53,900 plus on-road costs for the sDrive18i – up $6000 over the outgoing sDrive18i ($47,900 plus on-road costs, about $54,000 drive-away).\u001b[0m\u001b[32;1m\u001b[1;3mI should now search for the list price of the Tesla Model 3 2023.\n",
      "Action: bing_search\n",
      "Action Input: \"Tesla Model 3 2023 list price\"\u001b[0m\u001b[36;1m\u001b[1;3mNorth America Middle-East Asia Pacific Europe <b>Model 3</b> 15 min Recharge up to 282 km* 629 km Range (WLTP) AWD Dual Motor Order Now Built for Distance Go up to 629 kilometers (WLTP) on a single charge with updated exterior styling optimised for maximum aerodynamics. Two New Colours Car News Car Features Car Videos Forum Resources to Advanced Search Home » New Cars » New Car Brands » <b>Tesla</b> » <b>Tesla Model 3</b> Electric Recommended for you Polestar 2 vs <b>Tesla</b> <b>Model</b> <b>3</b> <b>Tesla Model 3</b> Electric Standard Range Plus RWD 50 kWh (A) Review <b>Tesla Model 3</b> Electric Performance AWD (A) Review Lease starting at $329/mo* 15 min Recharge up to 175 miles† 341 mi Range (EPA est.) AWD Dual Motor Custom Order *Excludes taxes and fees with <b>price</b> subject to change. Available in select states. See Details Built for Distance Go up to 341 miles (EPA est.) on a single charge with updated exterior styling optimized for maximum aerodynamics. <b>Pricing</b> and Which One to Buy The <b>price</b> of the <b>2023</b> <b>Tesla</b> <b>Model</b> <b>3</b> starts at $40,630 and goes up to $54,880 depending on the trim and options. The base trim level comes with just one... The least-expensive <b>2023</b> <b>Tesla</b> <b>Model</b> <b>3</b> is the <b>2023</b> <b>Tesla</b> <b>Model</b> <b>3</b> 4dr Sedan (electric DD). Including destination charge, it arrives with a Manufacturer&#39;s Suggested Retail <b>Price</b>... <b>Tesla</b>’s popular <b>Model</b> <b>3</b> gets a major mid-life update, but it remains a polarising choice, especially with a significant change inside. Buy. New Cars. ... Launched: October <b>2023</b> – <b>Price S</b>$119,953 without COE (December <b>2023</b>) Four-door, medium sedan, five seats 490hp, dual motor electric drive, 14.9kWh/100km, 629km range. If we add in the current <b>cost</b> of a Category B COE ($120,889) as of April <b>2023</b>, the <b>Model</b> <b>3</b> would <b>cost</b> $225,643. At about $225,643, the <b>Tesla</b> <b>Model</b> <b>3</b> is more expensive compared to the likes of the Audi A3 Sedan ($203,809) and the BMW 1 Series Hatchback ($217,888).\u001b[0m\u001b[32;1m\u001b[1;3mI now know the final answer\n",
      "Final Answer: The list price for the BMW X1 2023 starts at SGD $257,888 and goes up to $259,888 for the top variant. The list price for the Tesla Model 3 2023 starts at $40,630 and goes up to $54,880 depending on the trim and options.\u001b[0m\n",
      "\n",
      "\u001b[1m> Finished chain.\u001b[0m\n"
     ]
    },
    {
     "data": {
      "text/plain": [
       "{'input': 'Is BMW X1 2023 more affortable than Tesla model 3 2023? List prices for both cars.',\n",
       " 'output': 'The list price for the BMW X1 2023 starts at SGD $257,888 and goes up to $259,888 for the top variant. The list price for the Tesla Model 3 2023 starts at $40,630 and goes up to $54,880 depending on the trim and options.',\n",
       " 'intermediate_steps': [(AgentAction(tool='bing_search', tool_input='BMW X1 2023 list price', log='I should use bing_search to find the list prices for both cars.\\nAction: bing_search\\nAction Input: \"BMW X1 2023 list price\" '),\n",
       "   '<b>2023</b>.05.04 - <b>BMW</b> SG Pricelist M <b>BMW</b> 1 Series M135i xDrive 6.7 B 324,888 <b>BMW</b> 2 Series Coupé M240i xDrive 8.9 C2 378,888 <b>BMW</b> 2 Series Gran Coupé M235i xDrive 6.8 C1 351,888 <b>BMW</b> 3 Series Sedan M340i xDrive 8.8 C2 442,888 <b>BMW</b> X3 X3 M40i 9.5 C2 446,888 <b>BMW</b> X4 X4 M40i 9.5 C2 473,888 <b>BMW</b> i4 Gran Coupé i4 M50 23.1 A2 450,888 <b>BMW</b> M3 Sedan M3 Competition The <b>BMW</b> <b>X1</b> <b>2023</b> in Singapore comes only in two different variants which are <b>BMW</b> <b>X1</b> sDrive 18i and <b>BMW</b> <b>X1</b> sDrive 18i xLine. These variants are equipped with a 2.0L petrol engine with Manual Transmission. While the <b>BMW</b> <b>X1</b> <b>2023</b> <b>Price</b> in Singapore starts at SGD $257,888 and goes up to $259,888 for the top variant. $38,845 See All for Sale 2024 <b>2023</b> 2022 2021 2020 2019 2018 2017 2016 2015 The new <b>X1</b> range is due in Australian <b>BMW</b> showrooms in late 2022 in a choice of two variants, priced from $53,900 plus on-road costs for the sDrive18i – up $6000 over the outgoing sDrive18i ($47,900 plus on-road costs, about $54,000 drive-away).'),\n",
       "  (AgentAction(tool='bing_search', tool_input='Tesla Model 3 2023 list price', log='I should now search for the list price of the Tesla Model 3 2023.\\nAction: bing_search\\nAction Input: \"Tesla Model 3 2023 list price\"'),\n",
       "   'North America Middle-East Asia Pacific Europe <b>Model 3</b> 15 min Recharge up to 282 km* 629 km Range (WLTP) AWD Dual Motor Order Now Built for Distance Go up to 629 kilometers (WLTP) on a single charge with updated exterior styling optimised for maximum aerodynamics. Two New Colours Car News Car Features Car Videos Forum Resources to Advanced Search Home » New Cars » New Car Brands » <b>Tesla</b> » <b>Tesla Model 3</b> Electric Recommended for you Polestar 2 vs <b>Tesla</b> <b>Model</b> <b>3</b> <b>Tesla Model 3</b> Electric Standard Range Plus RWD 50 kWh (A) Review <b>Tesla Model 3</b> Electric Performance AWD (A) Review Lease starting at $329/mo* 15 min Recharge up to 175 miles† 341 mi Range (EPA est.) AWD Dual Motor Custom Order *Excludes taxes and fees with <b>price</b> subject to change. Available in select states. See Details Built for Distance Go up to 341 miles (EPA est.) on a single charge with updated exterior styling optimized for maximum aerodynamics. <b>Pricing</b> and Which One to Buy The <b>price</b> of the <b>2023</b> <b>Tesla</b> <b>Model</b> <b>3</b> starts at $40,630 and goes up to $54,880 depending on the trim and options. The base trim level comes with just one... The least-expensive <b>2023</b> <b>Tesla</b> <b>Model</b> <b>3</b> is the <b>2023</b> <b>Tesla</b> <b>Model</b> <b>3</b> 4dr Sedan (electric DD). Including destination charge, it arrives with a Manufacturer&#39;s Suggested Retail <b>Price</b>... <b>Tesla</b>’s popular <b>Model</b> <b>3</b> gets a major mid-life update, but it remains a polarising choice, especially with a significant change inside. Buy. New Cars. ... Launched: October <b>2023</b> – <b>Price S</b>$119,953 without COE (December <b>2023</b>) Four-door, medium sedan, five seats 490hp, dual motor electric drive, 14.9kWh/100km, 629km range. If we add in the current <b>cost</b> of a Category B COE ($120,889) as of April <b>2023</b>, the <b>Model</b> <b>3</b> would <b>cost</b> $225,643. At about $225,643, the <b>Tesla</b> <b>Model</b> <b>3</b> is more expensive compared to the likes of the Audi A3 Sedan ($203,809) and the BMW 1 Series Hatchback ($217,888).')]}"
      ]
     },
     "execution_count": 40,
     "metadata": {},
     "output_type": "execute_result"
    }
   ],
   "source": [
    "# Next, let's load some tools to use. Note that the `llm-math` tool uses an LLM, so we need to pass that in.\n",
    "tools = load_tools([\"bing-search\", \"llm-math\"], llm=llm)\n",
    "prompt = hub.pull(\"hwchase17/react\")\n",
    "# Finally, let's initialize an agent with the tools, the language model, and the type of agent we want to use.\n",
    "agent = create_react_agent(llm, tools, prompt)\n",
    "agent_executor = AgentExecutor(agent=agent, tools=tools, verbose=True, return_intermediate_steps=True)\n",
    "agent_executor.invoke({\"input\":\"Is BMW X1 2023 more affortable than Tesla model 3 2023? List prices for both cars.\"})"
   ]
  }
 ],
 "metadata": {
  "kernelspec": {
   "display_name": "venv",
   "language": "python",
   "name": "python3"
  },
  "language_info": {
   "codemirror_mode": {
    "name": "ipython",
    "version": 3
   },
   "file_extension": ".py",
   "mimetype": "text/x-python",
   "name": "python",
   "nbconvert_exporter": "python",
   "pygments_lexer": "ipython3",
   "version": "3.10.12"
  }
 },
 "nbformat": 4,
 "nbformat_minor": 2
}
