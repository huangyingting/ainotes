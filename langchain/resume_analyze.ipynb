{
 "cells": [
  {
   "cell_type": "code",
   "execution_count": 2,
   "metadata": {},
   "outputs": [
    {
     "name": "stdout",
     "output_type": "stream",
     "text": [
      "\u001b[31mERROR: pip's dependency resolver does not currently take into account all the packages that are installed. This behaviour is the source of the following dependency conflicts.\n",
      "embedchain 0.1.93 requires langchain-openai<0.0.6,>=0.0.5, but you have langchain-openai 0.1.1 which is incompatible.\n",
      "crewai 0.19.0 requires langchain-openai<0.0.6,>=0.0.5, but you have langchain-openai 0.1.1 which is incompatible.\u001b[0m\u001b[31m\n",
      "\u001b[0mNote: you may need to restart the kernel to use updated packages.\n"
     ]
    }
   ],
   "source": [
    "%pip install -U langchain langchain_openai PyPDF2 faiss-cpu --quiet"
   ]
  },
  {
   "cell_type": "code",
   "execution_count": 8,
   "metadata": {},
   "outputs": [
    {
     "data": {
      "text/plain": [
       "True"
      ]
     },
     "execution_count": 8,
     "metadata": {},
     "output_type": "execute_result"
    }
   ],
   "source": [
    "import os\n",
    "from IPython.display import display, Markdown\n",
    "from PyPDF2 import PdfReader\n",
    "from langchain_openai import AzureOpenAIEmbeddings, AzureOpenAI\n",
    "from langchain.text_splitter import CharacterTextSplitter\n",
    "from langchain.vectorstores import FAISS\n",
    "from langchain.chains.question_answering import load_qa_chain\n",
    "from langchain.chains import LLMChain\n",
    "import pandas as pd\n",
    "from tqdm import tqdm\n",
    "\n",
    "from dotenv import load_dotenv\n",
    "load_dotenv()"
   ]
  },
  {
   "cell_type": "code",
   "execution_count": 4,
   "metadata": {},
   "outputs": [
    {
     "data": {
      "text/plain": [
       "'DI V Y A  PA R A M E S V A R A I Y E R  \\n                                            Cell: 732-824-2905  \\n                               Email: divsp6@gmail .com    \\n \\nPage 1 of 4  \\nDynamic, proactive, and highly self-motivated  professional with 20+ years of people/ program  management \\nexperience and  over 10 years of proven experience in the financial services industry. Exceedingly business -\\nminded, results -oriented individual with exemplary capacity for  managing complex strategic  business \\ntransformation projects with matrixed, cross -functional teams; and directing large global initiatives (over $1M \\nand 10 months) resulting in widespread measurable ROI efficiencies.  I am PMP certified,  Certified Scrum \\nMaster , have a BS in Computer Science and MBA in Global Management.  \\n \\n \\nCORE COMPETENCIES  \\n✓ Proficient abi lity to drive Business Transformations by laying out roadmap & managing execution  \\n✓ Highly Detail Oriented with focus on balancing customer satisfaction and tripl'"
      ]
     },
     "execution_count": 4,
     "metadata": {},
     "output_type": "execute_result"
    }
   ],
   "source": [
    "pdfreader = PdfReader('../data/Resume.pdf')\n",
    "# read text from pdf\n",
    "raw_text = ''\n",
    "for i, page in enumerate(pdfreader.pages):\n",
    "    content = page.extract_text()\n",
    "    if content:\n",
    "        raw_text += content\n",
    "\n",
    "# Show first 1000 characters of the text.\n",
    "raw_text[:1000]"
   ]
  },
  {
   "cell_type": "code",
   "execution_count": null,
   "metadata": {},
   "outputs": [],
   "source": [
    "OPENAI_DEPLOYMENT_NAME = \"gpt-35-turbo\"\n",
    "OPENAI_MODEL_NAME = \"gpt-35-turbo\"\n",
    "EMBEDDINGS_DEPLOYMENT_NAME = \"text-embedding-ada-002\"\n",
    "\n",
    "llm = AzureOpenAI(azure_deployment=OPENAI_DEPLOYMENT_NAME, \n",
    "                  model_name=OPENAI_MODEL_NAME, \n",
    "                  openai_api_version=os.getenv(\"OPENAI_API_VERSION\"),\n",
    "                  temperature=0)\n",
    "\n",
    "embeddings = AzureOpenAIEmbeddings(\n",
    "    azure_deployment=EMBEDDINGS_DEPLOYMENT_NAME,\n",
    "    openai_api_version=os.getenv(\"OPENAI_API_VERSION\"),\n",
    ")\n",
    "\n",
    "def ask_openai(question):\n",
    "    llm_chain = LLMChain(prompt=question, llm=llm)\n",
    "    return llm_chain.run(question)\n",
    "\n",
    "def analyze_str(resume, options):\n",
    "    text_splitter = CharacterTextSplitter(\n",
    "        separator=\"\\n\",\n",
    "        chunk_size=800,\n",
    "        chunk_overlap=200,\n",
    "        length_function=len\n",
    "    )\n",
    "    chunks = text_splitter.split_text(resume)\n",
    "    knowledge_base = FAISS.from_texts(chunks, embeddings)\n",
    "    df_data = [{'option': option, 'value': []} for option in options]\n",
    "    print(\"Fetching information\")\n",
    "\n",
    "    for i, option in tqdm(enumerate(options), desc=\"Fetching information\", unit=\"option\", ncols=100):\n",
    "        question = f\"What is this candidate's {option}? Please return the answer in a concise manner, no more than 250 words. If not found, return 'Not provided'\"\n",
    "        docs = knowledge_base.similarity_search(question)\n",
    "        chain = load_qa_chain(llm, chain_type=\"stuff\")\n",
    "        response = chain.run(input_documents=docs, question=question )\n",
    "        df_data[i]['value'] = response\n",
    "        print(\"Looking for information: {option}\")\n",
    "\n",
    "\n",
    "    df = pd.DataFrame(df_data)\n",
    "    print(\"Resume elements retrieved\")\n",
    "    return df\n",
    "\n",
    "def analyze_resume(job_desc, resume, options):\n",
    "    df = analyze_str(resume, options)\n",
    "    df_string = df.applymap(lambda x: ', '.join(x) if isinstance(x, list) else x).to_string(index=False)\n",
    "    print(\"Analyzing with OpenAI..\")\n",
    "    summary_question = f\"Job requirements: {{{job_desc}}}\" + f\"Resume summary: {{{df_string}}}\" + \"Please return a summary of the candidate's suitability for this position (limited to 200 words);'\"\n",
    "    summary = ask_openai(summary_question)\n",
    "    df.loc[len(df)] = ['Summary', summary]\n",
    "    extra_info = \"Scoring criteria: Top 10 domestic universities +3 points, 985 universities +2 points, 211 universities +1 point, leading company experience +2 points, well-known company +1 point, overseas background +3 points, foreign company background +1 point.\"\n",
    "    score_question = f\"Job requirements: {{{job_desc}}}\" + f\"Resume summary: {{{df.to_string(index=False)}}}\" + \"Please return a matching score (0-100) for the candidate for this job, please score accurately to facilitate comparison with other candidates, '\" + extra_info\n",
    "    score = ask_openai(score_question)\n",
    "    df.loc[len(df)] = ['Match Score', score]\n",
    "\n",
    "    return df"
   ]
  }
 ],
 "metadata": {
  "kernelspec": {
   "display_name": "venv",
   "language": "python",
   "name": "python3"
  },
  "language_info": {
   "codemirror_mode": {
    "name": "ipython",
    "version": 3
   },
   "file_extension": ".py",
   "mimetype": "text/x-python",
   "name": "python",
   "nbconvert_exporter": "python",
   "pygments_lexer": "ipython3",
   "version": "3.10.12"
  }
 },
 "nbformat": 4,
 "nbformat_minor": 2
}
