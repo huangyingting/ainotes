{
 "cells": [
  {
   "cell_type": "markdown",
   "metadata": {},
   "source": [
    "## Storing and querying for embeddings with Azure Cosmos DB for NoSQL\n",
    "\n",
    "This notebook demonstrates how to use Azure Cosmos DB for NoSQL to store and search vectors:\n",
    "\n",
    "+ Create index and vector embeddings policies in Azure Cosmos DB\n",
    "+ Embed the documents using Azure OpenAI's text-embedding-ada-002 model\n",
    "+ Index the vector and nonvector fields on Azure Cosmos DB for NoSQL\n",
    "+ Run vector similarity search query. \n",
    "\n",
    "The code uses Azure OpenAI to generate embeddings for title and content fields. You'll need access to Azure OpenAI to run this notebook.\n",
    "\n",
    "The code reads the `text-sample.json` file, which contains the input data for which embeddings need to be generated.\n",
    "\n",
    "The output is a combination of human-readable text and embeddings that can be pushed into a search index.\n",
    "\n",
    "### Prerequisites\n",
    "\n",
    "+ An Azure subscription, with [access to Azure OpenAI](https://aka.ms/oai/access). You must have the Azure OpenAI service name and an API key.\n",
    "\n",
    "+ A deployment of the text-embedding-ada-002 embedding model.\n",
    "\n",
    "+ Azure Cosmos DB for NoSQL, [Index and query vectors in Azure Cosmos DB for NoSQL in Python](https://learn.microsoft.com/en-us/azure/cosmos-db/nosql/how-to-python-vector-index-query)\n",
    "\n",
    "We used Python 3.10, [Visual Studio Code with the Python extension](https://code.visualstudio.com/docs/python/python-tutorial), and the [Jupyter extension](https://marketplace.visualstudio.com/items?itemName=ms-toolsai.jupyter) to test this example."
   ]
  },
  {
   "cell_type": "markdown",
   "metadata": {},
   "source": [
    "### Set up a Python virtual environment in Visual Studio Code\n",
    "\n",
    "1. Open the Command Palette (Ctrl+Shift+P).\n",
    "1. Search for **Python: Create Environment**.\n",
    "1. Select **Venv**.\n",
    "1. Select a Python interpreter. Choose 3.10 or later.\n",
    "\n",
    "It can take a minute to set up. If you run into problems, see [Python environments in VS Code](https://code.visualstudio.com/docs/python/environments)."
   ]
  },
  {
   "cell_type": "markdown",
   "metadata": {},
   "source": [
    "### Install packages"
   ]
  },
  {
   "cell_type": "code",
   "execution_count": null,
   "metadata": {},
   "outputs": [],
   "source": [
    "%pip install -U -q azure-cosmos python-dotenv openai"
   ]
  },
  {
   "cell_type": "markdown",
   "metadata": {},
   "source": [
    "### Deploy Azure Cosmos DB for NoSQL"
   ]
  },
  {
   "cell_type": "code",
   "execution_count": null,
   "metadata": {},
   "outputs": [],
   "source": [
    "import datetime\n",
    "\n",
    "resource_group_name = \"VectorSearch\" # change the name to match your naming style\n",
    "resource_group_location = \"southeastasia\" # change the location to match your naming style\n",
    "cosmosdb_account_name = \"vssea\" # cosmos db for nosql account name,  change the name to match your naming style\n",
    "cosmosdb_db_name = \"vsdb\" # cosmos db for nosql database name,  change the name to match your naming style\n",
    "cosmosdb_container_name = \"vsc\" # cosmos db for nosql container name,  change the name to match your naming style"
   ]
  },
  {
   "cell_type": "code",
   "execution_count": null,
   "metadata": {},
   "outputs": [],
   "source": [
    "resource_group_stdout = ! az group create --name {resource_group_name} --location {resource_group_location}\n",
    "if resource_group_stdout.n.startswith(\"ERROR\"):\n",
    "    print(resource_group_stdout)\n",
    "else:\n",
    "    print(\"✅ Azure Resource Grpup \", resource_group_name, \" created ⌚ \", datetime.datetime.now().time())\n",
    "\n",
    "cmd_stdout = ! echo -n {resource_group_name} | sha1sum | head -c 6\n",
    "suffix = cmd_stdout.n\n",
    "\n",
    "cosmosdb_stdout = ! az cosmosdb create -n {cosmosdb_account_name}-{suffix} -g {resource_group_name} --default-consistency-level Eventual --capabilities EnableServerless EnableNoSQLVectorSearch\n",
    "\n",
    "if cosmosdb_stdout.n.startswith(\"ERROR\"):\n",
    "    print(cosmosdb_stdout)\n",
    "else:\n",
    "    print(\"✅ Cosmos DB \", f'{cosmosdb_account_name}-{suffix}', \" created ⌚ \", datetime.datetime.now().time())\n"
   ]
  },
  {
   "cell_type": "code",
   "execution_count": null,
   "metadata": {},
   "outputs": [],
   "source": [
    "endpoint_stdout = ! az cosmosdb show -g {resource_group_name} -n {cosmosdb_name}-{suffix} --query documentEndpoint --output tsv\n",
    "key_stdout = ! az cosmosdb keys list -g {resource_group_name} -n {cosmosdb_name}-{suffix} --query primaryMasterKey --output tsv\n",
    "endpoint = endpoint_stdout.nkey = key_stdout.n"
   ]
  },
  {
   "cell_type": "markdown",
   "metadata": {},
   "source": [
    "## Create Cosmos DB for NoSQL database and container"
   ]
  },
  {
   "cell_type": "code",
   "execution_count": null,
   "metadata": {},
   "outputs": [],
   "source": [
    "\n",
    "from azure.cosmos import CosmosClient, PartitionKey, exceptions\n",
    "exceptions\n",
    "client = CosmosClient(endpoint, credential=key)\n",
    "try:\n",
    "    database = client.create_database(cosmosdb_db_name)\n",
    "except exceptions.CosmosResourceExistsError:\n",
    "    database = client.get_database_client(cosmosdb_db_name)\n",
    "\n",
    "vector_embedding_policy = {\n",
    "    \"vectorEmbeddings\": [ \n",
    "        { \n",
    "            \"path\": \"/titleVector\", \n",
    "            \"dataType\": \"float32\", \n",
    "            \"distanceFunction\": \"cosine\", \n",
    "            \"dimensions\": 1536\n",
    "        },\n",
    "        { \n",
    "            \"path\": \"/contentVector\", \n",
    "            \"dataType\": \"float32\", \n",
    "            \"distanceFunction\": \"cosine\", \n",
    "            \"dimensions\": 1536\n",
    "        }        \n",
    "    ] \n",
    "}\n",
    "\n",
    "indexing_policy = {\n",
    "    \"indexingMode\": \"consistent\",\n",
    "    \"automatic\": True,\n",
    "    \"includedPaths\": [\n",
    "        {\n",
    "            \"path\": \"/*\"\n",
    "        }\n",
    "    ],\n",
    "    \"excludedPaths\": [\n",
    "        {\n",
    "            \"path\": \"/_etag/?\"\n",
    "        }\n",
    "    ],\n",
    "    \"vectorIndexes\": [\n",
    "        {\n",
    "            \"path\": \"/titleVector\",\n",
    "            \"type\": \"quantizedFlat\"\n",
    "        },\n",
    "        {\n",
    "            \"path\": \"/contentVector\",\n",
    "            \"type\": \"quantizedFlat\"\n",
    "        }\n",
    "    ]\n",
    "}\n",
    "\n",
    "try:\n",
    "    container = database.create_container_if_not_exists( \n",
    "                    id=cosmosdb_container_name, \n",
    "                    partition_key=PartitionKey(path='/id'), \n",
    "                    indexing_policy=indexing_policy, \n",
    "                    vector_embedding_policy=vector_embedding_policy) \n",
    "    print('Container with id \\'{0}\\' created'.format(cosmosdb_container_name)) \n",
    "\n",
    "except exceptions.CosmosHttpResponseError: \n",
    "    raise"
   ]
  },
  {
   "cell_type": "markdown",
   "metadata": {},
   "source": [
    "### Helper function to create document embeddings"
   ]
  },
  {
   "cell_type": "code",
   "execution_count": null,
   "metadata": {},
   "outputs": [],
   "source": [
    "import os\n",
    "import json\n",
    "from openai import AzureOpenAI\n",
    "from dotenv import load_dotenv\n",
    "\n",
    "load_dotenv()\n",
    "\n",
    "def generate_document_embeddings(input_json_path, output_json_path):\n",
    "    client = AzureOpenAI(\n",
    "        azure_deployment=\"text-embedding-ada-002\",\n",
    "        api_key=os.getenv(\"AZURE_OPENAI_API_KEY\"),  \n",
    "        api_version=os.getenv(\"OPENAI_API_VERSION\"),\n",
    "        azure_endpoint=os.getenv(\"AZURE_OPENAI_ENDPOINT\")\n",
    "    )\n",
    "\n",
    "    # Read the input JSON file\n",
    "    with open(input_json_path, 'r', encoding='utf-8') as file:\n",
    "        input_data = json.load(file)\n",
    "\n",
    "    titles = [item['title'] for item in input_data]\n",
    "    content = [item['content'] for item in input_data]\n",
    "    \n",
    "    # Generate embeddings for titles\n",
    "    title_response = client.embeddings.create(input=titles, model=\"text-embedding-ada-002\")\n",
    "    title_embeddings = [item.embedding for item in title_response.data]\n",
    "    \n",
    "    # Generate embeddings for content\n",
    "    content_response = client.embeddings.create(input=content, model=\"text-embedding-ada-002\")\n",
    "    content_embeddings = [item.embedding for item in content_response.data]\n",
    "\n",
    "    # Assign embeddings to the original data\n",
    "    for i, item in enumerate(input_data):\n",
    "        item['titleVector'] = title_embeddings[i]\n",
    "        item['contentVector'] = content_embeddings[i]\n",
    "\n",
    "    # Ensure the output directory exists\n",
    "    output_directory = os.path.dirname(output_json_path)\n",
    "    if not os.path.exists(output_directory):\n",
    "        os.makedirs(output_directory)\n",
    "    \n",
    "    # Write the modified data to the output JSON file\n",
    "    with open(output_json_path, \"w\") as f:\n",
    "        json.dump(input_data, f)\n",
    "\n",
    "\n",
    "# Generate and load the documents with embeddings from the output file\n",
    "output_path = os.path.join('output', 'docVectors.json')\n",
    "if not os.path.exists(output_path):\n",
    "    generate_document_embeddings(os.path.join('..', 'data', 'text-sample.json'), output_path)\n",
    "    \n",
    "with open(output_path, 'r') as file:  \n",
    "    documents = json.load(file)"
   ]
  },
  {
   "cell_type": "markdown",
   "metadata": {},
   "source": [
    "### Insert documents into Cosmos DB for NoSQL"
   ]
  },
  {
   "cell_type": "code",
   "execution_count": null,
   "metadata": {},
   "outputs": [],
   "source": [
    "for doc in documents[:1]:\n",
    "    container.create_item(body=doc)"
   ]
  },
  {
   "cell_type": "markdown",
   "metadata": {},
   "source": [
    "### Generate embeddings for the query"
   ]
  },
  {
   "cell_type": "code",
   "execution_count": null,
   "metadata": {},
   "outputs": [],
   "source": [
    "client = AzureOpenAI(\n",
    "    azure_deployment=\"text-embedding-ada-002\",\n",
    "    api_key=os.getenv(\"AZURE_OPENAI_API_KEY\"),  \n",
    "    api_version=os.getenv(\"OPENAI_API_VERSION\"),\n",
    "    azure_endpoint=os.getenv(\"AZURE_OPENAI_ENDPOINT\")\n",
    ")\n",
    "\n",
    "content_response = client.embeddings.create(input=\"What is Azure App Service\", model=\"text-embedding-ada-002\")\n",
    "content_embedding = content_response.data[0].embedding\n"
   ]
  },
  {
   "cell_type": "markdown",
   "metadata": {},
   "source": [
    "### Query items using embeddings\n",
    "\n",
    "Note: The query requires to ue TOP/LIMIT for the reason in below\n",
    "\n",
    "Executing a vector search query without TOP or LIMIT can consume many RUs very fast and have long runtimes. Please ensure you are using one of the two filters with your vector search query."
   ]
  },
  {
   "cell_type": "code",
   "execution_count": null,
   "metadata": {},
   "outputs": [],
   "source": [
    "for item in container.query_items( \n",
    "        query='SELECT TOP 5 c.title, VectorDistance(c.contentVector,@embedding) AS SimilarityScore FROM c ORDER BY VectorDistance(c.contentVector,@embedding)', \n",
    "        parameters=[ \n",
    "            {\"name\": \"@embedding\", \"value\": content_embedding} \n",
    "        ], \n",
    "        enable_cross_partition_query=True): \n",
    "    print(json.dumps(item, indent=True)) "
   ]
  }
 ],
 "metadata": {
  "kernelspec": {
   "display_name": "openai",
   "language": "python",
   "name": "python3"
  },
  "language_info": {
   "codemirror_mode": {
    "name": "ipython",
    "version": 3
   },
   "file_extension": ".py",
   "mimetype": "text/x-python",
   "name": "python",
   "nbconvert_exporter": "python",
   "pygments_lexer": "ipython3",
   "version": "3.10.12"
  }
 },
 "nbformat": 4,
 "nbformat_minor": 2
}
