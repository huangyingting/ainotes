{
 "cells": [
  {
   "cell_type": "markdown",
   "metadata": {},
   "source": [
    "## Storing and querying for embeddings with Azure Cosmos DB for MongoDB vCore\n",
    "\n",
    "This notebook demonstrates how to use Azure Cosmos DB for MongoDB vCore to store and search vectors:\n",
    "\n",
    "+ Create index and vector embeddings policies in Azure Cosmos DB\n",
    "+ Embed the documents using Azure OpenAI's text-embedding-ada-002 model\n",
    "+ Index the vector and nonvector fields on Azure Cosmos DB for NoSQL\n",
    "+ Run vector similarity search query. \n",
    "\n",
    "The code uses Azure OpenAI to generate embeddings for title and content fields. You'll need access to Azure OpenAI to run this notebook.\n",
    "\n",
    "The code reads the `text-sample.json` file, which contains the input data for which embeddings need to be generated.\n",
    "\n",
    "The output is a combination of human-readable text and embeddings that can be pushed into a search index.\n",
    "\n",
    "### Prerequisites\n",
    "\n",
    "+ An Azure subscription, with [access to Azure OpenAI](https://aka.ms/oai/access). You must have the Azure OpenAI service name and an API key.\n",
    "\n",
    "+ A deployment of the text-embedding-ada-002 embedding model.\n",
    "\n",
    "+ Azure Cosmos DB for MongoDB vCore, [Vector Store in Azure Cosmos DB for MongoDB vCore\n",
    "](https://learn.microsoft.com/en-us/azure/cosmos-db/mongodb/vcore/vector-search)\n",
    "\n",
    "We used Python 3.10, [Visual Studio Code with the Python extension](https://code.visualstudio.com/docs/python/python-tutorial), and the [Jupyter extension](https://marketplace.visualstudio.com/items?itemName=ms-toolsai.jupyter) to test this example."
   ]
  },
  {
   "cell_type": "markdown",
   "metadata": {},
   "source": [
    "### Set up a Python virtual environment in Visual Studio Code\n",
    "\n",
    "1. Open the Command Palette (Ctrl+Shift+P).\n",
    "1. Search for **Python: Create Environment**.\n",
    "1. Select **Venv**.\n",
    "1. Select a Python interpreter. Choose 3.10 or later.\n",
    "\n",
    "It can take a minute to set up. If you run into problems, see [Python environments in VS Code](https://code.visualstudio.com/docs/python/environments)."
   ]
  },
  {
   "cell_type": "markdown",
   "metadata": {},
   "source": [
    "### Install packages"
   ]
  },
  {
   "cell_type": "code",
   "execution_count": null,
   "metadata": {},
   "outputs": [],
   "source": [
    "%pip install -U -q pymongo langchain-openai langchain-community"
   ]
  },
  {
   "cell_type": "markdown",
   "metadata": {},
   "source": [
    "### Deploy Azure Cosmos DB for MongoDB"
   ]
  },
  {
   "cell_type": "code",
   "execution_count": null,
   "metadata": {},
   "outputs": [],
   "source": [
    "import datetime\n",
    "import os\n",
    "\n",
    "resource_group_name = \"VectorSearch\" # change the name to match your naming style\n",
    "resource_group_location = \"southeastasia\" # change the location to match your naming style\n",
    "db_name = \"vsdb\"\n",
    "server_version=\"6.0\" # 5.0 6.0\n",
    "collection_name = \"vsc\"\n",
    "admin_username = \"azadmin\" # change the name to match your naming style\n",
    "cmd_stdout = ! < /dev/urandom tr -dc 'A-Za-z0-9' | head -c12; echo\n",
    "admin_password = cmd_stdout.n\n",
    "cmd_stdout = ! echo -n {resource_group_name} | sha1sum | head -c 6\n",
    "cluster_name = \"mgovs-\" +  cmd_stdout.n # cosmos db for mongodb account name,  change the name to match your naming style\n",
    "deployment_name = os.path.basename(os.path.dirname(globals()['__vsc_ipynb_file__'])) \n",
    "sku = 'M40' # Free M40"
   ]
  },
  {
   "cell_type": "code",
   "execution_count": null,
   "metadata": {},
   "outputs": [],
   "source": [
    "resource_group_stdout = ! az group create --name {resource_group_name} --location {resource_group_location}\n",
    "if resource_group_stdout.n.startswith(\"ERROR\"):\n",
    "    print(resource_group_stdout)\n",
    "else:\n",
    "    print(\"✅ Azure Resource Grpup \", resource_group_name, \" created ⌚ \", datetime.datetime.now().time())\n",
    "\n",
    "! az deployment group create --name {deployment_name} --resource-group {resource_group_name} --template-file \"cosmos_db_for_mongodb_vcore.bicep\" --parameters clusterName={cluster_name} adminUsername={admin_username} adminPassword={admin_password} sku={sku}"
   ]
  },
  {
   "cell_type": "markdown",
   "metadata": {},
   "source": [
    "### Create Cosmos DB for MongoDB database and collection"
   ]
  },
  {
   "cell_type": "code",
   "execution_count": null,
   "metadata": {},
   "outputs": [],
   "source": [
    "import pymongo\n",
    "import urllib.parse\n",
    "\n",
    "mongo_conn = \"mongodb+srv://\"+urllib.parse.quote(admin_username)+\":\"+urllib.parse.quote(admin_password)+\"@\"+cluster_name+\".mongocluster.cosmos.azure.com/\"+\"?tls=true&authMechanism=SCRAM-SHA-256&retrywrites=false&maxIdleTimeMS=120000\"\n",
    "mongo_client = pymongo.MongoClient(mongo_conn)\n",
    "\n",
    "# create a database called TutorialDB\n",
    "db = mongo_client[db_name]\n",
    "\n",
    "# Create collection if it doesn't exist\n",
    "if collection_name not in db.list_collection_names():\n",
    "    # Creates a unsharded collection that uses the DBs shared throughput\n",
    "    db.create_collection(collection_name)\n",
    "    print(\"Created collection '{}'.\\n\".format(collection_name))\n",
    "else:\n",
    "    print(\"Using collection: '{}'.\\n\".format(collection_name))\n",
    "\n",
    "collection = db[collection_name]"
   ]
  },
  {
   "cell_type": "code",
   "execution_count": null,
   "metadata": {},
   "outputs": [],
   "source": [
    "import os\n",
    "from openai import AzureOpenAI\n",
    "from dotenv import load_dotenv\n",
    "\n",
    "load_dotenv()\n",
    "\n",
    "client = AzureOpenAI(\n",
    "    api_key=os.getenv(\"AZURE_OPENAI_API_KEY\"),  \n",
    "    api_version=os.getenv(\"OPENAI_API_VERSION\"),\n",
    "    azure_endpoint=os.getenv(\"AZURE_OPENAI_ENDPOINT\")\n",
    ")\n"
   ]
  },
  {
   "cell_type": "markdown",
   "metadata": {},
   "source": [
    "### Create the vector index\n",
    "\n",
    "**IMPORTANT: You can only create one index per vector property.** That is, you cannot create more than one index that points to the same vector property. If you want to change the index type (e.g., from IVF to HNSW) you must drop the index first before creating a new index.\n",
    "\n",
    "#### IVF index\n",
    "IVF is an approximate nerarest neighbors (ANN) approach that uses clustering to speed up the search for similar vectors in a dataset. It's a good choice for proof-of-concepts and smaller datasets (under a few thousand documents). However it's not recommended to use at scale or when higher throughput is needed.\n",
    "\n",
    "IVF is supported on all cluster tiers, including the free tier.\n",
    "\n",
    "#### HNSW Index\n",
    "HNSW stands for Hierarchical Navigable Small World, a graph-based index that partitions vectors into clusters and subclusters. With HNSW, you can perform fast approximate nearest neighbor search at higher speeds with greater accuracy. HNSW is now available on M40 and higher cluster tiers."
   ]
  },
  {
   "cell_type": "code",
   "execution_count": null,
   "metadata": {},
   "outputs": [],
   "source": [
    "db.command({\n",
    "  'createIndexes': collection_name,\n",
    "  'indexes': [\n",
    "    {\n",
    "      'name': 'titleVectorIndex',\n",
    "      'key': {\n",
    "        \"titleVector\": \"cosmosSearch\"\n",
    "      },\n",
    "      'cosmosSearchOptions': {\n",
    "        'kind': 'vector-ivf',\n",
    "        'numLists': 1,\n",
    "        'similarity': 'COS',\n",
    "        'dimensions': 1536\n",
    "      }\n",
    "    },\n",
    "    {\n",
    "      'name': 'contentVectorIndex',\n",
    "      'key': {\n",
    "        \"contentVector\": \"cosmosSearch\"\n",
    "      },\n",
    "      'cosmosSearchOptions': {\n",
    "        \"kind\": \"vector-hnsw\", \n",
    "        \"m\": 16, # default value \n",
    "        \"efConstruction\": 64, # default value \n",
    "        \"similarity\": \"COS\", \n",
    "        'dimensions': 1536\n",
    "      }\n",
    "    }    \n",
    "  ]\n",
    "})"
   ]
  },
  {
   "cell_type": "markdown",
   "metadata": {},
   "source": [
    "### Helper function to create document embeddings"
   ]
  },
  {
   "cell_type": "code",
   "execution_count": null,
   "metadata": {},
   "outputs": [],
   "source": [
    "import os\n",
    "import json\n",
    "import time\n",
    "\n",
    "def generate_embeddings(text):\n",
    "    '''\n",
    "    Generate embeddings from string of text.\n",
    "    This will be used to vectorize data and user input for interactions with Azure OpenAI.\n",
    "    '''\n",
    "    response = client.embeddings.create(input=text,  model=\"text-embedding-ada-002\")\n",
    "    embeddings =response.model_dump()\n",
    "    time.sleep(0.5) \n",
    "    return embeddings['data'][0]['embedding']\n",
    "\n",
    "def generate_document_embeddings(input_json_path, output_json_path):\n",
    "    # Read the input JSON file\n",
    "    with open(input_json_path, 'r', encoding='utf-8') as file:\n",
    "        input_data = json.load(file)\n",
    "\n",
    "    titles = [item['title'] for item in input_data]\n",
    "    content = [item['content'] for item in input_data]\n",
    "    \n",
    "    # Generate embeddings for titles\n",
    "    title_response = client.embeddings.create(input=titles, model=\"text-embedding-ada-002\")\n",
    "    title_embeddings = [item.embedding for item in title_response.data]\n",
    "    \n",
    "    # Generate embeddings for content\n",
    "    content_response = client.embeddings.create(input=content, model=\"text-embedding-ada-002\")\n",
    "    content_embeddings = [item.embedding for item in content_response.data]\n",
    "\n",
    "    # Assign embeddings to the original data\n",
    "    for i, item in enumerate(input_data):\n",
    "        item['titleVector'] = title_embeddings[i]\n",
    "        item['contentVector'] = content_embeddings[i]\n",
    "\n",
    "    # Ensure the output directory exists\n",
    "    output_directory = os.path.dirname(output_json_path)\n",
    "    if not os.path.exists(output_directory):\n",
    "        os.makedirs(output_directory)\n",
    "    \n",
    "    # Write the modified data to the output JSON file\n",
    "    with open(output_json_path, \"w\") as f:\n",
    "        json.dump(input_data, f)\n",
    "\n",
    "\n",
    "# Generate and load the documents with embeddings from the output file\n",
    "output_path = os.path.join('output', 'docVectors.json')\n",
    "if not os.path.exists(output_path):\n",
    "    generate_document_embeddings(os.path.join('..', 'data', 'text-sample.json'), output_path)\n",
    "    \n",
    "with open(output_path, 'r') as file:  \n",
    "    documents = json.load(file)"
   ]
  },
  {
   "cell_type": "markdown",
   "metadata": {},
   "source": [
    "### Insert documents into Cosmos DB for MongoDB vCore"
   ]
  },
  {
   "cell_type": "code",
   "execution_count": null,
   "metadata": {},
   "outputs": [],
   "source": [
    "collection.insert_many(documents[:1])"
   ]
  },
  {
   "cell_type": "markdown",
   "metadata": {},
   "source": [
    "### Query items using embeddings"
   ]
  },
  {
   "cell_type": "code",
   "execution_count": null,
   "metadata": {},
   "outputs": [],
   "source": [
    "# Simple function to assist with vector search\n",
    "def vector_search(query, num_results=5):\n",
    "    query_embedding = generate_embeddings(query)\n",
    "    embeddings_list = []\n",
    "    pipeline = [\n",
    "        {\n",
    "            '$search': {\n",
    "                \"cosmosSearch\": {\n",
    "                    \"vector\": query_embedding,\n",
    "                    \"path\": \"contentVector\",\n",
    "                    \"k\": num_results#, #, \"efsearch\": 40 # optional for HNSW only \n",
    "                    #\"filter\": {\"title\": {\"$ne\": \"Azure Cosmos DB\"}}\n",
    "                },\n",
    "                \"returnStoredSource\": True }},\n",
    "        {'$project': { 'similarityScore': { '$meta': 'searchScore' }, 'document' : '$$ROOT' } }\n",
    "    ]\n",
    "    results = collection.aggregate(pipeline)\n",
    "    return results\n",
    "\n",
    "query = \"What is Azure App Service?\"#\"What are the services for running ML models?\"\n",
    "results = vector_search(query)\n",
    "for result in results: \n",
    "    # print(result)\n",
    "    print(f\"Similarity Score: {result['similarityScore']}\")  \n",
    "    print(f\"Title: {result['document']['title']}\")  \n",
    "    print(f\"Content: {result['document']['content']}\")  \n",
    "    print(f\"Category: {result['document']['category']}\\n\")  "
   ]
  },
  {
   "cell_type": "markdown",
   "metadata": {},
   "source": [
    "### Filtered vector search (Preview)\n",
    "\n",
    "You can add additional query filters to your vector search by creating a filtered index and specifying it in the search pipeline.\n",
    "\n",
    "Note: filtered vector search preview and needs to be enabled via Azure Preview Features for your subscription. Search for the preview feature \"filtering on vector search\". Learn more about it here: https://learn.microsoft.com/azure/azure-resource-manager/management/preview-features?tabs=azure-portal"
   ]
  },
  {
   "cell_type": "code",
   "execution_count": null,
   "metadata": {},
   "outputs": [],
   "source": [
    "# Add a filter index\n",
    "db.command( {\n",
    "    \"createIndexes\": collection_name,\n",
    "    \"indexes\": [ {\n",
    "        \"key\": { \n",
    "            \"title\": 1 \n",
    "               }, \n",
    "        \"name\": \"titleFilterIndex\" \n",
    "    }\n",
    "    ] \n",
    "} \n",
    ")\n",
    "\n",
    "# Verify all indexes are present\n",
    "for i in collection.list_indexes():\n",
    "    print(i)\n",
    "\n",
    "# Simple function to assist with vector search\n",
    "def filtered_vector_search(query, num_results=5):\n",
    "    query_embedding = generate_embeddings(query)\n",
    "    embeddings_list = []\n",
    "    pipeline = [\n",
    "        {\n",
    "            '$search': {\n",
    "                \"cosmosSearch\": {\n",
    "                    \"vector\": query_embedding,\n",
    "                    \"path\": \"contentVector\",\n",
    "                    \"k\": num_results,\n",
    "                    \"filter\": {\"title\": {\"$nin\": [\"Azure App Service\"]}}\n",
    "                },\n",
    "                \"returnStoredSource\": True }},\n",
    "        {'$project': { 'similarityScore': { '$meta': 'searchScore' }, 'document' : '$$ROOT' } }\n",
    "    ]\n",
    "    results = collection.aggregate(pipeline)\n",
    "    return results\n",
    "\n",
    "query = \"What is Azure App Service?\"#\"What are the services for running ML models?\"\n",
    "results = filtered_vector_search(query)\n",
    "for result in results: \n",
    "#     print(result)\n",
    "    print(f\"Similarity Score: {result['similarityScore']}\")  \n",
    "    print(f\"Title: {result['document']['title']}\")  \n",
    "    print(f\"Content: {result['document']['content']}\")  \n",
    "    print(f\"Category: {result['document']['category']}\\n\")  "
   ]
  },
  {
   "cell_type": "markdown",
   "metadata": {},
   "source": [
    "### Q&A over the data with GPT-3.5\n",
    "\n",
    "Finally, we'll create a helper function to feed prompts into the `Completions` model. Then we'll create interactive loop where you can pose questions to the model and receive information grounded in your data."
   ]
  },
  {
   "cell_type": "code",
   "execution_count": null,
   "metadata": {},
   "outputs": [],
   "source": [
    "#This function helps to ground the model with prompts and system instructions.\n",
    "\n",
    "def generate_completion(vector_search_results, user_prompt):\n",
    "    system_prompt = '''\n",
    "    You are an intelligent assistant for Microsoft Azure services.\n",
    "    You are designed to provide helpful answers to user questions about Azure services given the information about to be provided.\n",
    "        - Only answer questions related to the information provided below, provide at least 3 clear suggestions in a list format.\n",
    "        - Write two lines of whitespace between each answer in the list.\n",
    "        - If you're unsure of an answer, you can say \"\"I don't know\"\" or \"\"I'm not sure\"\" and recommend users search themselves.\"\n",
    "        - Only provide answers that have products that are part of Microsoft Azure and part of these following prompts.\n",
    "    '''\n",
    "\n",
    "    messages=[{\"role\": \"system\", \"content\": system_prompt}]\n",
    "    for item in vector_search_results:\n",
    "        messages.append({\"role\": \"system\", \"content\": item['document']['content']})\n",
    "    messages.append({\"role\": \"user\", \"content\": user_prompt})\n",
    "    response = client.chat.completions.create(model='gpt-35-turbo', messages=messages,temperature=0)\n",
    "    \n",
    "    return response.dict()"
   ]
  },
  {
   "cell_type": "code",
   "execution_count": null,
   "metadata": {},
   "outputs": [],
   "source": [
    "# Create a loop of user input and model output. You can now perform Q&A over the sample data!\n",
    "\n",
    "user_input = \"\"\n",
    "print(\"*** Please ask your model questions about Azure services. Type 'end' to end the session.\\n\")\n",
    "user_input = input(\"User prompt: \")\n",
    "while user_input.lower() != \"end\":\n",
    "    search_results = vector_search(user_input)\n",
    "    completions_results = generate_completion(search_results, user_input)\n",
    "    print(\"\\n\")\n",
    "    print(completions_results['choices'][0]['message']['content'])\n",
    "    user_input = input(\"User prompt: \")"
   ]
  },
  {
   "cell_type": "code",
   "execution_count": 28,
   "metadata": {},
   "outputs": [],
   "source": [
    "delete_stdout = ! az group delete --name {resource_group_name} -y\n",
    "\n",
    "if delete_stdout.n.startswith(\"ERROR\"):\n",
    "    print(delete_stdout)\n",
    "else:\n",
    "    print(\"✅ Azure Resource Grpup \", resource_group_name, \" deleted ⌚ \", datetime.datetime.now().time())"
   ]
  }
 ],
 "metadata": {
  "kernelspec": {
   "display_name": "openai",
   "language": "python",
   "name": "python3"
  },
  "language_info": {
   "codemirror_mode": {
    "name": "ipython",
    "version": 3
   },
   "file_extension": ".py",
   "mimetype": "text/x-python",
   "name": "python",
   "nbconvert_exporter": "python",
   "pygments_lexer": "ipython3",
   "version": "3.10.12"
  }
 },
 "nbformat": 4,
 "nbformat_minor": 2
}
