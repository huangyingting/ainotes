{
 "cells": [
  {
   "cell_type": "code",
   "execution_count": null,
   "metadata": {},
   "outputs": [],
   "source": [
    "%pip install openai python-dotenv --quiet"
   ]
  },
  {
   "cell_type": "code",
   "execution_count": 1,
   "metadata": {},
   "outputs": [
    {
     "data": {
      "text/plain": [
       "True"
      ]
     },
     "execution_count": 1,
     "metadata": {},
     "output_type": "execute_result"
    }
   ],
   "source": [
    "import os\n",
    "from dotenv import load_dotenv\n",
    "from langchain.document_loaders import DirectoryLoader\n",
    "from langchain_openai import AzureOpenAIEmbeddings, AzureChatOpenAI\n",
    "from langchain.text_splitter import RecursiveCharacterTextSplitter\n",
    "from langchain.vectorstores import Chroma\n",
    "from langchain.retrievers import ParentDocumentRetriever\n",
    "from langchain.storage import InMemoryStore\n",
    "from langchain.document_loaders import WebBaseLoader\n",
    "from langchain.prompts import PromptTemplate\n",
    "\n",
    "load_dotenv()"
   ]
  },
  {
   "cell_type": "code",
   "execution_count": 2,
   "metadata": {},
   "outputs": [
    {
     "name": "stdout",
     "output_type": "stream",
     "text": [
      "You have 1 document with length 24854 characters or roughly 6213.5 tokens\n"
     ]
    }
   ],
   "source": [
    "llm = AzureChatOpenAI(\n",
    "    azure_endpoint=os.getenv(\"AZURE_OPENAI_ENDPOINT\"),\n",
    "    openai_api_key=os.getenv(\"AZURE_OPENAI_API_KEY\"),\n",
    "    openai_api_version=os.getenv(\"OPENAI_API_VERSION\"),\n",
    "    azure_deployment=\"gpt-4\",\n",
    "    temperature=0,\n",
    ")\n",
    "\n",
    "# Loading a single website\n",
    "loader = WebBaseLoader(\"http://www.paulgraham.com/superlinear.html\")\n",
    "\n",
    "superlinear = loader.load()\n",
    "\n",
    "print (f\"You have {len(superlinear)} document with length {len(superlinear[0].page_content)} characters or roughly {len(superlinear[0].page_content) / 4} tokens\")\n"
   ]
  },
  {
   "cell_type": "code",
   "execution_count": 3,
   "metadata": {},
   "outputs": [],
   "source": [
    "# Split your website into big chunks\n",
    "parent_splitter = RecursiveCharacterTextSplitter(chunk_size=1000 * 4, chunk_overlap=0)\n",
    "\n",
    "# This text splitter is used to create the child documents. They should be small chunk size.\n",
    "child_splitter = RecursiveCharacterTextSplitter(chunk_size=125*4)"
   ]
  },
  {
   "cell_type": "code",
   "execution_count": 5,
   "metadata": {},
   "outputs": [],
   "source": [
    "# Embed and store your docs/vectors\n",
    "embeddings = AzureOpenAIEmbeddings(\n",
    "    azure_endpoint=os.getenv(\"AZURE_OPENAI_EMBEDDING_ENDPOINT\"),\n",
    "    openai_api_key=os.getenv(\"AZURE_OPENAI_EMBEDDING_API_KEY\"),\n",
    "    openai_api_version=os.getenv(\"AZURE_OPENAI_EMBEDDING_API_VERSION\"),\n",
    "    azure_deployment=\"text-embedding-3-small\",\n",
    ")\n",
    "\n",
    "# The vectorstore to use to index the child chunks\n",
    "vectorstore = Chroma(\n",
    "    collection_name=\"parent_document_splits\",\n",
    "    embedding_function=embeddings\n",
    ")\n",
    "\n",
    "# The storage layer for the parent documents\n",
    "docstore = InMemoryStore()"
   ]
  },
  {
   "cell_type": "code",
   "execution_count": 6,
   "metadata": {},
   "outputs": [],
   "source": [
    "# We'll add a large document\n",
    "# It will be split into large chunks (check out the code for that here)\n",
    "# Those chunks will get an id assigned to them\n",
    "# Those chunks will be further split into small chunks and the id from the parent the chunks were split from will be assigned to the child docs\n",
    "\n",
    "retriever = ParentDocumentRetriever(\n",
    "    vectorstore=vectorstore, \n",
    "    docstore=docstore,\n",
    "    child_splitter=child_splitter,\n",
    "    parent_splitter=parent_splitter\n",
    ")\n",
    "\n",
    "retriever.add_documents(superlinear)"
   ]
  },
  {
   "cell_type": "code",
   "execution_count": 7,
   "metadata": {},
   "outputs": [
    {
     "name": "stdout",
     "output_type": "stream",
     "text": [
      "You have 8 parent docs and 82 child docs\n"
     ]
    }
   ],
   "source": [
    "num_parent_docs = len(retriever.docstore.store.items())\n",
    "num_child_docs = len(set(retriever.vectorstore.get()['documents']))\n",
    "print (f\"You have {num_parent_docs} parent docs and {num_child_docs} child docs\")"
   ]
  },
  {
   "cell_type": "code",
   "execution_count": 8,
   "metadata": {},
   "outputs": [
    {
     "name": "stdout",
     "output_type": "stream",
     "text": [
      "4 child docs were found\n"
     ]
    },
    {
     "data": {
      "text/plain": [
       "Document(page_content=\"as true in investing, for example. It's only useful to believe that\\na company will do well if most other investors don't; if everyone\\nelse thinks the company will do well, then its stock price will\\nalready reflect that, and there's no room to make money.What else can we learn from these fields? In all of them you have\\nto put in the initial effort. Superlinear returns seem small at\\nfirst. At this rate, you find yourself thinking, I'll never get\", metadata={'doc_id': '4533d7c0-11c8-4107-aea0-cf62b0b34e1e', 'language': 'No language found.', 'source': 'http://www.paulgraham.com/superlinear.html', 'title': 'Superlinear Returns'})"
      ]
     },
     "execution_count": 8,
     "metadata": {},
     "output_type": "execute_result"
    }
   ],
   "source": [
    "child_docs = retriever.vectorstore.similarity_search(\"what is some investing advice?\")\n",
    "\n",
    "print (f\"{len(child_docs)} child docs were found\") \n",
    "child_docs[0]"
   ]
  },
  {
   "cell_type": "code",
   "execution_count": 9,
   "metadata": {},
   "outputs": [
    {
     "data": {
      "text/plain": [
       "\"science. It has exponential growth, in the form of learning, combined\\nwith thresholds at the extreme edge of performance — literally at\\nthe limits of knowledge.The result has been a level of inequality in scientific discovery\\nthat makes the wealth inequality of even the most stratified societies\\nseem mild by comparison. Newton's discoveries were arguably greater\\nthan all his contemporaries' combined.\\n[11]This point may seem obvious, but it might be just as well to spell\\nit out. Superlinear retur\""
      ]
     },
     "execution_count": 9,
     "metadata": {},
     "output_type": "execute_result"
    }
   ],
   "source": [
    "retriever.docstore.store.get(child_docs[0].metadata['doc_id']).page_content[:500]"
   ]
  },
  {
   "cell_type": "code",
   "execution_count": 10,
   "metadata": {},
   "outputs": [
    {
     "name": "stdout",
     "output_type": "stream",
     "text": [
      "2 retrieved docs were found\n"
     ]
    }
   ],
   "source": [
    "retrieved_docs = retriever.get_relevant_documents(\"what is some investing advice?\")\n",
    "print (f\"{len(retrieved_docs)} retrieved docs were found\")"
   ]
  }
 ],
 "metadata": {
  "kernelspec": {
   "display_name": "openai",
   "language": "python",
   "name": "python3"
  },
  "language_info": {
   "codemirror_mode": {
    "name": "ipython",
    "version": 3
   },
   "file_extension": ".py",
   "mimetype": "text/x-python",
   "name": "python",
   "nbconvert_exporter": "python",
   "pygments_lexer": "ipython3",
   "version": "3.10.12"
  }
 },
 "nbformat": 4,
 "nbformat_minor": 2
}
