{
 "cells": [
  {
   "cell_type": "code",
   "execution_count": 1,
   "metadata": {},
   "outputs": [
    {
     "name": "stdout",
     "output_type": "stream",
     "text": [
      "Note: you may need to restart the kernel to use updated packages.\n"
     ]
    }
   ],
   "source": [
    "%pip install openai python-dotenv --quiet"
   ]
  },
  {
   "cell_type": "code",
   "execution_count": 1,
   "metadata": {},
   "outputs": [
    {
     "data": {
      "text/plain": [
       "True"
      ]
     },
     "execution_count": 1,
     "metadata": {},
     "output_type": "execute_result"
    }
   ],
   "source": [
    "import os\n",
    "from dotenv import load_dotenv\n",
    "from langchain_openai import AzureOpenAIEmbeddings, AzureChatOpenAI\n",
    "from langchain.schema.document import Document\n",
    "from langchain.chains.summarize import load_summarize_chain\n",
    "from langchain.document_loaders import WebBaseLoader\n",
    "from langchain.text_splitter import RecursiveCharacterTextSplitter\n",
    "from langchain.retrievers.multi_vector import MultiVectorRetriever\n",
    "from langchain.vectorstores import Chroma\n",
    "from langchain.storage import InMemoryStore\n",
    "import uuid\n",
    "\n",
    "load_dotenv()"
   ]
  },
  {
   "cell_type": "code",
   "execution_count": 2,
   "metadata": {},
   "outputs": [
    {
     "name": "stdout",
     "output_type": "stream",
     "text": [
      "Your 1 documents have been split into 5 chunks\n"
     ]
    }
   ],
   "source": [
    "# Get your LLM and summarize chain going\n",
    "\n",
    "llm = AzureChatOpenAI(\n",
    "    azure_endpoint=os.getenv(\"AZURE_OPENAI_ENDPOINT\"),\n",
    "    openai_api_key=os.getenv(\"AZURE_OPENAI_API_KEY\"),\n",
    "    openai_api_version=os.getenv(\"OPENAI_API_VERSION\"),\n",
    "    azure_deployment=\"gpt-4\",\n",
    "    temperature=0,\n",
    ")\n",
    "\n",
    "# Loading a single website\n",
    "loader = WebBaseLoader(\"http://www.paulgraham.com/superlinear.html\")\n",
    "docs = loader.load()\n",
    "\n",
    "# Split your website into big chunks\n",
    "text_splitter = RecursiveCharacterTextSplitter(chunk_size=7000, chunk_overlap=0)\n",
    "chunks = text_splitter.split_documents(docs)\n",
    "\n",
    "print (f\"Your {len(docs)} documents have been split into {len(chunks)} chunks\")"
   ]
  },
  {
   "cell_type": "code",
   "execution_count": 6,
   "metadata": {},
   "outputs": [
    {
     "name": "stdout",
     "output_type": "stream",
     "text": [
      "You have 5 summaries to go along with your 5 chunks\n"
     ]
    }
   ],
   "source": [
    "chain = load_summarize_chain(llm)\n",
    "\n",
    "id_key = \"doc_id\" # This is the key that we will tell the retriever to connect the summaries and original docs on\n",
    "\n",
    "summaries = [] # To hold our summaries\n",
    "\n",
    "for chunk in chunks:\n",
    "    # First let's get an ID that we'll assign to the chunk and summary. You don't need a UUID here, use whatever you want\n",
    "    unique_id = str(uuid.uuid4())\n",
    "\n",
    "    # Then let's get the summary\n",
    "    chunk_summary = chain.invoke([chunk])\n",
    "    chunk_summary_document = Document(page_content=chunk_summary[\"output_text\"], metadata={id_key: unique_id}) # Give the ID to the summary\n",
    "    summaries.append(chunk_summary_document)\n",
    "\n",
    "    # Then finnally add that same id to your chunk\n",
    "    chunk.metadata[id_key] = unique_id\n",
    "\n",
    "print (f\"You have {len(summaries)} summaries to go along with your {len(chunks)} chunks\")"
   ]
  },
  {
   "cell_type": "code",
   "execution_count": 7,
   "metadata": {},
   "outputs": [],
   "source": [
    "# Embed and store your docs/vectors\n",
    "embeddings = AzureOpenAIEmbeddings(\n",
    "    azure_endpoint=os.getenv(\"AZURE_OPENAI_EMBEDDING_ENDPOINT\"),\n",
    "    openai_api_key=os.getenv(\"AZURE_OPENAI_EMBEDDING_API_KEY\"),\n",
    "    openai_api_version=os.getenv(\"AZURE_OPENAI_EMBEDDING_API_VERSION\"),\n",
    "    azure_deployment=\"text-embedding-3-small\",\n",
    ")\n",
    "\n",
    "# The vectorstore to use to index the summary chunks\n",
    "vectorstore = Chroma(collection_name=\"summaries\", embedding_function=embeddings)\n",
    "\n",
    "# The storage layer for the parent documents\n",
    "docstore = InMemoryStore()"
   ]
  },
  {
   "cell_type": "code",
   "execution_count": 8,
   "metadata": {},
   "outputs": [
    {
     "data": {
      "text/plain": [
       "['77655c25-f65d-441a-bd84-827c342c8918',\n",
       " 'ae4bbe5d-5b4e-4b0e-a3c0-fb58a35b7e60',\n",
       " 'b7ce35a0-3aa7-4ba9-acfd-4eb4968831e2',\n",
       " 'fedc8195-5beb-4a3d-9112-5b26a5ef071d',\n",
       " 'b96a04cf-f19b-4271-a655-7a30b24827fb']"
      ]
     },
     "execution_count": 8,
     "metadata": {},
     "output_type": "execute_result"
    }
   ],
   "source": [
    "# The retriever (empty to start)\n",
    "retriever = MultiVectorRetriever(\n",
    "    vectorstore=vectorstore,\n",
    "    docstore=docstore,\n",
    "    id_key=id_key, # \"Hey, what should we join on?\"\n",
    ")\n",
    "\n",
    "# Add your summary docs (with their ids) to the vectorstore. I'm unsure why a list of a uuid is returned, might be a bug.\n",
    "retriever.vectorstore.add_documents(summaries)"
   ]
  },
  {
   "cell_type": "code",
   "execution_count": 9,
   "metadata": {},
   "outputs": [
    {
     "data": {
      "text/plain": [
       "Document(page_content='The text discusses the concept of gradual improvements in technique over time, rather than breakthroughs by a few individuals. It explains that a step function can represent the reward curve for effort, where the rewards increase significantly after a certain point, encouraging rational actors to strive for that level. Competition is seen as a motivating factor and an indicator of valuable problems, but it\\'s not always reliable as popularity can be driven by factors like monopoly, regulation, or poor consumer choice. The author reflects on their own motivation to become an artist due to the perceived independence from organizations.\\n\\nThe text also touches on the idea that while everyone has the potential for superlinear returns through compounding learning, few people push themselves to the point where they see significant benefits. There\\'s a discussion on the ambiguous meaning of \"equity\" and how it contrasts with a world where a few outliers succeed significantly more than others. This concept is seen as a response to the threat felt by its proponents from increasing performance variation.\\n\\nA corollary is presented, suggesting that parents who pressure their children into prestigious but uninteresting fields are doing them a disservice, especially in the current climate. The author notes that the paragraph was the seed for a larger work on doing great work, which was expanded and revised.\\n\\nThe text concludes by contrasting historical wealth accumulation methods with modern ones, where discovery and innovation play a larger role. It suggests that people who are conventional-minded struggle with the concept of inequality driven by independent-mindedness, often attributing it to unfair advantages or external influences. The author thanks several individuals for their feedback on drafts of the text.', metadata={'doc_id': '63c5fca7-93fa-4718-96c3-51c0395359bc'})"
      ]
     },
     "execution_count": 9,
     "metadata": {},
     "output_type": "execute_result"
    }
   ],
   "source": [
    "_similar_docs = retriever.vectorstore.similarity_search(\"What is is the influence of organizations on equity?\")\n",
    "_similar_docs[0]"
   ]
  },
  {
   "cell_type": "code",
   "execution_count": 10,
   "metadata": {},
   "outputs": [
    {
     "name": "stdout",
     "output_type": "stream",
     "text": [
      "gradual improvements in technique, not the discoveries of a few\n",
      "exceptionally learned people.[3]\n",
      "It's not mathematically correct to describe a step function as\n",
      "superlinear, but a step function starting from zero works like a\n",
      "superlinear function when it describes the reward curve for effort\n",
      "by a rational actor. If it starts at zero then the part before the\n",
      "step is below any linearly increasing return, and the part after\n",
      "the step must be above the necessary return at that point or no one\n",
      "would bo\n",
      "{'source': 'http://www.paulgraham.com/superlinear.html', 'title': 'Superlinear Returns', 'language': 'No language found.', 'doc_id': '63c5fca7-93fa-4718-96c3-51c0395359bc'}\n"
     ]
    }
   ],
   "source": [
    "# This will give each of your splits the ID you made earlier\n",
    "retriever.docstore.mset([(x.metadata[id_key], x) for x in chunks])\n",
    "retrieved_docs = retriever.get_relevant_documents(\"What is is the influence of organizations on equity?\")\n",
    "print (retrieved_docs[0].page_content[:500])\n",
    "print (retrieved_docs[0].metadata)"
   ]
  }
 ],
 "metadata": {
  "kernelspec": {
   "display_name": "openai",
   "language": "python",
   "name": "python3"
  },
  "language_info": {
   "codemirror_mode": {
    "name": "ipython",
    "version": 3
   },
   "file_extension": ".py",
   "mimetype": "text/x-python",
   "name": "python",
   "nbconvert_exporter": "python",
   "pygments_lexer": "ipython3",
   "version": "3.10.12"
  }
 },
 "nbformat": 4,
 "nbformat_minor": 2
}
