{
 "cells": [
  {
   "cell_type": "code",
   "execution_count": 1,
   "metadata": {},
   "outputs": [
    {
     "name": "stdout",
     "output_type": "stream",
     "text": [
      "Note: you may need to restart the kernel to use updated packages.\n"
     ]
    }
   ],
   "source": [
    "%pip install langchain langchain_openai crewai --quiet"
   ]
  },
  {
   "cell_type": "code",
   "execution_count": 2,
   "metadata": {},
   "outputs": [
    {
     "name": "stdout",
     "output_type": "stream",
     "text": [
      "\n",
      "\n",
      "\u001b[1m> Entering new CrewAgentExecutor chain...\u001b[0m\n",
      "\u001b[32;1m\u001b[1;3mThought: Do I need to use a tool? No\n",
      "Final Answer: To identify the next big trend in AI, I will analyze current research papers, attend conferences and seminars, and stay updated with the latest news and developments in the field. This will help me identify emerging technologies and areas of innovation within AI. Additionally, I will reach out to experts and thought leaders in the field to gather their insights and opinions.\u001b[0m\n",
      "\n",
      "\u001b[1m> Finished chain.\u001b[0m\n"
     ]
    },
    {
     "data": {
      "text/plain": [
       "'To identify the next big trend in AI, I will analyze current research papers, attend conferences and seminars, and stay updated with the latest news and developments in the field. This will help me identify emerging technologies and areas of innovation within AI. Additionally, I will reach out to experts and thought leaders in the field to gather their insights and opinions.'"
      ]
     },
     "execution_count": 2,
     "metadata": {},
     "output_type": "execute_result"
    }
   ],
   "source": [
    "from crewai import Agent, Task\n",
    "from dotenv import load_dotenv\n",
    "from crewai import Crew, Process\n",
    "from langchain_openai import AzureChatOpenAI\n",
    "\n",
    "load_dotenv()\n",
    "\n",
    "DEPLOYMENT_NAME=\"gpt-35-turbo\"\n",
    "MODEL_NAME = \"gpt-35-turbo\"\n",
    "API_VERSION=\"2023-12-01-preview\"\n",
    "\n",
    "default_llm = AzureChatOpenAI(\n",
    "    azure_deployment=DEPLOYMENT_NAME, \n",
    "    model_name=MODEL_NAME, \n",
    "    openai_api_version=API_VERSION)\n",
    "\n",
    "\n",
    "# Create a researcher agent\n",
    "researcher = Agent(\n",
    "  role='Senior Researcher',\n",
    "  goal='Discover groundbreaking technologies',\n",
    "  verbose=True,\n",
    "  llm=default_llm,\n",
    "  backstory='A curious mind fascinated by cutting-edge innovation and the potential to change the world, you know everything about tech.'\n",
    ")\n",
    "\n",
    "# Task for the researcher\n",
    "research_task = Task(\n",
    "  description='Identify the next big trend in AI',\n",
    "  agent=researcher  # Assigning the task to the researcher\n",
    ")\n",
    "\n",
    "\n",
    "# Instantiate your crew\n",
    "tech_crew = Crew(\n",
    "  agents=[researcher],\n",
    "  tasks=[research_task],\n",
    "  process=Process.sequential  # Tasks will be executed one after the other\n",
    ")\n",
    "\n",
    "# Begin the task execution\n",
    "tech_crew.kickoff()"
   ]
  }
 ],
 "metadata": {
  "kernelspec": {
   "display_name": "venv",
   "language": "python",
   "name": "python3"
  },
  "language_info": {
   "codemirror_mode": {
    "name": "ipython",
    "version": 3
   },
   "file_extension": ".py",
   "mimetype": "text/x-python",
   "name": "python",
   "nbconvert_exporter": "python",
   "pygments_lexer": "ipython3",
   "version": "3.10.12"
  }
 },
 "nbformat": 4,
 "nbformat_minor": 2
}
