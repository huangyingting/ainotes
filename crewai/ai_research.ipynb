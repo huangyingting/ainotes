{
 "cells": [
  {
   "cell_type": "code",
   "execution_count": 1,
   "metadata": {},
   "outputs": [
    {
     "name": "stdout",
     "output_type": "stream",
     "text": [
      "Requirement already satisfied: langchain in /home/ythuang/venv/lib/python3.10/site-packages (0.1.4)\n",
      "Requirement already satisfied: langchain_openai in /home/ythuang/venv/lib/python3.10/site-packages (0.0.5)\n",
      "Collecting crewai\n",
      "  Downloading crewai-0.1.32-py3-none-any.whl (25 kB)\n",
      "Requirement already satisfied: aiohttp<4.0.0,>=3.8.3 in /home/ythuang/venv/lib/python3.10/site-packages (from langchain) (3.9.0)\n",
      "Requirement already satisfied: SQLAlchemy<3,>=1.4 in /home/ythuang/venv/lib/python3.10/site-packages (from langchain) (2.0.25)\n",
      "Requirement already satisfied: numpy<2,>=1 in /home/ythuang/venv/lib/python3.10/site-packages (from langchain) (1.26.2)\n",
      "Requirement already satisfied: requests<3,>=2 in /home/ythuang/venv/lib/python3.10/site-packages (from langchain) (2.31.0)\n",
      "Requirement already satisfied: async-timeout<5.0.0,>=4.0.0 in /home/ythuang/venv/lib/python3.10/site-packages (from langchain) (4.0.3)\n",
      "Requirement already satisfied: PyYAML>=5.3 in /home/ythuang/venv/lib/python3.10/site-packages (from langchain) (6.0.1)\n",
      "Requirement already satisfied: langchain-core<0.2,>=0.1.16 in /home/ythuang/venv/lib/python3.10/site-packages (from langchain) (0.1.16)\n",
      "Requirement already satisfied: pydantic<3,>=1 in /home/ythuang/venv/lib/python3.10/site-packages (from langchain) (2.5.2)\n",
      "Requirement already satisfied: langsmith<0.1,>=0.0.83 in /home/ythuang/venv/lib/python3.10/site-packages (from langchain) (0.0.84)\n",
      "Requirement already satisfied: langchain-community<0.1,>=0.0.14 in /home/ythuang/venv/lib/python3.10/site-packages (from langchain) (0.0.16)\n",
      "Requirement already satisfied: dataclasses-json<0.7,>=0.5.7 in /home/ythuang/venv/lib/python3.10/site-packages (from langchain) (0.5.14)\n",
      "Requirement already satisfied: tenacity<9.0.0,>=8.1.0 in /home/ythuang/venv/lib/python3.10/site-packages (from langchain) (8.2.3)\n",
      "Requirement already satisfied: jsonpatch<2.0,>=1.33 in /home/ythuang/venv/lib/python3.10/site-packages (from langchain) (1.33)\n",
      "Requirement already satisfied: openai<2.0.0,>=1.10.0 in /home/ythuang/venv/lib/python3.10/site-packages (from langchain_openai) (1.10.0)\n",
      "Requirement already satisfied: tiktoken<0.6.0,>=0.5.2 in /home/ythuang/venv/lib/python3.10/site-packages (from langchain_openai) (0.5.2)\n",
      "Collecting langchain_openai\n",
      "  Downloading langchain_openai-0.0.2.post1-py3-none-any.whl (28 kB)\n",
      "Requirement already satisfied: aiosignal>=1.1.2 in /home/ythuang/venv/lib/python3.10/site-packages (from aiohttp<4.0.0,>=3.8.3->langchain) (1.3.1)\n",
      "Requirement already satisfied: attrs>=17.3.0 in /home/ythuang/venv/lib/python3.10/site-packages (from aiohttp<4.0.0,>=3.8.3->langchain) (23.1.0)\n",
      "Requirement already satisfied: multidict<7.0,>=4.5 in /home/ythuang/venv/lib/python3.10/site-packages (from aiohttp<4.0.0,>=3.8.3->langchain) (6.0.4)\n",
      "Requirement already satisfied: frozenlist>=1.1.1 in /home/ythuang/venv/lib/python3.10/site-packages (from aiohttp<4.0.0,>=3.8.3->langchain) (1.4.0)\n",
      "Requirement already satisfied: yarl<2.0,>=1.0 in /home/ythuang/venv/lib/python3.10/site-packages (from aiohttp<4.0.0,>=3.8.3->langchain) (1.9.3)\n",
      "Requirement already satisfied: marshmallow<4.0.0,>=3.18.0 in /home/ythuang/venv/lib/python3.10/site-packages (from dataclasses-json<0.7,>=0.5.7->langchain) (3.20.1)\n",
      "Requirement already satisfied: typing-inspect<1,>=0.4.0 in /home/ythuang/venv/lib/python3.10/site-packages (from dataclasses-json<0.7,>=0.5.7->langchain) (0.9.0)\n",
      "Requirement already satisfied: jsonpointer>=1.9 in /home/ythuang/venv/lib/python3.10/site-packages (from jsonpatch<2.0,>=1.33->langchain) (2.4)\n",
      "Requirement already satisfied: anyio<5,>=3 in /home/ythuang/venv/lib/python3.10/site-packages (from langchain-core<0.2,>=0.1.16->langchain) (3.7.1)\n",
      "Requirement already satisfied: packaging<24.0,>=23.2 in /home/ythuang/venv/lib/python3.10/site-packages (from langchain-core<0.2,>=0.1.16->langchain) (23.2)\n",
      "Requirement already satisfied: httpx<1,>=0.23.0 in /home/ythuang/venv/lib/python3.10/site-packages (from openai<2.0.0,>=1.10.0->langchain_openai) (0.24.1)\n",
      "Requirement already satisfied: typing-extensions<5,>=4.7 in /home/ythuang/venv/lib/python3.10/site-packages (from openai<2.0.0,>=1.10.0->langchain_openai) (4.8.0)\n",
      "Requirement already satisfied: distro<2,>=1.7.0 in /home/ythuang/venv/lib/python3.10/site-packages (from openai<2.0.0,>=1.10.0->langchain_openai) (1.8.0)\n",
      "Requirement already satisfied: sniffio in /home/ythuang/venv/lib/python3.10/site-packages (from openai<2.0.0,>=1.10.0->langchain_openai) (1.3.0)\n",
      "Requirement already satisfied: tqdm>4 in /home/ythuang/venv/lib/python3.10/site-packages (from openai<2.0.0,>=1.10.0->langchain_openai) (4.66.1)\n",
      "Requirement already satisfied: pydantic-core==2.14.5 in /home/ythuang/venv/lib/python3.10/site-packages (from pydantic<3,>=1->langchain) (2.14.5)\n",
      "Requirement already satisfied: annotated-types>=0.4.0 in /home/ythuang/venv/lib/python3.10/site-packages (from pydantic<3,>=1->langchain) (0.6.0)\n",
      "Requirement already satisfied: urllib3<3,>=1.21.1 in /home/ythuang/venv/lib/python3.10/site-packages (from requests<3,>=2->langchain) (2.1.0)\n",
      "Requirement already satisfied: idna<4,>=2.5 in /home/ythuang/venv/lib/python3.10/site-packages (from requests<3,>=2->langchain) (3.4)\n",
      "Requirement already satisfied: charset-normalizer<4,>=2 in /home/ythuang/venv/lib/python3.10/site-packages (from requests<3,>=2->langchain) (3.3.2)\n",
      "Requirement already satisfied: certifi>=2017.4.17 in /home/ythuang/venv/lib/python3.10/site-packages (from requests<3,>=2->langchain) (2023.11.17)\n",
      "Requirement already satisfied: greenlet!=0.4.17 in /home/ythuang/venv/lib/python3.10/site-packages (from SQLAlchemy<3,>=1.4->langchain) (3.0.3)\n",
      "Requirement already satisfied: regex>=2022.1.18 in /home/ythuang/venv/lib/python3.10/site-packages (from tiktoken<0.6.0,>=0.5.2->langchain_openai) (2023.10.3)\n",
      "Requirement already satisfied: exceptiongroup in /home/ythuang/venv/lib/python3.10/site-packages (from anyio<5,>=3->langchain-core<0.2,>=0.1.16->langchain) (1.2.0)\n",
      "Requirement already satisfied: httpcore<0.18.0,>=0.15.0 in /home/ythuang/venv/lib/python3.10/site-packages (from httpx<1,>=0.23.0->openai<2.0.0,>=1.10.0->langchain_openai) (0.17.3)\n",
      "Requirement already satisfied: mypy-extensions>=0.3.0 in /home/ythuang/venv/lib/python3.10/site-packages (from typing-inspect<1,>=0.4.0->dataclasses-json<0.7,>=0.5.7->langchain) (1.0.0)\n",
      "Requirement already satisfied: h11<0.15,>=0.13 in /home/ythuang/venv/lib/python3.10/site-packages (from httpcore<0.18.0,>=0.15.0->httpx<1,>=0.23.0->openai<2.0.0,>=1.10.0->langchain_openai) (0.14.0)\n",
      "Installing collected packages: langchain_openai, crewai\n",
      "  Attempting uninstall: langchain_openai\n",
      "    Found existing installation: langchain-openai 0.0.5\n",
      "    Uninstalling langchain-openai-0.0.5:\n",
      "      Successfully uninstalled langchain-openai-0.0.5\n",
      "Successfully installed crewai-0.1.32 langchain_openai-0.0.2.post1\n",
      "Note: you may need to restart the kernel to use updated packages.\n"
     ]
    }
   ],
   "source": [
    "%pip install langchain langchain_openai crewai"
   ]
  },
  {
   "cell_type": "code",
   "execution_count": 2,
   "metadata": {},
   "outputs": [
    {
     "name": "stdout",
     "output_type": "stream",
     "text": [
      "\n",
      "\n",
      "\u001b[1m> Entering new CrewAgentExecutor chain...\u001b[0m\n",
      "\u001b[32;1m\u001b[1;3mThought: Do I need to use a tool? No\n",
      "Final Answer: To identify the next big trend in AI, I will analyze current research papers, attend conferences and seminars, and stay updated with the latest news and developments in the field. This will help me identify emerging technologies and areas of innovation within AI. Additionally, I will reach out to experts and thought leaders in the field to gather their insights and opinions.\u001b[0m\n",
      "\n",
      "\u001b[1m> Finished chain.\u001b[0m\n"
     ]
    },
    {
     "data": {
      "text/plain": [
       "'To identify the next big trend in AI, I will analyze current research papers, attend conferences and seminars, and stay updated with the latest news and developments in the field. This will help me identify emerging technologies and areas of innovation within AI. Additionally, I will reach out to experts and thought leaders in the field to gather their insights and opinions.'"
      ]
     },
     "execution_count": 2,
     "metadata": {},
     "output_type": "execute_result"
    }
   ],
   "source": [
    "from crewai import Agent, Task\n",
    "from dotenv import load_dotenv\n",
    "from crewai import Crew, Process\n",
    "from langchain_openai import AzureChatOpenAI\n",
    "\n",
    "load_dotenv()\n",
    "\n",
    "DEPLOYMENT_NAME=\"gpt-35-turbo\"\n",
    "MODEL_NAME = \"gpt-35-turbo\"\n",
    "API_VERSION=\"2023-12-01-preview\"\n",
    "\n",
    "default_llm = AzureChatOpenAI(\n",
    "    azure_deployment=DEPLOYMENT_NAME, \n",
    "    model_name=MODEL_NAME, \n",
    "    openai_api_version=API_VERSION)\n",
    "\n",
    "\n",
    "# Create a researcher agent\n",
    "researcher = Agent(\n",
    "  role='Senior Researcher',\n",
    "  goal='Discover groundbreaking technologies',\n",
    "  verbose=True,\n",
    "  llm=default_llm,\n",
    "  backstory='A curious mind fascinated by cutting-edge innovation and the potential to change the world, you know everything about tech.'\n",
    ")\n",
    "\n",
    "# Task for the researcher\n",
    "research_task = Task(\n",
    "  description='Identify the next big trend in AI',\n",
    "  agent=researcher  # Assigning the task to the researcher\n",
    ")\n",
    "\n",
    "\n",
    "# Instantiate your crew\n",
    "tech_crew = Crew(\n",
    "  agents=[researcher],\n",
    "  tasks=[research_task],\n",
    "  process=Process.sequential  # Tasks will be executed one after the other\n",
    ")\n",
    "\n",
    "# Begin the task execution\n",
    "tech_crew.kickoff()"
   ]
  }
 ],
 "metadata": {
  "kernelspec": {
   "display_name": "venv",
   "language": "python",
   "name": "python3"
  },
  "language_info": {
   "codemirror_mode": {
    "name": "ipython",
    "version": 3
   },
   "file_extension": ".py",
   "mimetype": "text/x-python",
   "name": "python",
   "nbconvert_exporter": "python",
   "pygments_lexer": "ipython3",
   "version": "3.10.12"
  }
 },
 "nbformat": 4,
 "nbformat_minor": 2
}
