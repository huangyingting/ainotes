{
 "cells": [
  {
   "cell_type": "code",
   "execution_count": 7,
   "metadata": {},
   "outputs": [],
   "source": [
    "from dotenv import load_dotenv\n",
    "load_dotenv()\n",
    "import os\n",
    "\n",
    "from langtrace_python_sdk import langtrace # Must precede any llm module imports\n",
    "langtrace.init(\n",
    "    api_key = os.getenv(\"LANGTRACE_API_KEY\"),\n",
    "    api_host = os.getenv(\"LANGTRACE_API_HOST\"),\n",
    "    # write_spans_to_console = True\n",
    ")\n",
    "\n",
    "from crewai import Agent, Task, LLM, Crew, Process\n",
    "\n",
    "from crewai_tools import tool\n",
    "from datetime import datetime\n",
    "\n",
    "@tool(\"Get current date\")\n",
    "def get_current_date() -> str:\n",
    "    \"\"\"Get current date.\"\"\"\n",
    "    return datetime.now().strftime(\"%Y-%m-%d\")\n",
    "\n",
    "\n",
    "llm = LLM(\n",
    "    api_key = os.getenv(\"AZURE_API_KEY\"),\n",
    "    api_version = os.getenv(\"AZURE_API_VERSION\"),\n",
    "    base_url = os.getenv(\"AZURE_API_BASE\"),\n",
    "    model = 'azure/gpt-4o-mini',\n",
    "    azure=True\n",
    ")\n",
    "\n",
    "# Create a researcher agent\n",
    "researcher = Agent(\n",
    "  role='Senior Researcher',\n",
    "  goal='Discover groundbreaking technologies',\n",
    "  backstory='A curious mind fascinated by cutting-edge innovation and the potential to change the world, you know everything about tech.',\n",
    "  tools=[get_current_date],\n",
    "  verbose=True,\n",
    "  llm=llm\n",
    ")\n",
    "\n",
    "# Task for the researcher\n",
    "research_task = Task(\n",
    "  description='Identify the next big trend in AI',\n",
    "  expected_output='A research report',\n",
    "  agent=researcher  # Assigning the task to the researcher\n",
    ")\n",
    "\n",
    "# Instantiate your crew\n",
    "tech_crew = Crew(\n",
    "  agents=[researcher],\n",
    "  tasks=[research_task],\n",
    "  verbose=True,\n",
    "  process=Process.sequential  # Tasks will be executed one after the other\n",
    ")\n",
    "\n",
    "# Begin the task execution\n",
    "output = tech_crew.kickoff()"
   ]
  },
  {
   "cell_type": "code",
   "execution_count": 8,
   "metadata": {},
   "outputs": [
    {
     "data": {
      "text/markdown": [
       "**Research Report on the Next Big Trend in AI: November 2024**\n",
       "\n",
       "**Title: The Rise of Generative AI and its Applications**\n",
       "\n",
       "**Executive Summary:**\n",
       "As of November 2024, generative AI has emerged as one of the most disruptive and promising trends in the artificial intelligence landscape. This report explores the advancements, implications, and future potential of generative AI technologies.\n",
       "\n",
       "**1. Introduction**\n",
       "Generative AI refers to algorithms that can generate new content, from text and images to music and video, based on the data they have been trained on. The rapid advancements in deep learning and neural networks have propelled this technology into various sectors, revolutionizing traditional processes and creating new business models.\n",
       "\n",
       "**2. Current Landscape of Generative AI**\n",
       "Generative AI models, such as GPT-4, DALL-E, and generative adversarial networks (GANs), have made significant strides. Their capabilities now extend beyond simple content generation to more sophisticated applications, including:\n",
       "- Content creation in marketing and advertising\n",
       "- Virtual reality environments in gaming\n",
       "- Personalized educational content\n",
       "- Assistive technologies for those with disabilities\n",
       "\n",
       "**3. Key Technologies Driving Generative AI**\n",
       "Several core technologies are propelling generative AI forward:\n",
       "- **Transformers:** Revolutionized natural language processing and understanding through self-attention mechanisms, allowing models to comprehend context and nuances better.\n",
       "- **Large Language Models (LLMs):** Their ability to generate human-like text has opened avenues for virtual assistants and AI-driven customer service solutions.\n",
       "- **Diffusion Models:** These have significantly improved image-generation quality, leading to successful applications in creative fields and beyond.\n",
       "\n",
       "**4. Societal Implications**\n",
       "The proliferation of generative AI raises ethical considerations, including:\n",
       "- Intellectual property rights concerning AI-generated content.\n",
       "- Misinformation and deepfakes, with potential impacts on trust in media.\n",
       "- Job displacement in creative industries versus the creation of new roles.\n",
       "\n",
       "**5. Future Trends and Predictions**\n",
       "Looking ahead, several trends are expected to shape the generative AI landscape:\n",
       "- **Customization:** Tailoring AI models to individual user preferences for personalized experiences.\n",
       "- **Collaboration with Humans:** Enhancing creativity by combining human and AI efforts, leading to novel works in arts and sciences.\n",
       "- **Regulation and Ethical Frameworks:** As generative AI becomes more ingrained in society, regulations addressing its ethical use will become crucial.\n",
       "\n",
       "**6. Conclusion**\n",
       "Generative AI represents a significant milestone in the evolution of artificial intelligence, with the potential to transform numerous industries. As we continue to explore its capabilities and address its challenges, the importance of responsible and innovative development will be paramount. Organizations must remain agile, adapting to the rapid changes generative AI brings to ensure they leverage its potential effectively while safeguarding ethical standards.\n",
       "\n",
       "**7. References**\n",
       "- \"Understanding Generative AI\" by AI Research Institute, 2024.\n",
       "- \"The Future of Work: Adapting to AI\" by Tech Innovations Journal, 2024.\n",
       "\n",
       "**End of Report**"
      ],
      "text/plain": [
       "<IPython.core.display.Markdown object>"
      ]
     },
     "metadata": {},
     "output_type": "display_data"
    }
   ],
   "source": [
    "from IPython.display import Markdown, display\n",
    "display(Markdown(output.raw))"
   ]
  }
 ],
 "metadata": {
  "kernelspec": {
   "display_name": "crewai",
   "language": "python",
   "name": "python3"
  },
  "language_info": {
   "codemirror_mode": {
    "name": "ipython",
    "version": 3
   },
   "file_extension": ".py",
   "mimetype": "text/x-python",
   "name": "python",
   "nbconvert_exporter": "python",
   "pygments_lexer": "ipython3",
   "version": "3.12.3"
  }
 },
 "nbformat": 4,
 "nbformat_minor": 2
}
