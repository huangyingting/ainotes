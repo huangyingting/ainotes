{
 "cells": [
  {
   "cell_type": "code",
   "execution_count": 2,
   "metadata": {},
   "outputs": [],
   "source": [
    "import warnings\n",
    "warnings.filterwarnings('ignore')\n",
    "\n",
    "import numpy as np\n",
    "import matplotlib.pyplot as plt\n",
    "from sklearn.decomposition import PCA\n",
    "import torch\n",
    "\n",
    "from transformers import BertTokenizer, BertModel\n",
    "from sklearn.metrics.pairwise import cosine_similarity"
   ]
  },
  {
   "cell_type": "code",
   "execution_count": 3,
   "metadata": {},
   "outputs": [
    {
     "name": "stdout",
     "output_type": "stream",
     "text": [
      "[==================================================] 100.0% 128.1/128.1MB downloaded\n"
     ]
    }
   ],
   "source": [
    "import gensim.downloader as api\n",
    "\n",
    "word_vectors = api.load(\"glove-wiki-gigaword-100\")\n",
    "#word_vectors = api.load('word2vec-google-news-300')"
   ]
  },
  {
   "cell_type": "code",
   "execution_count": 4,
   "metadata": {},
   "outputs": [
    {
     "data": {
      "text/plain": [
       "(100,)"
      ]
     },
     "execution_count": 4,
     "metadata": {},
     "output_type": "execute_result"
    }
   ],
   "source": [
    "word_vectors['king'].shape"
   ]
  },
  {
   "cell_type": "code",
   "execution_count": 6,
   "metadata": {},
   "outputs": [
    {
     "data": {
      "text/plain": [
       "array([-0.32307 , -0.87616 ,  0.21977 ,  0.25268 ,  0.22976 ,  0.7388  ,\n",
       "       -0.37954 , -0.35307 , -0.84369 , -1.1113  , -0.30266 ,  0.33178 ,\n",
       "       -0.25113 ,  0.30448 , -0.077491, -0.89815 ,  0.092496, -1.1407  ,\n",
       "       -0.58324 ,  0.66869 , -0.23122 , -0.95855 ,  0.28262 , -0.078848,\n",
       "        0.75315 ,  0.26584 ,  0.3422  , -0.33949 ,  0.95608 ,  0.065641,\n",
       "        0.45747 ,  0.39835 ,  0.57965 ,  0.39267 , -0.21851 ,  0.58795 ,\n",
       "       -0.55999 ,  0.63368 , -0.043983, -0.68731 , -0.37841 ,  0.38026 ,\n",
       "        0.61641 , -0.88269 , -0.12346 , -0.37928 , -0.38318 ,  0.23868 ,\n",
       "        0.6685  , -0.43321 , -0.11065 ,  0.081723,  1.1569  ,  0.78958 ,\n",
       "       -0.21223 , -2.3211  , -0.67806 ,  0.44561 ,  0.65707 ,  0.1045  ,\n",
       "        0.46217 ,  0.19912 ,  0.25802 ,  0.057194,  0.53443 , -0.43133 ,\n",
       "       -0.34311 ,  0.59789 , -0.58417 ,  0.068995,  0.23944 , -0.85181 ,\n",
       "        0.30379 , -0.34177 , -0.25746 , -0.031101, -0.16285 ,  0.45169 ,\n",
       "       -0.91627 ,  0.64521 ,  0.73281 , -0.22752 ,  0.30226 ,  0.044801,\n",
       "       -0.83741 ,  0.55006 , -0.52506 , -1.7357  ,  0.4751  , -0.70487 ,\n",
       "        0.056939, -0.7132  ,  0.089623,  0.41394 , -1.3363  , -0.61915 ,\n",
       "       -0.33089 , -0.52881 ,  0.16483 , -0.98878 ], dtype=float32)"
      ]
     },
     "execution_count": 6,
     "metadata": {},
     "output_type": "execute_result"
    }
   ],
   "source": [
    "word_vectors['king']\n"
   ]
  },
  {
   "cell_type": "code",
   "execution_count": 7,
   "metadata": {},
   "outputs": [
    {
     "data": {
      "text/plain": [
       "[('prince', 0.7682328820228577),\n",
       " ('queen', 0.7507690787315369),\n",
       " ('son', 0.7020887136459351),\n",
       " ('brother', 0.6985775828361511),\n",
       " ('monarch', 0.6977891325950623),\n",
       " ('throne', 0.691999077796936),\n",
       " ('kingdom', 0.6811409592628479),\n",
       " ('father', 0.680202841758728),\n",
       " ('emperor', 0.6712858080863953),\n",
       " ('ii', 0.6676074862480164)]"
      ]
     },
     "execution_count": 7,
     "metadata": {},
     "output_type": "execute_result"
    }
   ],
   "source": [
    "word_vectors.most_similar('king')"
   ]
  },
  {
   "cell_type": "code",
   "execution_count": 8,
   "metadata": {},
   "outputs": [],
   "source": [
    "# Words to visualize\n",
    "words = [\"king\", \"princess\", \"monarch\", \"throne\", \"crown\", \"mountain\", \"ocean\", \"tv\", \"rainbow\", \"cloud\", \"queen\"]\n",
    "\n",
    "# Get word vector\n",
    "vectors = np.array([word_vectors[word] for word in words])"
   ]
  },
  {
   "cell_type": "code",
   "execution_count": 9,
   "metadata": {},
   "outputs": [],
   "source": [
    "# Reduce dimensions using PCA\n",
    "pca = PCA(n_components=2)\n",
    "vectors_pca = pca.fit_transform(vectors)"
   ]
  },
  {
   "cell_type": "code",
   "execution_count": 10,
   "metadata": {},
   "outputs": [
    {
     "data": {
      "image/png": "[encoded data removed]",
      "text/plain": [
       "<Figure size 500x500 with 1 Axes>"
      ]
     },
     "metadata": {},
     "output_type": "display_data"
    }
   ],
   "source": [
    "# Plotting\n",
    "fig, axes = plt.subplots(1, 1, figsize=(5, 5))\n",
    "axes.scatter(vectors_pca[:, 0], vectors_pca[:, 1])\n",
    "for i, word in enumerate(words):\n",
    "    axes.annotate(word, (vectors_pca[i, 0] + .02, vectors_pca[i, 1] + .02))\n",
    "axes.set_title(\"PCA of Word Embeddings\")\n",
    "plt.show()"
   ]
  },
  {
   "cell_type": "code",
   "execution_count": 14,
   "metadata": {},
   "outputs": [
    {
     "name": "stdout",
     "output_type": "stream",
     "text": [
      "\n",
      "The word closest to 'king' - 'man' + 'woman' is: 'queen'\n",
      "with a similarity score of 0.7698540091514587\n"
     ]
    }
   ],
   "source": [
    "result = word_vectors.most_similar(positive=[\"king\", \"woman\"], negative=[\"man\"])\n",
    "print(f\"\"\"\n",
    "The word closest to 'king' - 'man' + 'woman' is: '{result[0][0]}'\n",
    "with a similarity score of {result[0][1]}\"\"\")"
   ]
  },
  {
   "cell_type": "code",
   "execution_count": 15,
   "metadata": {},
   "outputs": [],
   "source": [
    "tokenizer = BertTokenizer.from_pretrained('bert-base-uncased')\n",
    "model = BertModel.from_pretrained('bert-base-uncased')\n",
    "\n",
    "# Function to get BERT embeddings\n",
    "def get_bert_embeddings(sentence, word):\n",
    "    inputs = tokenizer(sentence, return_tensors=\"pt\")\n",
    "    outputs = model(**inputs)\n",
    "    last_hidden_states = outputs.last_hidden_state\n",
    "    word_tokens = tokenizer.tokenize(sentence)\n",
    "    word_index = word_tokens.index(word)\n",
    "    word_embedding = last_hidden_states[0, word_index + 1, :] # +1 to remove [CLS] token\n",
    "    return word_embedding"
   ]
  },
  {
   "cell_type": "code",
   "execution_count": 16,
   "metadata": {},
   "outputs": [],
   "source": [
    "sentence1 = \"The bat flew out of the cave at night.\"\n",
    "sentence2 = \"He swung the bat and hit a home run.\"\n",
    "\n",
    "word = \"bat\"\n",
    "\n",
    "bert_embedding1 = get_bert_embeddings(sentence1, word).detach().numpy()\n",
    "bert_embedding2 = get_bert_embeddings(sentence2, word).detach().numpy()\n",
    "word_embedding = word_vectors[word]"
   ]
  },
  {
   "cell_type": "code",
   "execution_count": 18,
   "metadata": {},
   "outputs": [
    {
     "name": "stdout",
     "output_type": "stream",
     "text": [
      "BERT embedding for 'bat' in sentence 1: [ 4.13161248e-01 -1.29081830e-01 -4.48657393e-01 -4.04926747e-01\n",
      " -1.53057143e-01 -2.78137863e-01  5.19288957e-01  1.32697833e+00\n",
      "  8.37713540e-01 -8.73302400e-01  4.37874258e-01 -5.33935785e-01\n",
      " -2.88685441e-01  5.52522540e-01 -7.83519506e-01 -4.17014599e-01\n",
      "  4.75097775e-01  6.28552511e-02 -5.70206761e-01 -1.67948529e-01\n",
      "  4.46243614e-01 -3.54403168e-01  8.56308714e-02 -5.00467300e-01\n",
      "  3.32080454e-01 -2.67047971e-01 -2.42139339e-01  1.03990519e+00\n",
      " -7.01031834e-02 -3.22732270e-01 -5.41911185e-01 -3.31707418e-01\n",
      "  1.09254017e-01 -3.95513564e-01 -7.90241480e-01  2.48389319e-01\n",
      "  1.83021903e-01 -3.16271067e-01 -8.12134564e-01 -6.70362055e-01\n",
      "  6.26333952e-01 -3.73581320e-01  1.31090686e-01  5.10260940e-01\n",
      "  1.17004946e-01  3.32126319e-02 -3.93136203e-01 -4.38964516e-01\n",
      "  9.36331570e-01 -4.48059082e-01  1.56909712e-02  1.23725533e+00\n",
      " -5.99466205e-01  5.18026948e-01 -1.15016811e-02  8.61964822e-01\n",
      "  5.26215993e-02 -2.73106843e-01  5.47585636e-02  2.11322983e-03\n",
      "  4.28418607e-01 -3.61693263e-01  7.78305769e-01  1.34668380e-01\n",
      "  1.05405696e-01  1.12684631e+00 -1.51444912e-01  3.53310525e-01\n",
      " -6.47065520e-01 -6.53717399e-01 -4.83141929e-01 -6.51767254e-01\n",
      " -1.79637656e-01  4.01693851e-01 -1.02332070e-01 -1.64807122e-02\n",
      "  1.47494879e-02  1.85437035e-02  3.75929952e-01 -1.61590189e-01\n",
      "  4.41155612e-01  3.90973747e-01 -1.06179491e-01  6.27523065e-01\n",
      " -3.00976038e-01  2.43499190e-01 -4.50554825e-02 -7.96809435e-01\n",
      " -1.51971430e-01  2.80444264e-01 -7.88631618e-01 -4.97063875e-01\n",
      " -2.62220740e-01  3.56094152e-01 -9.55197886e-02 -3.99951845e-01\n",
      "  2.26780772e-01 -5.50834954e-01  5.17296433e-01 -1.21959344e-01\n",
      " -8.59189630e-02 -2.65736282e-01  3.52016747e-01  4.71584409e-01\n",
      " -3.92496020e-01 -2.68008918e-01 -5.53234577e-01  6.80253580e-02\n",
      " -3.48229527e-01  2.06383377e-01 -3.46380740e-01 -4.28605732e-03\n",
      " -4.17906642e-01 -5.26051581e-01  1.26011506e-01  6.55030727e-01\n",
      "  4.35285240e-01 -5.03388941e-01 -3.07236053e-02 -2.46266693e-01\n",
      " -3.56362909e-01  8.54210198e-01  2.97766298e-01  7.50848114e-01\n",
      " -5.45009077e-01 -4.19641614e-01  1.41569510e-01  2.11366341e-01\n",
      " -4.12560672e-01 -2.27468103e-01  3.52377892e-01  1.07692671e+00\n",
      "  2.28229746e-01 -9.50476050e-01  2.75816828e-01 -3.89566422e-01\n",
      " -4.63745058e-01  5.68683967e-02 -7.96556830e-01  1.45412266e-01\n",
      " -1.67760849e-01 -4.37471539e-01 -3.03654689e-02  1.02784038e+00\n",
      " -9.70782861e-02 -3.85136576e-03 -6.87651157e-01 -1.34772524e-01\n",
      "  4.82600659e-01  4.22273755e-01 -2.63165176e-01  2.96633154e-01\n",
      " -9.13878605e-02 -3.84021789e-01 -3.10048729e-01 -3.29572827e-01\n",
      "  4.35140848e-01 -4.01136041e-01 -7.12746382e-01  4.82695878e-01\n",
      " -8.56192857e-02 -8.29853714e-01  3.12307805e-01  1.49076566e-01\n",
      " -8.13807428e-01  1.86877087e-01  1.09655634e-01  3.12411129e-01\n",
      "  2.32096672e-01  2.99714267e-01 -8.76251638e-01  8.01017046e-01\n",
      "  1.12641740e+00  2.93791533e-01 -5.00679553e-01 -5.01307584e-02\n",
      "  1.05761695e+00 -8.38922560e-01 -2.97892898e-01 -3.45729738e-02\n",
      " -3.46296638e-01  1.29287314e+00 -4.56099629e-01  9.31013942e-01\n",
      "  1.67890355e-01  1.59358770e-01  9.12596166e-01  2.15977550e-01\n",
      " -1.27616391e-01 -2.41319418e-01  5.43019474e-01 -2.84213901e-01\n",
      " -3.48146498e-01 -2.09448338e-02  1.05517459e+00 -6.63067102e-01\n",
      " -4.24150795e-01 -2.46167719e-01 -1.01438247e-01 -5.97230852e-01\n",
      " -8.17620099e-01 -4.36692089e-01 -3.89645040e-01 -2.15371177e-01\n",
      " -6.39840722e-01  8.59382510e-01  4.45890218e-01  1.00809360e+00\n",
      "  6.91397786e-02  3.82366002e-01  3.51978317e-02  2.23956004e-01\n",
      "  2.64760703e-01  1.60310268e-01  1.62639186e-01  1.27745554e-01\n",
      " -1.69885427e-01  3.35073143e-01  2.86489457e-01 -8.75356793e-02\n",
      " -1.16511665e-01 -3.57562333e-01 -2.88132191e-01  2.83249289e-01\n",
      " -7.52478167e-02  7.52630651e-01 -2.88565103e-02 -3.62676740e-01\n",
      "  3.59594762e-01 -3.51434708e-01  3.00238103e-01  6.35892034e-01\n",
      " -4.23944861e-01  1.13167679e+00 -4.76530999e-01 -4.25686330e-01\n",
      " -1.15180051e+00 -8.61043334e-01  1.16361573e-01 -3.08516938e-02\n",
      " -4.10560658e-03  5.83402812e-01  9.67835963e-01  4.91147548e-01\n",
      "  1.44648343e-01 -2.38960043e-01  5.17203927e-01 -9.35189426e-02\n",
      " -3.99134867e-02 -3.01469177e-01  1.70893639e-01 -7.27164090e-01\n",
      "  6.55881092e-02 -5.39407833e-03  8.49334180e-01 -6.09551013e-01\n",
      " -5.62804580e-01  1.79450244e-01  4.65326279e-01  4.07410771e-01\n",
      "  1.96354255e-01  7.34125301e-02  1.56680119e+00  1.84339378e-02\n",
      " -1.35288775e-01 -1.16465104e+00  6.75005168e-02  4.35416102e-01\n",
      "  1.54295236e-01 -2.57797331e-01 -4.42345202e-01  3.22760344e-01\n",
      "  4.41966265e-01  5.52492499e-01 -1.44967139e-01  3.03837895e-01\n",
      "  4.21947725e-02 -1.06464460e-01  3.24450284e-02 -2.78944999e-01\n",
      "  4.24773544e-01  3.83742988e-01 -4.52661365e-01 -5.36425710e-01\n",
      "  8.21785271e-01 -6.82680845e-01  3.87970984e-01 -7.39500463e-01\n",
      "  1.73261985e-01 -2.25476697e-01 -2.71329790e-01  2.98499554e-01\n",
      " -1.97576150e-01 -4.66214210e-01 -8.64514470e-01  6.65268004e-01\n",
      "  2.58075684e-01  3.14328730e-01  6.05202854e-01 -7.91956484e-02\n",
      "  3.59936416e-01 -2.11898386e-01 -3.87933135e-01 -8.47129524e-01\n",
      "  9.78913128e-01  2.93759644e-01 -3.04994434e-01 -5.10560811e-01\n",
      " -4.33098078e+00  5.49854755e-01  3.55252385e-01 -7.99813569e-01\n",
      "  6.07774138e-01 -1.76706433e-01  6.36988401e-01 -6.81820154e-01\n",
      " -7.82024682e-01 -1.87150449e-01  1.12433536e-02 -7.54749417e-01\n",
      "  3.01713228e-01  5.55208921e-01  9.36049372e-02 -6.98529065e-01\n",
      " -5.46277463e-01 -5.84435284e-01  7.23114610e-02  1.37454808e-01\n",
      " -5.75544715e-01 -1.15982689e-01 -1.07124068e-01 -2.12922439e-01\n",
      "  7.72461534e-01 -1.10260047e-01 -2.14386821e-01 -3.93162481e-02\n",
      "  2.16919482e-01  3.37375581e-01 -1.50298700e-01  1.25148684e-01\n",
      "  2.95954496e-01  1.53172746e-01 -4.78912115e-01  1.97234690e-01\n",
      "  5.56745231e-01 -1.17088482e-01  8.06007206e-01  4.11991894e-01\n",
      " -1.73985828e-02  1.64474308e-01 -2.25420877e-01  5.37864387e-01\n",
      " -3.80831808e-01 -1.05267525e-01 -8.35244656e-01 -1.15244913e+00\n",
      " -3.63273144e-01 -1.17968835e-01  3.01915705e-01 -8.08318853e-02\n",
      " -5.71413040e-01  2.12724414e-02  2.38163322e-01 -1.77994564e-01\n",
      "  3.20130497e-01 -1.71726331e-01 -3.24766785e-01 -2.17355996e-01\n",
      "  2.54644722e-01 -1.86560020e-01 -1.85725093e-01 -1.80510327e-01\n",
      "  9.37846065e-01 -2.78863788e-01 -1.96455032e-01 -1.10941517e+00\n",
      "  1.11063612e+00  6.01072133e-01  7.23901510e-01 -1.40090689e-01\n",
      "  2.61060558e-02 -1.51959467e+00  5.54445148e-01  1.82740197e-01\n",
      "  7.74567127e-01 -2.68176682e-02 -6.48941517e-01  3.44384462e-01\n",
      " -8.95886272e-02 -8.02242875e-01  3.87230307e-01 -4.18343961e-01\n",
      " -2.16135457e-01 -1.46290326e+00 -3.07652235e-01  1.73858911e-01\n",
      " -7.31882751e-01 -6.04615271e-01  7.55362093e-01 -5.94384968e-01\n",
      "  1.62681594e-01 -2.67321497e-01  1.04642190e-01  5.27822912e-01\n",
      " -1.02621712e-01 -7.29369044e-01  1.59538865e-01  4.65617701e-02\n",
      " -4.10419889e-02 -3.94653261e-01 -4.92486030e-01 -2.08637252e-01\n",
      "  5.84457040e-01 -2.20401853e-01 -6.09283626e-01  4.29180354e-01\n",
      " -2.53332388e-02  3.48495841e-01  2.14052603e-01  1.40583992e-01\n",
      "  1.17839634e+00  1.09976374e-01  5.12583673e-01  7.46923452e-03\n",
      "  4.49278355e-01  3.02309155e-01  4.37742949e-01  4.38336045e-01\n",
      "  1.30090654e-01  8.40328410e-02 -2.65962034e-01 -7.86407113e-01\n",
      "  1.72626704e-01  3.90944064e-01  3.59383553e-01  5.04857838e-01\n",
      "  3.69361937e-01 -8.82194340e-01 -6.68799698e-01 -4.18489218e-01\n",
      "  7.85018027e-01  6.88648701e-01  3.15423876e-01 -2.05529451e-01\n",
      " -6.16271317e-01 -1.18279278e+00 -4.34284061e-01 -5.71960509e-01\n",
      "  3.37251842e-01  8.74089122e-01  6.37914360e-01 -8.92441124e-02\n",
      "  5.59315920e-01 -6.18929744e-01 -1.50059506e-01 -8.14045966e-01\n",
      " -5.06036937e-01  3.01203728e-01 -7.96630800e-01 -1.44124538e-01\n",
      "  3.27542037e-01 -5.06882966e-02 -1.30966440e-01 -9.92506027e-01\n",
      "  9.65344608e-01 -3.05601507e-01 -3.37568037e-02 -2.26610675e-01\n",
      " -3.05425644e-01  4.80045415e-02 -2.07570225e-01  5.08460522e-01\n",
      "  3.04633319e-01  5.07359505e-01  4.26940173e-01  3.54299754e-01\n",
      "  2.05492675e-01  1.13133140e-01  1.14084691e-01 -4.06423479e-01\n",
      "  4.01468426e-01  6.06891334e-01 -7.00120866e-01 -5.99696226e-02\n",
      " -1.12496436e+00 -7.86801815e-01 -6.44784987e-01  1.03603840e+00\n",
      "  4.19142336e-01  4.63685617e-02 -5.42909741e-01 -1.00116944e+00\n",
      "  7.30412900e-01 -2.02652067e-01  3.61036777e-01 -1.37877965e+00\n",
      " -7.66239911e-02  2.83637255e-01 -9.52275395e-01  1.19869995e+00\n",
      " -1.77027792e-01  5.13140619e-01 -9.91899431e-01 -1.03197418e-01\n",
      " -6.59821630e-02  5.51576138e-01 -1.04177617e-01 -2.11868405e-01\n",
      " -2.79379189e-01  9.18487981e-02  6.48908988e-02 -1.81763679e-01\n",
      " -3.00761968e-01 -3.53745729e-01  1.26856291e+00  5.49552023e-01\n",
      "  5.70138991e-02  7.21426964e-01 -7.70491838e-01 -4.53731537e-01\n",
      " -3.57541859e-01 -1.23629309e-01  3.92393678e-01  5.03459156e-01\n",
      " -7.08190165e-03  4.59388733e-01  1.14573956e-01 -7.00174749e-01\n",
      "  3.63577425e-01  2.48528808e-01 -1.11657608e+00 -3.75397861e-01\n",
      " -1.14049375e+00  1.56243429e-01 -9.41287503e-02  1.59067363e-01\n",
      " -3.96636456e-01 -4.95761663e-01  4.37482089e-01 -5.61578810e-01\n",
      " -1.10009283e-01  5.98724902e-01 -3.10552865e-01 -8.47627163e-01\n",
      " -1.11001086e+00 -2.39998624e-01  1.72167674e-01 -5.46273291e-01\n",
      "  2.21626580e-01  1.01726139e+00 -2.37761095e-01 -1.33481130e-01\n",
      " -2.71393001e-01  2.94217288e-01 -5.45363545e-01  1.59557149e-01\n",
      " -7.70891845e-01 -2.40232393e-01 -7.01928377e-01  7.22495496e-01\n",
      " -3.90721440e-01  1.52135909e-01 -8.31536055e-02  3.51624489e-01\n",
      "  9.19241235e-02  3.37140590e-01  4.01513427e-02  4.39483702e-01\n",
      " -5.90611845e-02  2.29056537e-01 -8.80759418e-01  2.75898546e-01\n",
      " -9.81166780e-01  1.43438280e-02  2.72617817e-01 -3.86604697e-01\n",
      " -4.59997058e-01 -5.87410867e-01 -2.32210487e-01 -1.34220958e-01\n",
      "  1.55355960e-01 -1.31869650e+00 -1.83625847e-01 -3.82233590e-01\n",
      " -9.61419865e-02 -2.04772905e-01  4.40182775e-01 -1.97100252e-01\n",
      "  1.43360227e-01  3.81351322e-01  6.11967266e-01 -7.06329882e-01\n",
      " -1.12122619e+00 -1.27320111e-01  1.21394709e-01  4.69536275e-01\n",
      "  7.73968160e-01  4.24578190e-02  3.33077282e-01  1.00937116e+00\n",
      " -2.95701236e-01 -2.86812782e-01 -7.67425656e-01 -1.54094279e-01\n",
      "  2.74572313e-01  2.28699654e-01  4.81423736e-01  4.74509180e-01\n",
      "  4.76639979e-02  7.62676358e-01  6.37918115e-01  1.45866156e-01\n",
      " -2.13858724e-01 -1.60076112e-01  2.43319392e-01 -1.74140528e-01\n",
      " -4.06620532e-01  1.10019481e+00 -2.27323189e-01 -5.05951010e-02\n",
      " -2.29315877e-01 -2.90769845e-01 -3.31972539e-01  3.11484933e-02\n",
      " -6.49221420e-01  1.76173270e-01  2.40730777e-01 -2.64963899e-02\n",
      " -2.43130684e-01  1.42469168e-01  6.01056814e-01 -6.47203624e-02\n",
      " -4.83486533e-01  2.34180525e-01 -1.66705757e-01  7.40112305e-01\n",
      " -6.13505900e-01 -1.41156673e+00  8.34042668e-01  2.84282118e-01\n",
      " -7.85387009e-02 -2.99909979e-01 -1.09565735e-01 -3.94175321e-01\n",
      "  4.41939980e-01 -2.19083682e-01  1.74869835e-01 -8.15694407e-02\n",
      "  6.30352795e-01  2.28919208e-01 -5.71211278e-01  2.77738661e-01\n",
      "  2.34071791e-01 -2.02398881e-01  3.30605268e-01 -3.40905517e-01\n",
      "  8.20465505e-01  4.60597008e-01  1.68903947e-01  2.64040291e-01\n",
      " -6.95661008e-02 -1.06239207e-01  9.88307774e-01 -8.01759720e-01\n",
      "  7.96795368e-01  4.98768598e-01 -7.22529739e-02  3.72289091e-01\n",
      "  1.88843831e-01  5.72906971e-01 -6.70120716e-02  4.92133424e-02\n",
      " -9.86720383e-01  6.85209930e-01  6.29214346e-01 -1.93344623e-01\n",
      " -4.21508849e-01 -5.89427054e-01  7.41555333e-01 -2.30596047e-02\n",
      " -6.89094007e-01  1.00701734e-01  3.37304592e-01  7.45489374e-02\n",
      "  5.85228324e-01 -8.53664398e-01  4.16510254e-01  2.04181597e-01\n",
      "  5.44134378e-01  1.89171150e-01 -4.44771975e-01 -6.40004277e-02\n",
      "  4.80497599e-01 -5.71172535e-01  1.53179049e-01  3.32556739e-02\n",
      " -9.71989706e-03 -1.45236000e-01  1.15543492e-01  4.83080477e-01\n",
      "  8.76650870e-01 -7.88352787e-01  2.59208143e-01 -8.06432605e-01\n",
      "  1.11395395e+00  3.60529751e-01 -7.93153405e-01  3.64522338e-01\n",
      "  9.25963819e-01  5.47450304e-01  1.15565978e-01 -3.36530209e-01\n",
      "  1.61768898e-01  5.00864722e-02 -1.43812671e-01  8.15411091e-01\n",
      " -1.04647195e+00 -3.26316297e-01  3.15990716e-01  6.01075411e-01\n",
      " -7.26230368e-02 -3.79400671e-01  1.27775085e+00 -5.75050712e-02\n",
      "  9.49144661e-01 -1.56130672e-01 -1.55373067e-01 -8.68619800e-01\n",
      "  1.51108444e-01  2.47212172e-01  6.06006011e-02  8.33477557e-01\n",
      "  1.09328710e-01 -3.92479487e-02  5.79762638e-01 -1.54461414e-01\n",
      " -1.67399108e-01 -3.13457102e-02 -4.14831996e-01 -1.20427527e-01\n",
      " -3.15477818e-01 -4.60417688e-01  1.10678151e-01 -7.37289190e-01\n",
      "  2.00961292e-01  9.74453330e-01 -2.95996647e-02 -6.60927892e-01\n",
      "  3.32400709e-01 -9.29537937e-02  8.96546781e-01  1.28523815e+00\n",
      "  4.80337739e-02 -7.55978525e-01 -2.11136565e-01 -6.19415522e-01\n",
      "  6.99388683e-02 -1.83566660e-01 -1.50978891e-02 -1.16008766e-01\n",
      "  1.68443006e-02  8.30651075e-02  4.11326140e-01 -6.63618222e-02\n",
      " -3.19002420e-01 -4.38163668e-01  7.16204882e-01  1.70249522e-01]\n",
      "BERT embedding for 'bat' in sentence 2: [ 0.64066964 -0.3112156  -0.440898   -0.16551124 -0.20056091 -0.7273176\n",
      "  0.46013954  0.52964866  1.2637587  -0.61310977  0.97203463 -0.14156002\n",
      " -0.20330898  0.41189635 -0.52625805  0.65137756  0.49716613 -0.69737005\n",
      " -1.3384839   0.06912953 -0.14108635 -0.34609127  0.35237402 -0.45064116\n",
      "  0.01223732 -0.75801307 -0.7439069   0.62593454  0.02906133 -0.65110326\n",
      " -0.22285263  0.2662059  -0.4725259  -0.432094   -0.1394384   0.09301134\n",
      "  0.7677642  -0.58069783 -0.61313826  0.19237201 -0.32177326 -0.5978538\n",
      "  0.22158226  0.5708271   0.16854025  0.12505065 -0.35397172 -1.1680648\n",
      "  0.38394716  0.56911165  0.3345084   1.1407595  -0.2543852  -0.02088105\n",
      "  0.4184483   0.4818098  -0.2973995  -0.7227759  -0.3465207  -0.04466041\n",
      " -1.2158835  -0.12064092  0.24823736 -1.1344124   1.0725377  -0.21594796\n",
      " -0.24673994  0.03387883 -0.7121997  -0.60237926 -0.37365475 -0.12555137\n",
      " -0.65066075  0.3012739   0.06924141 -1.0832385   0.25277168  1.0399451\n",
      "  0.4277812  -0.04415605 -0.44294924 -0.41328382  0.01717378  0.7641247\n",
      "  1.0603062  -0.24415268  0.29448992 -0.3141808  -0.5938239   1.9211142\n",
      "  0.75798905 -1.1053685  -0.18609338  0.32972702 -0.4188563  -0.05897339\n",
      "  1.2331218  -0.01615295 -0.2864799  -0.4514186   0.47832724  0.02381871\n",
      "  0.40591192  0.50285417  0.03845078  0.04633756  0.94640416 -0.0035736\n",
      " -0.8521144   0.64975476  0.66292197 -0.48004466 -0.12318952 -0.20246296\n",
      " -0.5628166   0.22796871  0.92009926 -0.06293925  0.797319   -0.5306855\n",
      "  0.63282263  0.5827042   0.15583375  0.98248726 -1.0542612  -0.6805831\n",
      "  0.17130092  0.14263633  0.24657893 -0.97847444  0.83013666  0.78123224\n",
      "  0.32680595 -0.75762075 -0.01060372 -0.8704126   0.24822178 -0.57373285\n",
      " -1.5705318  -0.31966767  0.2132519  -1.098791    0.42959958 -0.5985162\n",
      "  0.5231127  -0.39091283 -1.0289677   0.22718875  0.80094314  1.0167373\n",
      "  0.20667395  0.5861472  -0.00481112 -0.22729895 -1.3602469  -0.17827602\n",
      "  0.20697054 -0.34305966  0.13348903  0.23207971  0.9296317  -1.7174577\n",
      " -0.7155095   1.3461882  -0.11442804 -0.29254955  0.6465241   0.9624817\n",
      " -0.08554834 -0.04768151  0.20131823 -0.30935028  0.77640855  0.5036039\n",
      "  0.3014042  -0.4078231   1.1898273   0.25336465 -0.66232485 -0.29844078\n",
      " -0.09620406  0.09683844  0.47231743  1.5246848   0.8099194   0.6048178\n",
      "  1.1347619   0.17618576  0.87092656  0.38091317  0.27934492  0.12867409\n",
      " -0.96685994 -1.2765716  -0.39406365 -0.0312933  -0.29716808 -0.23591353\n",
      "  0.45549414 -0.03922048 -0.28451002 -0.02701381  0.1666512  -0.98804927\n",
      " -0.82991534 -0.8726203   0.63031226  0.8968763  -0.6094206   0.08375721\n",
      "  0.04209178  1.0707412   0.06755113 -0.35831726 -0.6398898  -0.59228605\n",
      "  0.46450594 -0.76025194  0.32923195  0.04952935 -0.31123492  0.29548323\n",
      " -0.17265686  0.76646024 -0.05255435  1.4326266  -0.14711776  0.27684698\n",
      " -0.15159945  0.7376406   0.5856338  -0.35127276  1.1059383   1.127493\n",
      " -0.5636104  -0.22538473 -1.0221684  -0.15096019 -0.296448    0.09964598\n",
      " -0.27897966 -0.04533802  1.2777711  -0.4581227  -0.33697107 -0.66607064\n",
      " -0.25514475  0.13418095 -0.22486426 -0.31325626 -0.56119317 -0.03997925\n",
      "  0.8156144  -1.5959495   1.0849154   0.2797167  -0.7062515   0.01040673\n",
      " -0.5929981   0.6268819  -0.13969354 -0.41410282  1.0128832   0.66429013\n",
      " -1.4101777  -0.3308621  -0.35852104  0.8833078  -1.0218146  -0.6290283\n",
      " -0.6055588   0.3609497  -0.10852313  0.8444534   0.26452684  0.5238237\n",
      " -0.03444637  0.22622438  0.34771785  0.04242433  0.6564808  -0.20381835\n",
      " -0.7974329  -0.52009314 -1.0636429  -1.0912864   0.02840863 -0.8405526\n",
      " -0.12439293 -0.25549197 -0.98656464  0.69966733 -0.14787613 -0.03096801\n",
      " -0.3693561   0.471718    0.32133228  1.2268966   1.3590671   0.0117172\n",
      "  0.32767415  0.42261484 -0.9708749  -0.6796754   0.39311668  0.5965987\n",
      " -0.50223756 -0.6444531  -0.7493601   0.23389322  0.6048847   0.32222816\n",
      "  0.6316622  -0.62392855  0.2189603   0.02982569 -0.8621016   0.16381401\n",
      "  0.64815444 -0.8617638  -0.18369442  0.42539173  0.31467408 -0.09605987\n",
      "  0.9128479  -1.1564168   0.0167405   0.31484687 -0.11546379 -0.00885616\n",
      " -0.03357747 -0.29236206  1.7435726  -0.23140101 -0.36835736  0.9422902\n",
      " -0.79527783  1.0621907   0.6378853   0.08940285  0.21168163  0.6720053\n",
      "  0.584289    0.27691707 -0.23730618 -0.70454544 -0.56613    -0.58459806\n",
      " -0.68615466  0.3088657  -0.40939206 -0.18495205 -0.07997224 -0.83937913\n",
      " -0.8169006  -1.4454187  -0.7264686   1.1885396   0.39705524 -0.00749281\n",
      " -0.5507043  -1.1825464   0.63944054 -0.8045091   0.79180926  0.14857787\n",
      "  0.10577382 -0.526103    0.06592701 -0.7413594   0.1851181  -0.21348436\n",
      "  0.3835556   0.09435185 -0.81883806 -0.12053311  0.03387246  0.04252104\n",
      "  0.22349182  0.23383725 -0.01340634 -0.47665745  0.37183365 -0.21859358\n",
      "  1.1077244  -0.14834224 -0.556778    0.35959387  0.14563271 -1.1970391\n",
      "  0.08870305 -0.3914718   0.6094963  -0.41529295 -0.8345007  -0.48378307\n",
      " -0.64634514 -0.7519246   1.0260668  -0.68703747  0.3664928  -0.09357524\n",
      " -0.7608996   0.23618734 -0.19665533 -0.55013406 -0.70660347 -0.19631398\n",
      "  0.8097591  -0.21613252 -0.17978686 -0.67522484 -0.3779804  -0.4211351\n",
      " -0.6783143   0.1484506   0.51376104  0.2098295   0.21098287  0.6838728\n",
      "  1.70575     0.09822407  0.2841765  -0.04117843  0.85220075  0.13805202\n",
      "  0.44799414 -0.21887814 -0.08157864  0.3352697  -0.94835615 -0.7230274\n",
      " -0.10720819 -0.13031895  0.3885226   0.09575078 -0.60991853 -0.58949286\n",
      "  0.38029552 -0.3146488   0.60334814  0.84988505 -0.15125433  0.29495138\n",
      " -0.37840447 -0.2501583  -0.16753703  0.37437758 -0.67692745  0.53454375\n",
      "  0.46285605 -0.39927658  0.24496724 -0.3728755   0.33634552 -1.3519719\n",
      " -0.574508   -0.23631902 -1.2381468  -0.40861624  0.25917038 -0.98080397\n",
      "  0.67785436 -1.1827475   0.31515244  0.3415929   0.53020185 -0.7336571\n",
      "  0.7120144   0.46008593  0.03553594  0.80875826 -0.45898467 -0.22272576\n",
      " -0.5219049   0.361756    0.33717933  0.21382445  0.6170102  -0.82787126\n",
      "  0.9534052  -0.15464798 -0.85255444  0.6278349   0.17752889 -0.7173952\n",
      " -0.40173456 -0.35379568 -0.28009263  0.03926863 -0.19359238 -0.5419757\n",
      "  0.09624224  0.23601429  0.4924555  -0.89643925  0.4066681  -0.410531\n",
      " -2.012598    0.7077167  -0.23601456 -0.65438783 -0.9398598  -1.0787466\n",
      "  0.61215174  0.95961845 -0.892476    0.08057923  0.22176348 -1.0561206\n",
      "  0.21884142 -0.5809965   0.8259454  -1.8598619  -0.24571788 -0.17703508\n",
      " -0.23574762  1.9042007  -0.06352996 -0.71896505 -0.13760306 -0.64222366\n",
      "  0.86250293 -0.33737922 -0.51011395  0.14410284 -0.03150456 -1.0980573\n",
      "  0.2531659  -0.01664144 -0.92234427  0.03986716 -0.90699035 -0.6881849\n",
      "  0.42461482  0.13695993 -0.80099165 -0.8951138   0.31684798 -0.98061764\n",
      " -0.63332266  0.82259464 -0.50924367 -0.9951552  -0.3015965  -0.45769534\n",
      " -0.47184873 -0.27121866  0.16250858 -0.46117944 -0.85379004 -0.37498334\n",
      "  0.6968982   1.0905951  -0.7500481  -0.4016002  -0.571749    0.09776069\n",
      " -1.0838376   0.08328987 -0.02682454  0.2277559   0.32652146 -1.010195\n",
      " -0.9767137  -0.00887659  0.53449726  0.5207652   0.16522332  0.22140244\n",
      " -0.73159975 -0.18851317  0.11232965 -0.22757348  0.08198851 -0.06543824\n",
      "  0.11191534  0.1366864  -0.7036246  -0.5641233  -0.09261109  0.42144677\n",
      " -0.7341899  -0.8137455   0.84924006 -0.4535958   0.5676904  -0.9155137\n",
      " -0.4930061   0.36794433  0.5240681  -0.44612452 -1.0320542  -0.39628324\n",
      " -0.755811    0.30015993  0.27112776  0.607687   -0.24876334  1.3368981\n",
      "  0.32751474 -0.50493705  0.24723239 -0.263536    1.9675599   0.13193451\n",
      "  1.1177176   1.5475298   0.24290782  0.188214   -0.21300142 -0.23139036\n",
      " -0.08780024 -0.2696607  -0.01217396  1.0971075  -0.7649536   1.2226709\n",
      " -0.17195038 -0.93911666  0.06564783  0.8360272   0.14095281  0.09394192\n",
      "  0.17740841  1.6191548  -0.06347305 -0.30633596 -0.3332717   1.6285782\n",
      "  0.08110294 -0.09059148 -0.19871902  0.6880703  -0.59523964  0.11392473\n",
      " -0.48858836 -0.27124736  0.32613206 -1.1199545  -0.19115844  0.03536515\n",
      " -0.07425132 -0.05443335  0.04023365  0.7404671   0.02962389  0.29382974\n",
      "  1.7359345   0.00981202  0.01991602  0.35097036  1.3298554  -0.3197202\n",
      "  0.25272876 -0.87951154  0.32843637  0.16646336  0.36093968 -0.0067961\n",
      "  0.20586134 -0.17055926  0.73471624 -1.371463    1.0238725  -0.26781592\n",
      " -0.42130086  1.2309676   0.22066657  0.79196054 -0.22961931 -0.73841465\n",
      " -0.5457148   0.29887623  1.562753   -0.02554377  0.36943203  0.67106277\n",
      "  0.6306536   0.07112822 -0.12522964  0.75278443  0.02492451 -0.21081978\n",
      "  0.6636849  -0.10229689  0.10106487  0.02897144 -0.4649664  -0.54069686\n",
      " -0.21931012  0.39038906  0.35301587 -0.09240367  0.02950224  0.08634304\n",
      " -0.525088   -0.34881198 -0.11196546  0.2148477  -0.3908019  -0.5844181\n",
      " -0.06546549 -0.0864375   0.1703547   0.08228786 -0.5860452   1.0006036\n",
      "  0.07911295 -0.10829614  0.51976925  0.28799194 -0.27561402  0.3053429\n",
      "  0.29917514  0.01464366 -0.3174204  -1.2512887   0.90172094  0.37214294\n",
      " -0.53964764 -0.02906057  0.9892104   0.41613755  0.7064523  -0.4048098\n",
      " -0.28748813 -0.42008483  0.31036806  0.30100042 -0.13349134  1.3118062\n",
      " -0.49130997  0.31386074 -0.10503292  0.02424216  0.2864496   1.2116084\n",
      " -0.3949039   0.26098377 -0.4656724   0.10270136  0.25920126 -1.8042912\n",
      " -0.63342094  0.35702193 -0.08038644 -0.7222507   0.6345423  -0.75168943\n",
      "  0.8426209   0.9564461   0.5280349  -0.41557643 -0.18013722  0.26289293\n",
      " -0.47487217 -0.17199971 -0.12115303  1.5092618  -0.9732591   0.32856366\n",
      "  0.3298425  -0.54824346 -0.6396063   0.29949     0.5240621  -0.5339465 ]\n",
      "GloVe embedding for 'bat': [-0.47601    0.81705    0.11151   -0.22687   -0.80672    0.38699\n",
      " -0.22361   -0.22334   -1.7025    -0.44293   -0.6789    -0.52829\n",
      "  0.4156     0.42728    0.38183   -0.067373   0.014022   0.8135\n",
      "  0.4221     0.26256    0.94408    0.20889   -0.032028  -0.35022\n",
      "  0.96345    1.1383    -0.27416   -0.0035577  0.13356    0.73867\n",
      "  0.015665   0.52804    0.060872   0.6268     0.17391    0.22164\n",
      " -0.70289   -0.07191   -0.14516   -0.50345   -0.22527    0.2142\n",
      "  0.5799    -1.1047    -0.0053176  0.15469    0.68782   -0.035458\n",
      " -0.35924   -0.77503   -0.79941    0.74236   -0.19734    0.66813\n",
      " -0.66136   -0.98019   -1.0917     0.49366    1.0443     0.93807\n",
      " -0.20951    0.16828    0.01714    0.85945    0.22125    0.32573\n",
      "  0.73979    0.033201  -0.5651    -0.38535   -0.28801    0.23838\n",
      "  0.059555  -1.1535     0.36088   -0.23047   -1.1833    -0.58366\n",
      " -0.029805   0.69575   -0.19266    0.46639   -0.41391   -0.96776\n",
      "  0.1002    -0.65007    0.41513   -0.53276    0.079656   0.70649\n",
      "  0.33279   -0.013587   0.11479   -0.56661    0.13588    0.41452\n",
      " -0.31778    0.49531    0.050409  -0.47359  ]\n",
      "\n",
      "Cosine similarity between BERT embedding in different context: 0.45995745062828064\n",
      "Cosine similarity between GloVe embedding in same context: 1.0\n"
     ]
    }
   ],
   "source": [
    "print(\"BERT embedding for 'bat' in sentence 1:\", bert_embedding1)\n",
    "print(\"BERT embedding for 'bat' in sentence 2:\", bert_embedding2)\n",
    "print(\"GloVe embedding for 'bat':\", word_embedding)\n",
    "\n",
    "bert_similarity = cosine_similarity([bert_embedding1], [bert_embedding2])\n",
    "word_embedding_similarity = cosine_similarity([word_embedding], [word_embedding])\n",
    "\n",
    "print()\n",
    "print(f\"Cosine similarity between BERT embedding in different context: {bert_similarity[0][0]}\")\n",
    "print(f\"Cosine similarity between GloVe embedding in same context: {word_embedding_similarity[0][0]}\")"
   ]
  },
  {
   "cell_type": "markdown",
   "metadata": {},
   "source": [
    "### Cross-Encoders\n",
    "A cross-encoder is a type of model used in natural language processing (NLP) to evaluate the relationship between two pieces of text. Unlike bi-encoders, which generate embeddings for each text independently, cross-encoders process both texts together, allowing them to capture more detailed interactions and relationships between the texts12.\n",
    "\n",
    "Cross-encoders are particularly useful for tasks like sentence pair classification and ranking, where understanding the nuanced relationship between two texts is crucial3. However, they are computationally more expensive and less scalable compared to bi-encoders\n",
    "\n",
    "Cross-encoders are typically not used to generate embeddings directly. Instead, they are used to evaluate the relationship between pairs of texts by processing them together."
   ]
  },
  {
   "cell_type": "code",
   "execution_count": 19,
   "metadata": {},
   "outputs": [],
   "source": [
    "from sentence_transformers import CrossEncoder\n",
    "model = CrossEncoder('cross-encoder/ms-marco-MiniLM-L-6-v2', max_length=512, default_activation_function=torch.nn.Sigmoid())"
   ]
  },
  {
   "cell_type": "code",
   "execution_count": 20,
   "metadata": {},
   "outputs": [],
   "source": [
    "question = \"Where is the capital of France?\"\n",
    "\n",
    "answers = [\n",
    "    \"Paris is the capital of France.\",\n",
    "    \"Berlin is the capital of Germany.\",\n",
    "    \"Madrid is the capital of Spain.\"\n",
    "]"
   ]
  },
  {
   "cell_type": "code",
   "execution_count": 22,
   "metadata": {},
   "outputs": [
    {
     "name": "stdout",
     "output_type": "stream",
     "text": [
      "[0.99965715 0.05289616 0.04520693]\n",
      "The most relevant passage is: Paris is the capital of France.\n"
     ]
    }
   ],
   "source": [
    "scores = model.predict([(question, answer) for answer in answers])\n",
    "print(scores)\n",
    "most_relevant_idx = torch.argmax(torch.tensor(scores)).item()\n",
    "print(f\"The most relevant passage is: {answers[most_relevant_idx]}\")"
   ]
  },
  {
   "cell_type": "markdown",
   "metadata": {},
   "source": [
    "- **Input Embeddings**: Token + Positional embeddings for each token\n",
    "- **Contextual Embeddings**: Embedding after each layer"
   ]
  }
 ],
 "metadata": {
  "kernelspec": {
   "display_name": "openai",
   "language": "python",
   "name": "python3"
  },
  "language_info": {
   "codemirror_mode": {
    "name": "ipython",
    "version": 3
   },
   "file_extension": ".py",
   "mimetype": "text/x-python",
   "name": "python",
   "nbconvert_exporter": "python",
   "pygments_lexer": "ipython3",
   "version": "3.10.12"
  }
 },
 "nbformat": 4,
 "nbformat_minor": 2
}
