{
 "cells": [
  {
   "cell_type": "code",
   "execution_count": 10,
   "metadata": {},
   "outputs": [],
   "source": [
    "import json\n",
    "import requests\n",
    "import os\n",
    "from time import sleep\n",
    "import os\n",
    "import logging\n",
    "import customvoice\n",
    "import azure.cognitiveservices.speech as speechsdk\n",
    "from dotenv import load_dotenv\n",
    "load_dotenv()\n",
    "os.environ['SSL_CERT_DIR'] = '/etc/ssl/certs'"
   ]
  },
  {
   "cell_type": "code",
   "execution_count": 11,
   "metadata": {},
   "outputs": [],
   "source": [
    "\n",
    "def get_personal_voice(config: customvoice.Config, personal_voice_id: str):\n",
    "    personal_voice = customvoice.PersonalVoice.get(config, personal_voice_id)\n",
    "    return personal_voice.speaker_profile_id\n",
    "\n",
    "\n",
    "def create_personal_voice(config: customvoice.Config, project_id: str,\n",
    "                          consent_id: str, consent_file_path: str, voice_talent_name: str, company_name: str,\n",
    "                          personal_voice_id: str, audio_folder: str):\n",
    "    # create project\n",
    "    project = customvoice.Project.create(config, project_id, customvoice.ProjectKind.PersonalVoice)\n",
    "    print('Project created. project id: %s' % project.id)\n",
    "\n",
    "    # upload consent\n",
    "    consent = customvoice.Consent.create(config, project_id, consent_id, voice_talent_name, company_name, consent_file_path, 'en-us')\n",
    "    if consent.status == customvoice.Status.Failed:\n",
    "        print('Create consent failed. consent id: %s' % consent.id)\n",
    "        raise Exception\n",
    "    elif consent.status == customvoice.Status.Succeeded:\n",
    "        print('Create consent succeeded. consent id: %s' % consent.id)\n",
    "\n",
    "    # create personal voice\n",
    "    personal_voice = customvoice.PersonalVoice.create(config, project_id, personal_voice_id, consent_id, audio_folder)\n",
    "    if personal_voice.status == customvoice.Status.Failed:\n",
    "        print('Create personal voice failed. personal voice id: %s' % personal_voice.id)\n",
    "        raise Exception\n",
    "    elif personal_voice.status == customvoice.Status.Succeeded:\n",
    "        print('Create personal voice succeeded. personal voice id: %s, speaker profile id: %s' % (personal_voice.id, personal_voice.speaker_profile_id))\n",
    "    return personal_voice.speaker_profile_id\n",
    "\n",
    "def speech_synthesis_to_wave_file(text: str, output_file_path: str, speaker_profile_id: str):\n",
    "    # Creates an instance of a speech config with specified subscription key and service region.\n",
    "    speech_config = speechsdk.SpeechConfig(subscription=config.key, region=config.region)\n",
    "    file_config = speechsdk.audio.AudioOutputConfig(filename=output_file_path)\n",
    "    speech_synthesizer = speechsdk.SpeechSynthesizer(speech_config=speech_config, audio_config=file_config)\n",
    "\n",
    "    ssml = \"<speak version='1.0' xml:lang='en-US' xmlns='http://www.w3.org/2001/10/synthesis' \" \\\n",
    "           \"xmlns:mstts='http://www.w3.org/2001/mstts'>\" \\\n",
    "           \"<voice name='DragonLatestNeural'>\" \\\n",
    "           \"<mstts:ttsembedding speakerProfileId='%s'/>\" \\\n",
    "           \"<mstts:express-as style='Prompt'>\" \\\n",
    "           \"<lang xml:lang='en-US'> %s </lang>\" \\\n",
    "           \"</mstts:express-as>\" \\\n",
    "           \"</voice></speak> \" % (speaker_profile_id, text)\n",
    "    result = speech_synthesizer.speak_ssml_async(ssml).get()\n",
    "\n",
    "    # Check result\n",
    "    if result.reason == speechsdk.ResultReason.SynthesizingAudioCompleted:\n",
    "        print(\"Speech synthesized for text [{}], and the audio was saved to [{}]\".format(text, output_file_path))\n",
    "        print(\"result id: {}\".format(result.result_id))\n",
    "    elif result.reason == speechsdk.ResultReason.Canceled:\n",
    "        cancellation_details = result.cancellation_details\n",
    "        print(\"Speech synthesis canceled: {}\".format(cancellation_details.reason))\n",
    "        if cancellation_details.reason == speechsdk.CancellationReason.Error:\n",
    "            print(\"Error details: {}\".format(cancellation_details.error_details))\n",
    "            print(\"result id: {}\".format(result.result_id))\n",
    "\n",
    "\n",
    "def clean_up(config: customvoice.Config, project_id: str, consent_id: str, personal_voice_id: str):\n",
    "    customvoice.PersonalVoice.delete(config, personal_voice_id)\n",
    "    customvoice.Consent.delete(config, consent_id)\n",
    "    customvoice.Project.delete(config, project_id)"
   ]
  },
  {
   "cell_type": "code",
   "execution_count": 6,
   "metadata": {},
   "outputs": [
    {
     "name": "stdout",
     "output_type": "stream",
     "text": [
      "Project created. project id: personal-voice-project\n",
      "Create consent succeeded. consent id: personal-voice-consent\n",
      "Create personal voice succeeded. personal voice id: personal-voice, speaker profile id: 87c02382-35e9-4484-ac8e-32d2a87cffa6\n"
     ]
    }
   ],
   "source": [
    "logging.basicConfig(filename=\"customvoice.log\",\n",
    "                    format='%(asctime)s - %(name)s - %(levelname)s - %(message)s',\n",
    "                    filemode='w')\n",
    "logger = logging.getLogger()\n",
    "logger.setLevel(logging.ERROR)\n",
    "\n",
    "config = customvoice.Config(os.getenv(\"SPEECH_KEY\"), os.getenv(\"SPEECH_REGION\"), logger)\n",
    "\n",
    "\n",
    "project_id = 'personal-voice-project'\n",
    "consent_id = 'personal-voice-consent'\n",
    "personal_voice_id  = 'personal-voice'\n"
   ]
  },
  {
   "cell_type": "code",
   "execution_count": 9,
   "metadata": {},
   "outputs": [
    {
     "name": "stdout",
     "output_type": "stream",
     "text": [
      "Speech synthesized for text [\n",
      "How hot is too hot to work? It is a question researchers have found the answer to here, in Cambodia's brick kilns, where people toil in some of the hottest working conditions in the world, fuelled in part by the scraps of fast fashion.\n",
      "], and the audio was saved to [./output/001.wav]\n",
      "result id: a0ed5363c13b413098782bcd012d2b09\n"
     ]
    }
   ],
   "source": [
    "# step 1: create personal voice\n",
    "# Need consent file and audio file to create personal vocie.\n",
    "# This is consent file template.\n",
    "# I [voice talent name] am aware that recordings of my voice will be used by [company name] to create and use a synthetic version of my voice.\n",
    "# You can find sample consent file here\n",
    "# https://github.com/Azure-Samples/Cognitive-Speech-TTS/blob/master/CustomVoice/Sample%20Data/Individual%20utterances%20%2B%20matching%20script/VoiceTalentVerbalStatement.wav\n",
    "consent_file_path = r'./consent/consent.wav'\n",
    "voice_talent_name = 'Yingting Huang'\n",
    "company_name = 'Microsoft'\n",
    "# Need 50 - 90 seconds audio file.\n",
    "# You can find sample audio file here.\n",
    "# https://github.com/Azure-Samples/Cognitive-Speech-TTS/blob/master/CustomVoice/Sample%20Data/Individual%20utterances%20%2B%20matching%20script/SampleAudios.zip\n",
    "# Pleae unzip audio file, and put the first 14 files in folder below.\n",
    "audio_folder = r'./samples/'\n",
    "speaker_profile_id = create_personal_voice(config, project_id, \n",
    "                                           consent_id, consent_file_path, voice_talent_name, company_name,\n",
    "                                           personal_voice_id, audio_folder)\n",
    "\n",
    "# step 2: synthesis wave\n",
    "text = \"\"\"\n",
    "How hot is too hot to work? It is a question researchers have found the answer to here, in Cambodia's brick kilns, where people toil in some of the hottest working conditions in the world, fuelled in part by the scraps of fast fashion.\n",
    "\"\"\"\n",
    "output_wave_file_path = './output/001.wav'\n",
    "speech_synthesis_to_wave_file(text, output_wave_file_path, speaker_profile_id)"
   ]
  },
  {
   "cell_type": "code",
   "execution_count": 15,
   "metadata": {},
   "outputs": [
    {
     "ename": "Exception",
     "evalue": "Service return error\nRequest URL: GET https://southeastasia.api.cognitive.microsoft.com/customvoice/personalvoices/personal-voice?api-version=2023-12-01-preview\nstatus code: 404\nresponse:\n{\n    \"error\": {\n        \"code\": \"NotFound\",\n        \"message\": \"Resource not found\"\n    }\n}",
     "output_type": "error",
     "traceback": [
      "\u001b[0;31m---------------------------------------------------------------------------\u001b[0m",
      "\u001b[0;31mException\u001b[0m                                 Traceback (most recent call last)",
      "Cell \u001b[0;32mIn[15], line 1\u001b[0m\n\u001b[0;32m----> 1\u001b[0m speaker_profile_id \u001b[38;5;241m=\u001b[39m \u001b[43mget_personal_voice\u001b[49m\u001b[43m(\u001b[49m\u001b[43mconfig\u001b[49m\u001b[43m,\u001b[49m\u001b[43m \u001b[49m\u001b[43mpersonal_voice_id\u001b[49m\u001b[43m)\u001b[49m\n\u001b[1;32m      2\u001b[0m text \u001b[38;5;241m=\u001b[39m \u001b[38;5;124m\"\"\"\u001b[39m\n\u001b[1;32m      3\u001b[0m \u001b[38;5;124mThe BBC spoke to several workers who said they sweat so much through the day that it felt like they were in a hot bath. Fainting is common too, possibly because they become dehydrated. Their names have been changed because they fear reprisals from their employers\u001b[39m\n\u001b[1;32m      4\u001b[0m \u001b[38;5;124m\"\"\"\u001b[39m\n\u001b[1;32m      5\u001b[0m output_wave_file_path \u001b[38;5;241m=\u001b[39m \u001b[38;5;124m'\u001b[39m\u001b[38;5;124m./output/002.wav\u001b[39m\u001b[38;5;124m'\u001b[39m\n",
      "Cell \u001b[0;32mIn[11], line 2\u001b[0m, in \u001b[0;36mget_personal_voice\u001b[0;34m(config, personal_voice_id)\u001b[0m\n\u001b[1;32m      1\u001b[0m \u001b[38;5;28;01mdef\u001b[39;00m \u001b[38;5;21mget_personal_voice\u001b[39m(config: customvoice\u001b[38;5;241m.\u001b[39mConfig, personal_voice_id: \u001b[38;5;28mstr\u001b[39m):\n\u001b[0;32m----> 2\u001b[0m     personal_voice \u001b[38;5;241m=\u001b[39m \u001b[43mcustomvoice\u001b[49m\u001b[38;5;241;43m.\u001b[39;49m\u001b[43mPersonalVoice\u001b[49m\u001b[38;5;241;43m.\u001b[39;49m\u001b[43mget\u001b[49m\u001b[43m(\u001b[49m\u001b[43mconfig\u001b[49m\u001b[43m,\u001b[49m\u001b[43m \u001b[49m\u001b[43mpersonal_voice_id\u001b[49m\u001b[43m)\u001b[49m\n\u001b[1;32m      3\u001b[0m     \u001b[38;5;28;01mreturn\u001b[39;00m personal_voice\u001b[38;5;241m.\u001b[39mspeaker_profile_id\n",
      "File \u001b[0;32m~/ainotes/customvoice/customvoice/personal_voice.py:64\u001b[0m, in \u001b[0;36mPersonalVoice.get\u001b[0;34m(config, personal_voice_id)\u001b[0m\n\u001b[1;32m     62\u001b[0m headers \u001b[38;5;241m=\u001b[39m  {\u001b[38;5;124m'\u001b[39m\u001b[38;5;124mOcp-Apim-Subscription-Key\u001b[39m\u001b[38;5;124m'\u001b[39m:config\u001b[38;5;241m.\u001b[39mkey}\n\u001b[1;32m     63\u001b[0m response \u001b[38;5;241m=\u001b[39m requests\u001b[38;5;241m.\u001b[39mget(api_url, headers\u001b[38;5;241m=\u001b[39mheaders)\n\u001b[0;32m---> 64\u001b[0m \u001b[43mraise_exception_when_reqeust_failed\u001b[49m\u001b[43m(\u001b[49m\u001b[38;5;124;43m'\u001b[39;49m\u001b[38;5;124;43mGET\u001b[39;49m\u001b[38;5;124;43m'\u001b[39;49m\u001b[43m,\u001b[49m\u001b[43m \u001b[49m\u001b[43mapi_url\u001b[49m\u001b[43m,\u001b[49m\u001b[43m \u001b[49m\u001b[43mresponse\u001b[49m\u001b[43m,\u001b[49m\u001b[43m \u001b[49m\u001b[43mconfig\u001b[49m\u001b[38;5;241;43m.\u001b[39;49m\u001b[43mlogger\u001b[49m\u001b[43m)\u001b[49m\n\u001b[1;32m     65\u001b[0m personal_voice \u001b[38;5;241m=\u001b[39m PersonalVoice(response\u001b[38;5;241m.\u001b[39mjson())\n\u001b[1;32m     66\u001b[0m \u001b[38;5;28;01mreturn\u001b[39;00m personal_voice\n",
      "File \u001b[0;32m~/ainotes/customvoice/customvoice/helper.py:22\u001b[0m, in \u001b[0;36mraise_exception_when_reqeust_failed\u001b[0;34m(method, api_url, response, logger)\u001b[0m\n\u001b[1;32m     16\u001b[0m message \u001b[38;5;241m=\u001b[39m (\u001b[38;5;124m'\u001b[39m\u001b[38;5;124mService return error\u001b[39m\u001b[38;5;124m'\u001b[39m \u001b[38;5;241m+\u001b[39m os\u001b[38;5;241m.\u001b[39mlinesep \u001b[38;5;241m+\u001b[39m \n\u001b[1;32m     17\u001b[0m            \u001b[38;5;124m'\u001b[39m\u001b[38;5;124mRequest URL: \u001b[39m\u001b[38;5;132;01m%s\u001b[39;00m\u001b[38;5;124m \u001b[39m\u001b[38;5;124m'\u001b[39m \u001b[38;5;241m%\u001b[39m method \u001b[38;5;241m+\u001b[39m api_url \u001b[38;5;241m+\u001b[39m os\u001b[38;5;241m.\u001b[39mlinesep \u001b[38;5;241m+\u001b[39m \n\u001b[1;32m     18\u001b[0m            \u001b[38;5;124m'\u001b[39m\u001b[38;5;124mstatus code: \u001b[39m\u001b[38;5;132;01m%s\u001b[39;00m\u001b[38;5;124m'\u001b[39m \u001b[38;5;241m%\u001b[39m response\u001b[38;5;241m.\u001b[39mstatus_code \u001b[38;5;241m+\u001b[39m os\u001b[38;5;241m.\u001b[39mlinesep \u001b[38;5;241m+\u001b[39m\n\u001b[1;32m     19\u001b[0m            \u001b[38;5;124m'\u001b[39m\u001b[38;5;124mresponse:\u001b[39m\u001b[38;5;124m'\u001b[39m \u001b[38;5;241m+\u001b[39m os\u001b[38;5;241m.\u001b[39mlinesep \u001b[38;5;241m+\u001b[39m \n\u001b[1;32m     20\u001b[0m            json\u001b[38;5;241m.\u001b[39mdumps(response\u001b[38;5;241m.\u001b[39mjson(), indent \u001b[38;5;241m=\u001b[39m \u001b[38;5;241m4\u001b[39m))\n\u001b[1;32m     21\u001b[0m logger\u001b[38;5;241m.\u001b[39merror(message)\n\u001b[0;32m---> 22\u001b[0m \u001b[38;5;28;01mraise\u001b[39;00m \u001b[38;5;167;01mException\u001b[39;00m(message)\n",
      "\u001b[0;31mException\u001b[0m: Service return error\nRequest URL: GET https://southeastasia.api.cognitive.microsoft.com/customvoice/personalvoices/personal-voice?api-version=2023-12-01-preview\nstatus code: 404\nresponse:\n{\n    \"error\": {\n        \"code\": \"NotFound\",\n        \"message\": \"Resource not found\"\n    }\n}"
     ]
    }
   ],
   "source": [
    "speaker_profile_id = get_personal_voice(config, personal_voice_id)\n",
    "text = \"\"\"\n",
    "The BBC spoke to several workers who said they sweat so much through the day that it felt like they were in a hot bath. Fainting is common too, possibly because they become dehydrated. Their names have been changed because they fear reprisals from their employers\n",
    "\"\"\"\n",
    "output_wave_file_path = './output/002.wav'\n",
    "speech_synthesis_to_wave_file(text, output_wave_file_path, speaker_profile_id)"
   ]
  },
  {
   "cell_type": "code",
   "execution_count": 14,
   "metadata": {},
   "outputs": [],
   "source": [
    "# Optional step 4: clean up, if you don't need this voice to synthesis more content.\n",
    "clean_up(config, project_id, consent_id, personal_voice_id)"
   ]
  }
 ],
 "metadata": {
  "kernelspec": {
   "display_name": "venv",
   "language": "python",
   "name": "python3"
  },
  "language_info": {
   "codemirror_mode": {
    "name": "ipython",
    "version": 3
   },
   "file_extension": ".py",
   "mimetype": "text/x-python",
   "name": "python",
   "nbconvert_exporter": "python",
   "pygments_lexer": "ipython3",
   "version": "3.10.12"
  }
 },
 "nbformat": 4,
 "nbformat_minor": 2
}
