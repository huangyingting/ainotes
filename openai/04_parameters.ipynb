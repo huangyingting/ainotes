{
 "cells": [
  {
   "cell_type": "code",
   "execution_count": 3,
   "metadata": {},
   "outputs": [
    {
     "name": "stderr",
     "output_type": "stream",
     "text": [
      "/home/ythuang/venv/lib/python3.10/site-packages/tqdm/auto.py:21: TqdmWarning: IProgress not found. Please update jupyter and ipywidgets. See https://ipywidgets.readthedocs.io/en/stable/user_install.html\n",
      "  from .autonotebook import tqdm as notebook_tqdm\n",
      "None of PyTorch, TensorFlow >= 2.0, or Flax have been found. Models won't be available and only tokenizers, configuration and file/data utilities can be used.\n"
     ]
    },
    {
     "data": {
      "text/plain": [
       "True"
      ]
     },
     "execution_count": 3,
     "metadata": {},
     "output_type": "execute_result"
    }
   ],
   "source": [
    "import os\n",
    "from openai import AzureOpenAI\n",
    "from transformers import GPT2TokenizerFast\n",
    "from dotenv import load_dotenv\n",
    "load_dotenv()"
   ]
  },
  {
   "attachments": {},
   "cell_type": "markdown",
   "metadata": {},
   "source": [
    "# temperature\n",
    "\n",
    "Defaults to 1\n",
    "\n",
    "What sampling temperature to use. Higher values means the model will take more risks. Try 0.9 for more creative applications, and 0 (argmax sampling) for ones with a well-defined answer.\n",
    "\n",
    "We generally recommend altering this or top_p but not both."
   ]
  },
  {
   "cell_type": "code",
   "execution_count": 9,
   "metadata": {},
   "outputs": [],
   "source": [
    "def call_openai(prompt, temperature, n=1):\n",
    "    deployment_name = \"gpt-35-turbo\"\n",
    "\n",
    "    client = AzureOpenAI(\n",
    "        api_key=os.getenv(\"AZURE_OPENAI_KEY\"),  \n",
    "        api_version=os.getenv(\"OPENAI_API_VERSION\"),\n",
    "        azure_endpoint = os.getenv(\"AZURE_OPENAI_ENDPOINT\")\n",
    "        )\n",
    "    \n",
    "    response = client.chat.completions.create(\n",
    "            model=deployment_name,\n",
    "            messages = [{\"role\":\"system\", \"content\":\"You are a helpful assistant.\"},\n",
    "                        {\"role\":\"user\",\"content\": prompt}],\n",
    "                max_tokens=60,\n",
    "                temperature = temperature,\n",
    "                n=n\n",
    "        )\n",
    "    \n",
    "    return response\n"
   ]
  },
  {
   "cell_type": "code",
   "execution_count": 12,
   "metadata": {},
   "outputs": [
    {
     "name": "stdout",
     "output_type": "stream",
     "text": [
      "subjective topic and can vary depending on individual preferences and lifestyles. Some people may prefer dogs as they are loyal, trainable, and provide companionship. Others may prefer cats for their independence, low maintenance, and ability to be left alone for longer periods of time. Other popular pets include birds, fish\n",
      "subjective topic and can vary depending on individual preferences and lifestyles. Some people may prefer dogs as they are loyal, trainable, and provide companionship. Others may prefer cats for their independence, low maintenance, and ability to be left alone for longer periods of time. Other popular pets include birds, fish\n",
      "subjective topic and can vary depending on individual preferences and lifestyles. Some people may prefer dogs as they are loyal, trainable, and provide companionship. Others may prefer cats for their independence, low maintenance, and ability to be left alone for longer periods of time. Other popular pets include birds, fish\n",
      "subjective topic and can vary depending on individual preferences and lifestyles. Some people may prefer dogs as they are loyal, trainable, and provide companionship. Others may prefer cats for their independence, low maintenance, and ability to be left alone for longer periods of time. Other popular pets include birds, fish\n",
      "subjective topic and can vary depending on individual preferences and lifestyles. Some people may prefer dogs as they are loyal, trainable, and provide companionship. Others may prefer cats for their independence, low maintenance, and ability to be left alone for longer periods of time. Other popular pets include birds, fish\n",
      "subjective topic and can vary depending on individual preferences and lifestyles. Some people may prefer dogs as they are loyal, trainable, and provide companionship. Others may prefer cats for their independence, low maintenance, and ability to be left alone for longer periods of time. Other popular pets include birds, fish\n",
      "subjective topic and can vary depending on individual preferences and lifestyles. Some people may prefer dogs as they are loyal, trainable, and provide companionship. Others may prefer cats for their independence, low maintenance, and ability to be left alone for longer periods of time. Other popular pets include birds, fish\n",
      "subjective topic and can vary depending on individual preferences and lifestyles. Some people may prefer dogs as they are loyal, trainable, and provide companionship. Others may prefer cats for their independence, low maintenance, and ability to be left alone for longer periods of time. Other popular pets include birds, fish\n",
      "subjective topic and can vary depending on individual preferences and lifestyles. Some people may prefer dogs as they are loyal, trainable, and provide companionship. Others may prefer cats for their independence, low maintenance, and ability to be left alone for longer periods of time. Other popular pets include birds, fish\n",
      "subjective topic and can vary depending on individual preferences and lifestyles. Some people may prefer dogs as they are loyal, trainable, and provide companionship. Others may prefer cats for their independence, low maintenance, and ability to be left alone for longer periods of time. Other popular pets include birds, fish\n"
     ]
    }
   ],
   "source": [
    "for i in range(10):\n",
    "    print(call_openai('The best pet is a ', temperature = 0).choices[0].message.content)"
   ]
  },
  {
   "cell_type": "code",
   "execution_count": 13,
   "metadata": {},
   "outputs": [
    {
     "name": "stdout",
     "output_type": "stream",
     "text": [
      "subjective question, as different people have different preferences and lifestyles. Some people might prefer a dog for companionship and loyalty, while others might prefer a cat for their independent nature and low-maintenance care. Other popular choices include small mammals like rabbits or guinea pigs, birds, fish, or rept\n",
      "subjective matter and can vary greatly depending on individual preferences, lifestyle, and personal circumstances. Some people may prefer dogs as pets for their loyalty, companionship, and ability to be trained. Others may prefer cats for their independence, low-maintenance nature, and affectionate behavior. Other popular choices for\n",
      "subjective question as it depends on individual preferences and lifestyles. Some may argue that a dog is the best pet because they are loyal, loving, and provide companionship. Others may argue that a cat is the best pet because they are independent, low-maintenance, and can be more suitable for smaller\n",
      "subjective opinion. It really depends on your personal preferences, lifestyle, and living situation. Some people may prefer the companionship of cats, while others may prefer dogs. Some may choose small animals like birds, rabbits, or hamsters, while others may opt for reptiles or fish. Ultimately,\n",
      "subjective matter and depends on individual preferences and lifestyle. Some people might find dogs to be the best pets because of their loyalty, companionship, and playfulness. Others might prefer cats for their independence and low-maintenance nature. Some may enjoy the company of smaller animals like rabbits or guinea pigs\n",
      "subjective opinion and can vary depending on a person's preferences, lifestyle, and personal circumstances. Some people might consider a dog to be the best pet because of their loyalty, companionship, and ability to be trained. Others might prefer a cat for their independence, low maintenance, and affectionate nature\n",
      "subjective question as it depends on individual preferences and circumstances. Some people may prefer dogs for their loyalty and companionship, while others may prefer cats for their independence and low maintenance. Other popular pet choices include birds, fish, and small mammals like hamsters or guinea pigs. Ultimately, the best\n",
      "subjective question and is dependent on individual preferences, lifestyle, and living situation. Some people may prefer dogs for their loyalty and companionship, while others may prefer cats for their independence and low-maintenance nature. Other popular pets include small animals like hamsters or guinea pigs, birds, or even\n",
      "subjective topic that ultimately depends on an individual's lifestyle, preferences, and circumstances. However, some popular choices for pets include dogs, cats, rabbits, guinea pigs, birds, and fish. Each of these pets has its own unique characteristics and care requirements. It is important to research the specific\n",
      "subjective choice that depends on individual preferences and lifestyle. Some popular choices for pets include dogs, cats, birds, fish, rabbits, and even reptiles or rodents. Each type of pet has its own unique characteristics and care requirements, so it's important to consider factors such as the amount of time\n"
     ]
    }
   ],
   "source": [
    "for i in range(10):\n",
    "    print(call_openai('The best pet is a ', temperature = 1).choices[0].message.content)"
   ]
  },
  {
   "attachments": {},
   "cell_type": "markdown",
   "metadata": {},
   "source": [
    "# n\n",
    "\n",
    "Defaults to 1\n",
    "\n",
    "How many completions to generate for each prompt.\n",
    "\n",
    "Note: Because this parameter generates many completions, it can quickly consume your token quota. Use carefully and ensure that you have reasonable settings for max_tokens and stop."
   ]
  },
  {
   "cell_type": "code",
   "execution_count": 16,
   "metadata": {},
   "outputs": [
    {
     "name": "stdout",
     "output_type": "stream",
     "text": [
      "============================================================\n",
      "subjective question that depends on a person's individual preferences and lifestyle. Some may argue that dogs make the best pets because of their loyalty and companionship. Others may prefer cats for their independence and low-maintenance nature. Other popular pet options include birds, rabbits, guinea pigs, fish, and\n",
      "============================================================\n",
      "subjective matter. It really depends on your lifestyle, preferences, and ability to care for a pet. However, popular choices for pets include dogs, cats, fish, and birds. Dogs can provide companionship, loyalty, and can be great for active individuals or families. Cats are independent but can\n"
     ]
    }
   ],
   "source": [
    "response = call_openai('The best pet is a ', temperature = 1, n=2)\n",
    "\n",
    "for c in response.choices:\n",
    "    print('='*60)\n",
    "    print(c.message.content)"
   ]
  },
  {
   "attachments": {},
   "cell_type": "markdown",
   "metadata": {},
   "source": [
    "# presence_penalty\n",
    "\n",
    "Defaults to 0\n",
    "\n",
    "Number between -2.0 and 2.0. Positive values penalize new tokens based on whether they appear in the text so far, increasing the model's likelihood to talk about new topics.\n",
    "\n",
    "# frequency_penalty\n",
    "\n",
    "Defaults to 0\n",
    "\n",
    "Number between -2.0 and 2.0. Positive values penalize new tokens based on their existing frequency in the text so far, decreasing the model's likelihood to repeat the same line verbatim.\n"
   ]
  },
  {
   "cell_type": "markdown",
   "metadata": {},
   "source": []
  }
 ],
 "metadata": {
  "kernelspec": {
   "display_name": "azureml_py310_sdkv2",
   "language": "python",
   "name": "python3"
  },
  "language_info": {
   "codemirror_mode": {
    "name": "ipython",
    "version": 3
   },
   "file_extension": ".py",
   "mimetype": "text/x-python",
   "name": "python",
   "nbconvert_exporter": "python",
   "pygments_lexer": "ipython3",
   "version": "3.10.12"
  },
  "orig_nbformat": 4,
  "vscode": {
   "interpreter": {
    "hash": "2139c70ac98f3202d028164a545621647e07f47fd6f5d8ac55cf952bf7c15ed1"
   }
  }
 },
 "nbformat": 4,
 "nbformat_minor": 2
}
