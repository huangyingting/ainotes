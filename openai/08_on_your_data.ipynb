{
 "cells": [
  {
   "cell_type": "markdown",
   "metadata": {},
   "source": [
    "# Azure chat completion models with your own data (preview)\n",
    "This example shows how to use Azure OpenAI service models with your own data. The feature is currently in preview. \n",
    "\n",
    "Azure OpenAI on your data enables you to run supported chat models such as GPT-3.5-Turbo and GPT-4 on your data without needing to train or fine-tune models. Running models on your data enables you to chat on top of, and analyze your data with greater accuracy and speed. One of the key benefits of Azure OpenAI on your data is its ability to tailor the content of conversational AI. Because the model has access to, and can reference specific sources to support its responses, answers are not only based on its pretrained knowledge but also on the latest information available in the designated data source. This grounding data also helps the model avoid generating responses based on outdated or incorrect information.\n",
    "\n",
    "Azure OpenAI on your own data with Azure Cognitive Search provides a customizable, pre-built solution for knowledge retrieval, from which a conversational AI application can be built. To see alternative methods for knowledge retrieval and semantic search, check out the cookbook examples for [vector databases](https://github.com/openai/openai-cookbook/tree/main/examples/vector_databases)."
   ]
  },
  {
   "cell_type": "markdown",
   "metadata": {},
   "source": [
    "## How it works\n",
    "\n",
    "[Azure OpenAI on your own data](https://learn.microsoft.com/azure/ai-services/openai/concepts/use-your-data) connects the model with your data, giving it the ability to retrieve and utilize data in a way that enhances the model's output. Together with Azure Cognitive Search, data is retrieved from designated data sources based on the user input and provided conversation history. The data is then augmented and resubmitted as a prompt to the model, giving the model contextual information it can use to generate a response.\n",
    "\n",
    "See the [Data, privacy, and security for Azure OpenAI Service](https://learn.microsoft.com/legal/cognitive-services/openai/data-privacy?context=%2Fazure%2Fai-services%2Fopenai%2Fcontext%2Fcontext) for more information."
   ]
  },
  {
   "cell_type": "markdown",
   "metadata": {},
   "source": [
    "## Prerequisites\n",
    "To get started, we'll cover a few prequisites. \n",
    "\n",
    "To properly access the Azure OpenAI Service, we need to create the proper resources at the [Azure Portal](https://portal.azure.com) (you can check a detailed guide on how to do this in the [Microsoft Docs](https://learn.microsoft.com/azure/cognitive-services/openai/how-to/create-resource?pivots=web-portal))\n",
    "\n",
    "To use your own data with Azure OpenAI models, you will need:\n",
    "\n",
    "1. Azure OpenAI access and a resource with a chat model deployed (for example, GPT-3 or GPT-4)\n",
    "2. Azure Cognitive Search resource\n",
    "3. Azure Blob Storage resource\n",
    "4. Your documents to be used as data (See [data source options](https://learn.microsoft.com/azure/ai-services/openai/concepts/use-your-data#data-source-options))\n",
    "\n",
    "\n",
    "For a full walk-through on how to upload your documents to blob storage and create an index using the Azure AI Studio, see this [Quickstart](https://learn.microsoft.com/azure/ai-services/openai/use-your-data-quickstart?pivots=programming-language-studio&tabs=command-line)."
   ]
  },
  {
   "cell_type": "markdown",
   "metadata": {},
   "source": [
    "## Setup\n",
    "\n",
    "First, we install the necessary dependencies."
   ]
  },
  {
   "cell_type": "code",
   "execution_count": 1,
   "metadata": {},
   "outputs": [
    {
     "name": "stdout",
     "output_type": "stream",
     "text": [
      "Note: you may need to restart the kernel to use updated packages.\n"
     ]
    }
   ],
   "source": [
    "%pip install openai python-dotenv --quiet"
   ]
  },
  {
   "cell_type": "markdown",
   "metadata": {},
   "source": [
    "In this example, we'll use `dotenv` to load our environment variables. To connect with Azure OpenAI and the Search index, the following variables should be added to a `.env` file in `KEY=VALUE` format:\n",
    "\n",
    "* `AZURE_OPENAI_ENDPOINT` - the Azure OpenAI endpoint. This can be found under \"Keys and Endpoints\" for your Azure OpenAI resource in the Azure Portal.\n",
    "* `AZURE_OPENAI_KEY` - the Azure OpenAI API key. This can be found under \"Keys and Endpoints\" for your Azure OpenAI resource in the Azure Portal. Omit if using Azure Active Directory authentication (see below `Authentication using Microsoft Active Directory`)\n",
    "* `SEARCH_ENDPOINT` - the Cognitive Search endpoint. This URL be found on the \"Overview\" of your Search resource on the Azure Portal.\n",
    "* `SEARCH_KEY` - the Cognitive Search API key. Found under \"Keys\" for your Search resource in the Azure Portal.\n",
    "* `SEARCH_INDEX_NAME` - the name of the index you created with your own data."
   ]
  },
  {
   "cell_type": "code",
   "execution_count": 3,
   "metadata": {},
   "outputs": [
    {
     "data": {
      "text/plain": [
       "True"
      ]
     },
     "execution_count": 3,
     "metadata": {},
     "output_type": "execute_result"
    }
   ],
   "source": [
    "import os\n",
    "import openai\n",
    "import dotenv\n",
    "\n",
    "dotenv.load_dotenv()"
   ]
  },
  {
   "cell_type": "markdown",
   "metadata": {},
   "source": [
    "### Authentication\n",
    "\n",
    "The Azure OpenAI service supports multiple authentication mechanisms that include API keys and Azure Active Directory token credentials."
   ]
  },
  {
   "cell_type": "code",
   "execution_count": 4,
   "metadata": {},
   "outputs": [],
   "source": [
    "use_azure_active_directory = False  # Set this flag to True if you are using Azure Active Directory"
   ]
  },
  {
   "cell_type": "markdown",
   "metadata": {},
   "source": [
    "#### Authentication using API key\n",
    "\n",
    "To set up the OpenAI SDK to use an *Azure API Key*, we need to set `api_key` to a key associated with your endpoint (you can find this key in *\"Keys and Endpoints\"* under *\"Resource Management\"* in the [Azure Portal](https://portal.azure.com)). You'll also find the endpoint for your resource here."
   ]
  },
  {
   "cell_type": "code",
   "execution_count": 5,
   "metadata": {},
   "outputs": [],
   "source": [
    "if not use_azure_active_directory:\n",
    "    endpoint = os.environ[\"AZURE_OPENAI_ENDPOINT\"]\n",
    "    api_key = os.environ[\"AZURE_OPENAI_KEY\"]\n",
    "    # set the deployment name for the model we want to use\n",
    "    deployment = \"gpt-35-turbo\"\n",
    "\n",
    "    client = openai.AzureOpenAI(\n",
    "        base_url=f\"{endpoint}/openai/deployments/{deployment}/extensions\",\n",
    "        api_key=api_key,\n",
    "        api_version=\"2023-09-01-preview\"\n",
    "    )"
   ]
  },
  {
   "cell_type": "markdown",
   "metadata": {},
   "source": [
    "#### Authentication using Azure Active Directory\n",
    "Let's now see how we can autheticate via Azure Active Directory. We'll start by installing the `azure-identity` library. This library will provide the token credentials we need to authenticate and help us build a token credential provider through the `get_bearer_token_provider` helper function. It's recommended to use `get_bearer_token_provider` over providing a static token to `AzureOpenAI` because this API will automatically cache and refresh tokens for you. \n",
    "\n",
    "For more information on how to set up Azure Active Directory authentication with Azure OpenAI, see the [documentation](https://learn.microsoft.com/azure/ai-services/openai/how-to/managed-identity)."
   ]
  },
  {
   "cell_type": "code",
   "execution_count": null,
   "metadata": {},
   "outputs": [],
   "source": [
    "! pip install \"azure-identity>=1.15.0\""
   ]
  },
  {
   "cell_type": "code",
   "execution_count": 5,
   "metadata": {},
   "outputs": [],
   "source": [
    "from azure.identity import DefaultAzureCredential, get_bearer_token_provider\n",
    "\n",
    "if use_azure_active_directory:\n",
    "    endpoint = os.environ[\"AZURE_OPENAI_ENDPOINT\"]\n",
    "    api_key = os.environ[\"AZURE_OPENAI_KEY\"]\n",
    "    # set the deployment name for the model we want to use\n",
    "    deployment = \"gpt-35-turbo\"\n",
    "\n",
    "    client = openai.AzureOpenAI(\n",
    "        base_url=f\"{endpoint}/openai/deployments/{deployment}/extensions\",\n",
    "        azure_ad_token_provider=get_bearer_token_provider(DefaultAzureCredential(), \"https://cognitiveservices.azure.com/.default\"),\n",
    "        api_version=\"2023-09-01-preview\"\n",
    "    )"
   ]
  },
  {
   "cell_type": "markdown",
   "metadata": {},
   "source": [
    "> Note: the AzureOpenAI infers the following arguments from their corresponding environment variables if they are not provided:\n",
    "\n",
    "- `api_key` from `AZURE_OPENAI_KEY`\n",
    "- `azure_ad_token` from `AZURE_OPENAI_AD_TOKEN`\n",
    "- `api_version` from `OPENAI_API_VERSION`\n",
    "- `azure_endpoint` from `AZURE_OPENAI_ENDPOINT`\n"
   ]
  },
  {
   "cell_type": "markdown",
   "metadata": {},
   "source": [
    "## Chat completion model with your own data"
   ]
  },
  {
   "cell_type": "markdown",
   "metadata": {},
   "source": [
    "### Setting the context"
   ]
  },
  {
   "cell_type": "markdown",
   "metadata": {},
   "source": [
    "In this example, we want our model to base its responses on Azure AI services documentation data. Following the [Quickstart](https://learn.microsoft.com/azure/ai-services/openai/use-your-data-quickstart?tabs=command-line&pivots=programming-language-studio) shared previously, we have added the [markdown](https://github.com/MicrosoftDocs/azure-docs/blob/main/articles/ai-services/cognitive-services-and-machine-learning.md) file for the [Azure AI services and machine learning](https://learn.microsoft.com/azure/ai-services/cognitive-services-and-machine-learning) documentation page to our search index. The model is now ready to answer questions about Azure AI services and machine learning."
   ]
  },
  {
   "cell_type": "markdown",
   "metadata": {},
   "source": [
    "### Code"
   ]
  },
  {
   "cell_type": "markdown",
   "metadata": {},
   "source": [
    "Now we can use Azure on your own data with Chat Completions. Providing our search endpoint, key, and index name in `dataSources`, any questions posed to the model will now be grounded in our own data. An additional property, `context`, will be provided in the response to show the data the model referenced to answer the question."
   ]
  },
  {
   "cell_type": "code",
   "execution_count": 8,
   "metadata": {},
   "outputs": [
    {
     "name": "stdout",
     "output_type": "stream",
     "text": [
      "assistant: Northwind Health Plus is more comprehensive compared to Northwind Standard. It offers coverage for emergency services, mental health and substance abuse coverage, and out-of-network services, while Northwind Standard does not provide these additional coverages [doc1]. Additionally, Northwind Health Plus offers a wider range of prescription drug coverage, covering generic, brand-name, and specialty drugs, whereas Northwind Standard only covers generic and brand-name drugs [doc1]. Both plans offer coverage for vision and dental services, as well as medical services, but Northwind Health Plus provides more extensive coverage overall [doc1].\n",
      "\n",
      "Therefore, based on the provided information, Northwind Health Plus is the more comprehensive option between the two plans [doc1].\n",
      "\n",
      "Context: {\"citations\": [{\"content\": \"Contoso Electronics \\nPlan and Benefit Packages\\n\\nThis document contains information generated using a language model (Azure OpenAI). The information \\ncontained in this document is only for demonstration purposes and does not reflect the opinions or \\nbeliefs of Microsoft. Microsoft makes no representations or warranties of any kind, express or implied, \\nabout the completeness, accuracy, reliability, suitability or availability with respect to the information \\ncontained in this document. \\n\\nAll rights reserved to Microsoft\\n\\nWelcome to Contoso Electronics! We are excited to offer our employees two comprehensive health \\ninsurance plans through Northwind Health. \\n\\nNorthwind Health Plus \\nNorthwind Health Plus is a comprehensive plan that provides comprehensive coverage for medical, \\nvision, and dental services. This plan also offers prescription drug coverage, mental health and substance \\nabuse coverage, and coverage for preventive care services. With Northwind Health Plus, you can choose \\nfrom a variety of in-network providers, including primary care physicians, specialists, hospitals, and \\npharmacies. This plan also offers coverage for emergency services, both in-network and out-of-network.\\n\\nNorthwind Standard \\nNorthwind Standard is a basic plan that provides coverage for medical, vision, and dental services. This \\nplan also offers coverage for preventive care services, as well as prescription drug coverage. With \\nNorthwind Standard, you can choose from a variety of in-network providers, including primary care \\nphysicians, specialists, hospitals, and pharmacies. This plan does not offer coverage for emergency \\nservices, mental health and substance abuse coverage, or out-of-network services.\\n\\nComparison of Plans \\nBoth plans offer coverage for routine physicals, well-child visits, immunizations, and other preventive \\ncare services. The plans also cover preventive care services such as mammograms, colonoscopies, and \\nother cancer screenings. \\n\\nNorthwind Health Plus offers more comprehensive coverage than Northwind Standard. This plan offers \\ncoverage for emergency services, both in-network and out-of-network, as well as mental health and \\nsubstance abuse coverage. Northwind Standard does not offer coverage for emergency services, mental \\nhealth and substance abuse coverage, or out-of-network services. \\n\\nBoth plans offer coverage for prescription drugs. Northwind Health Plus offers a wider range of \\nprescription drug coverage than Northwind Standard. Northwind Health Plus covers generic, brand-\\nname, and specialty drugs, while Northwind Standard only covers generic and brand-name drugs. \\n\\nBoth plans offer coverage for vision and dental services. Northwind Health Plus offers coverage for vision \\nexams, glasses, and contact lenses, as well as dental exams, cleanings, and fillings. Northwind Standard \\nonly offers coverage for vision exams and glasses. \\n\\nBoth plans offer coverage for medical services. Northwind Health Plus offers coverage for hospital stays, \\ndoctor visits, lab tests, and X-rays. Northwind Standard only offers coverage for doctor visits and lab \\ntests. \\n\\nNorthwind Health Plus is a comprehensive plan that offers more coverage than Northwind Standard. \\nNorthwind Health Plus offers coverage for emergency services, mental health and substance abuse \\ncoverage, and out-of-network services, while Northwind Standard does not. Northwind Health Plus also \\n\\noffers a wider range of prescription drug coverage than Northwind Standard. Both plans offer coverage \\nfor vision and dental services, as well as medical services.  \\n\\nCost Comparison\\nContoso Electronics deducts the employee's portion of the healthcare cost from each paycheck. This \\nmeans that the cost of the health insurance will be spread out over the course of the year, rather \\nthan being paid in one lump sum. The employee's portion of the cost will be calculated based on the \\nselected health plan and the number of people covered by the insurance. The table below shows a \\ncost comparison between the different health plans offered by Contoso Electronics:\\n\\nNext Steps \\nWe hope that this information has been helpful in understanding the differences between Northwind \\nHealth Plus and Northwind Standard. We are confident that you will find the right plan for you and \\nyour family. Thank you for choosing Contoso Electronics!\", \"id\": null, \"title\": \"Contoso Electronics\", \"filepath\": \"Benefit_Options.pdf\", \"url\": \"https://aaisea.blob.core.windows.net/aoaivs/Benefit_Options.pdf\", \"metadata\": null, \"chunk_id\": \"0\"}], \"intent\": \"[\\\"Comparison of Northwind Health Plus and Northwind Standard\\\", \\\"Differences between Northwind Health Plus and Northwind Standard\\\"]\"}\n"
     ]
    }
   ],
   "source": [
    "completion = client.chat.completions.create(\n",
    "    messages=[{\"role\": \"user\", \"content\": \"Which is more comprehensive, Northwind Health Plus vs Northwind Standard?\"}],\n",
    "    model=deployment,\n",
    "    extra_body={\n",
    "        \"dataSources\": [\n",
    "            {\n",
    "                \"type\": \"AzureCognitiveSearch\",\n",
    "                \"parameters\": {\n",
    "                    \"endpoint\": os.environ[\"SEARCH_ENDPOINT\"],\n",
    "                    \"key\": os.environ[\"SEARCH_KEY\"],\n",
    "                    \"indexName\": os.environ[\"SEARCH_INDEX_NAME\"],\n",
    "                    \"queryType\": \"vectorSimpleHybrid\",\n",
    "                    \"fieldsMapping\": {},\n",
    "                    \"roleInformation\": \"You are an AI assistant that helps people find information.\",                    \n",
    "                    \"strictness\": 3,\n",
    "                    \"topNDocuments\": 5,\n",
    "                    \"embeddingDeploymentName\": \"text-embedding-ada-002\"\n",
    "                }\n",
    "            }\n",
    "        ]\n",
    "    }\n",
    ")\n",
    "print(f\"{completion.choices[0].message.role}: {completion.choices[0].message.content}\")\n",
    "\n",
    "# `context` is in the model_extra for Azure\n",
    "print(f\"\\nContext: {completion.choices[0].message.model_extra['context']['messages'][0]['content']}\")"
   ]
  },
  {
   "cell_type": "markdown",
   "metadata": {},
   "source": [
    "If you would prefer to stream the response from the model, you can pass the `stream=True` keyword argument:"
   ]
  },
  {
   "cell_type": "code",
   "execution_count": 10,
   "metadata": {},
   "outputs": [
    {
     "name": "stdout",
     "output_type": "stream",
     "text": [
      "Context: {'messages': [{'role': 'tool', 'content': '{\"citations\":[{\"content\":\"Contoso Electronics \\\\nPlan and Benefit Packages\\\\n\\\\nThis document contains information generated using a language model (Azure OpenAI). The information \\\\ncontained in this document is only for demonstration purposes and does not reflect the opinions or \\\\nbeliefs of Microsoft. Microsoft makes no representations or warranties of any kind, express or implied, \\\\nabout the completeness, accuracy, reliability, suitability or availability with respect to the information \\\\ncontained in this document. \\\\n\\\\nAll rights reserved to Microsoft\\\\n\\\\nWelcome to Contoso Electronics! We are excited to offer our employees two comprehensive health \\\\ninsurance plans through Northwind Health. \\\\n\\\\nNorthwind Health Plus \\\\nNorthwind Health Plus is a comprehensive plan that provides comprehensive coverage for medical, \\\\nvision, and dental services. This plan also offers prescription drug coverage, mental health and substance \\\\nabuse coverage, and coverage for preventive care services. With Northwind Health Plus, you can choose \\\\nfrom a variety of in-network providers, including primary care physicians, specialists, hospitals, and \\\\npharmacies. This plan also offers coverage for emergency services, both in-network and out-of-network.\\\\n\\\\nNorthwind Standard \\\\nNorthwind Standard is a basic plan that provides coverage for medical, vision, and dental services. This \\\\nplan also offers coverage for preventive care services, as well as prescription drug coverage. With \\\\nNorthwind Standard, you can choose from a variety of in-network providers, including primary care \\\\nphysicians, specialists, hospitals, and pharmacies. This plan does not offer coverage for emergency \\\\nservices, mental health and substance abuse coverage, or out-of-network services.\\\\n\\\\nComparison of Plans \\\\nBoth plans offer coverage for routine physicals, well-child visits, immunizations, and other preventive \\\\ncare services. The plans also cover preventive care services such as mammograms, colonoscopies, and \\\\nother cancer screenings. \\\\n\\\\nNorthwind Health Plus offers more comprehensive coverage than Northwind Standard. This plan offers \\\\ncoverage for emergency services, both in-network and out-of-network, as well as mental health and \\\\nsubstance abuse coverage. Northwind Standard does not offer coverage for emergency services, mental \\\\nhealth and substance abuse coverage, or out-of-network services. \\\\n\\\\nBoth plans offer coverage for prescription drugs. Northwind Health Plus offers a wider range of \\\\nprescription drug coverage than Northwind Standard. Northwind Health Plus covers generic, brand-\\\\nname, and specialty drugs, while Northwind Standard only covers generic and brand-name drugs. \\\\n\\\\nBoth plans offer coverage for vision and dental services. Northwind Health Plus offers coverage for vision \\\\nexams, glasses, and contact lenses, as well as dental exams, cleanings, and fillings. Northwind Standard \\\\nonly offers coverage for vision exams and glasses. \\\\n\\\\nBoth plans offer coverage for medical services. Northwind Health Plus offers coverage for hospital stays, \\\\ndoctor visits, lab tests, and X-rays. Northwind Standard only offers coverage for doctor visits and lab \\\\ntests. \\\\n\\\\nNorthwind Health Plus is a comprehensive plan that offers more coverage than Northwind Standard. \\\\nNorthwind Health Plus offers coverage for emergency services, mental health and substance abuse \\\\ncoverage, and out-of-network services, while Northwind Standard does not. Northwind Health Plus also \\\\n\\\\noffers a wider range of prescription drug coverage than Northwind Standard. Both plans offer coverage \\\\nfor vision and dental services, as well as medical services.  \\\\n\\\\nCost Comparison\\\\nContoso Electronics deducts the employee\\'s portion of the healthcare cost from each paycheck. This \\\\nmeans that the cost of the health insurance will be spread out over the course of the year, rather \\\\nthan being paid in one lump sum. The employee\\'s portion of the cost will be calculated based on the \\\\nselected health plan and the number of people covered by the insurance. The table below shows a \\\\ncost comparison between the different health plans offered by Contoso Electronics:\\\\n\\\\nNext Steps \\\\nWe hope that this information has been helpful in understanding the differences between Northwind \\\\nHealth Plus and Northwind Standard. We are confident that you will find the right plan for you and \\\\nyour family. Thank you for choosing Contoso Electronics!\",\"id\":null,\"title\":\"Contoso Electronics\",\"filepath\":\"Benefit_Options.pdf\",\"url\":\"https://aaisea.blob.core.windows.net/aoaivs/Benefit_Options.pdf\",\"metadata\":{\"chunking\":\"orignal document size=914. Scores=4.6049967Org Highlight count=122.\"},\"chunk_id\":\"0\"}],\"intent\":\"[\\\\\"Comparison of Northwind Health Plus and Northwind Standard\\\\\", \\\\\"Differences between Northwind Health Plus and Northwind Standard\\\\\"]\"}', 'end_turn': False}]}\n",
      "assistant: Northwind Health Plus is more comprehensive than Northwind Standard. It offers coverage for emergency services, mental health and substance abuse coverage, and out-of-network services, while Northwind Standard does not provide these additional coverages[doc1]. Additionally, Northwind Health Plus offers a wider range of prescription drug coverage compared to Northwind Standard[doc1]. Both plans offer coverage for vision and dental services, as well as medical services[doc1]."
     ]
    }
   ],
   "source": [
    "response = client.chat.completions.create(\n",
    "    messages=[{\"role\": \"user\", \"content\": \"Which is more comprehensive, Northwind Health Plus vs Northwind Standard?\"}],\n",
    "    model=deployment,\n",
    "    extra_body={\n",
    "        \"dataSources\": [\n",
    "            {\n",
    "                \"type\": \"AzureCognitiveSearch\",\n",
    "                \"parameters\": {\n",
    "                    \"endpoint\": os.environ[\"SEARCH_ENDPOINT\"],\n",
    "                    \"key\": os.environ[\"SEARCH_KEY\"],\n",
    "                    \"indexName\": os.environ[\"SEARCH_INDEX_NAME\"],\n",
    "                }\n",
    "            }\n",
    "        ]\n",
    "    },\n",
    "    stream=True,\n",
    ")\n",
    "\n",
    "for chunk in response:\n",
    "    delta = chunk.choices[0].delta\n",
    "\n",
    "    if delta.role:\n",
    "        print(\"\\n\"+ delta.role + \": \", end=\"\", flush=True)\n",
    "    if delta.content:\n",
    "        print(delta.content, end=\"\", flush=True)\n",
    "    if delta.model_extra.get(\"context\"):\n",
    "        print(f\"Context: {delta.model_extra['context']}\", end=\"\", flush=True)"
   ]
  }
 ],
 "metadata": {
  "kernelspec": {
   "display_name": ".venv",
   "language": "python",
   "name": "python3"
  },
  "language_info": {
   "codemirror_mode": {
    "name": "ipython",
    "version": 3
   },
   "file_extension": ".py",
   "mimetype": "text/x-python",
   "name": "python",
   "nbconvert_exporter": "python",
   "pygments_lexer": "ipython3",
   "version": "3.10.12"
  },
  "orig_nbformat": 4
 },
 "nbformat": 4,
 "nbformat_minor": 2
}
