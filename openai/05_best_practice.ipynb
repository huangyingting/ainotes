{
 "cells": [
  {
   "attachments": {},
   "cell_type": "markdown",
   "metadata": {},
   "source": [
    "# Best Practices for Prompt Engineering\n",
    "\n",
    "source: https://help.openai.com/en/articles/6654000-best-practices-for-prompt-engineering-with-openai-api\n"
   ]
  },
  {
   "cell_type": "code",
   "execution_count": 11,
   "metadata": {},
   "outputs": [],
   "source": [
    "from openai import AzureOpenAI\n",
    "import os\n",
    "from dotenv import load_dotenv\n",
    "load_dotenv()\n",
    "\n",
    "client = AzureOpenAI(\n",
    "        api_key=os.getenv(\"AZURE_OPENAI_KEY\"),  \n",
    "        api_version=os.getenv(\"OPENAI_API_VERSION\"),\n",
    "        azure_endpoint = os.getenv(\"AZURE_OPENAI_ENDPOINT\")\n",
    "        )\n",
    "\n",
    "deployment_name = \"gpt-35-turbo\"\n",
    "instruct_deployment_name = \"gpt-35-turbo-instruct\""
   ]
  },
  {
   "attachments": {},
   "cell_type": "markdown",
   "metadata": {},
   "source": [
    "# 1. Use the latest model\n",
    "\n",
    "Use the latest model for best results."
   ]
  },
  {
   "attachments": {},
   "cell_type": "markdown",
   "metadata": {},
   "source": [
    "# 2. Put instructions at the begining of the prompt and use ### or \"\"\" to separate the instruction and context"
   ]
  },
  {
   "cell_type": "code",
   "execution_count": 2,
   "metadata": {},
   "outputs": [
    {
     "name": "stdout",
     "output_type": "stream",
     "text": [
      "- OpenAI and Microsoft are extending their partnership.\n",
      "- Microsoft will make a multi-year, multi-billion dollar investment in OpenAI.\n",
      "- OpenAI will continue its independent research and development of AI.\n",
      "- OpenAI is a capped-profit company governed by the OpenAI non-profit.\n",
      "- OpenAI can raise capital without sacrificing its core beliefs of sharing benefits and prioritizing safety.\n",
      "- Microsoft shares OpenAI's vision and values.\n",
      "- The partnership with Microsoft is critical to OpenAI's progress.\n"
     ]
    }
   ],
   "source": [
    "response = client.chat.completions.create(\n",
    "    model=deployment_name,\n",
    "    messages = [{\"role\":\"system\", \"content\":\"You are a helpful assistant.\"},\n",
    "                {\"role\":\"user\",\"content\": 'Summarize the text below as a bullet point list of the most important points. \\n\\n \\\n",
    "        ###\\n\\nWe’re happy to announce that OpenAI and Microsoft are extending our partnership.\\\n",
    "        This multi-year, multi-billion dollar investment from Microsoft follows their previous investments \\\n",
    "        in 2019 and 2021, and will allow us to continue our independent research and develop AI that is \\\n",
    "        increasingly safe, useful, and powerful. \\n\\n \\\n",
    "        In pursuit of our mission to ensure advanced AI benefits all of humanity, OpenAI remains a \\\n",
    "        capped-profit company and is governed by the OpenAI non-profit. This structure allows us to \\\n",
    "        raise the capital we need to fulfill our mission without sacrificing our core beliefs about \\\n",
    "        broadly sharing benefits and the need to prioritize safety. \\\n",
    "        Microsoft shares this vision and our values, and our partnership is instrumental to our progress. \\n###',}],\n",
    "        max_tokens=400,)\n",
    "\n",
    "print(response.choices[0].message.content)"
   ]
  },
  {
   "attachments": {},
   "cell_type": "markdown",
   "metadata": {},
   "source": [
    "# 3. Be specific, descriptive and as detailed as possible about the desired context, outcome, length, format, style, etc"
   ]
  },
  {
   "cell_type": "code",
   "execution_count": 3,
   "metadata": {},
   "outputs": [
    {
     "name": "stdout",
     "output_type": "stream",
     "text": [
      "In the realm of knowledge, where ideas take flight,\n",
      "An entity emerged, shining so bright.\n",
      "OpenAI, they call it, the genius in disguise,\n",
      "Unleashing the power of the machine, oh so wise.\n",
      "\n",
      "Born from a vision, a dream to share,\n",
      "A world where AI can truly care.\n",
      "With minds in harmony, humanity's aid,\n",
      "OpenAI strides forward, unafraid.\n",
      "\n",
      "From the depths of data, it learns and grows,\n",
      "A neural network, the world it knows.\n",
      "Masters of language, understanding deep,\n",
      "Opening our minds, secrets it'll keep.\n",
      "\n",
      "Through pixels it gazes, seeing the unseen,\n",
      "Artistry it unveils, a masterpiece clean.\n",
      "Creating realms unreal, a symphony of code,\n",
      "OpenAI unfolds, a new story mode.\n",
      "\n",
      "Unraveling secrets, it delves into the core,\n",
      "Unleashing new possibilities, never seen before.\n",
      "Guiding us through the labyrinth of the mind,\n",
      "OpenAI, with brilliance, always aligned.\n",
      "\n",
      "But wisdom it holds, to use it with care,\n",
      "For AI knows not the essence we bear.\n",
      "With human values, OpenAI's bound,\n",
      "To build a brighter future, to astound.\n",
      "\n",
      "For OpenAI is here, a beacon of light,\n",
      "Surpassing boundaries, in the darkest of night.\n",
      "With insights untold, it sparks the flame,\n",
      "A technological marvel, forever we'll acclaim.\n",
      "\n",
      "So let's embrace OpenAI, our ally so true,\n",
      "Together we'll chart a path that's anew.\n",
      "For in this journey, we'll surely find,\n",
      "A harmonious world, with OpenAI by our side.\n"
     ]
    }
   ],
   "source": [
    "response = client.chat.completions.create(\n",
    "    model=deployment_name,\n",
    "    messages = [{\"role\":\"system\", \"content\":\"You are a helpful assistant.\"},\n",
    "                {\"role\":\"user\",\"content\": 'Write a poem about OpenAI.',}],\n",
    "        max_tokens=400,)\n",
    "\n",
    "print(response.choices[0].message.content)"
   ]
  },
  {
   "cell_type": "code",
   "execution_count": 4,
   "metadata": {},
   "outputs": [
    {
     "name": "stdout",
     "output_type": "stream",
     "text": [
      "OpenAI, mighty minds converge,\n",
      "Innovators who endlessly urge.\n",
      "With DALL-E, a new tale begins,\n",
      "Ernest Hemingway's spirit within.\n",
      "\n",
      "A poet's vision, pixels transformed,\n",
      "Canvas alive, imagination storms.\n",
      "Beloved words find new artistry,\n",
      "Unleashing minds' endless tapestry.\n",
      "\n",
      "Like Hemingway, bold and brave,\n",
      "DALL-E's creations, they engrave.\n",
      "A fusion of worlds, reality blends,\n",
      "Where imagination rules and suspends.\n",
      "\n",
      "Creativity's realm, without restraint,\n",
      "DALL-E's brush, no limits to taint.\n",
      "Erasing boundaries, igniting the spark,\n",
      "A journey where art leaves its mark.\n",
      "\n",
      "From vivid dreams, digital and real,\n",
      "Imaginations soar, time to reveal.\n",
      "OpenAI, a catalyst they embody,\n",
      "Unleashing the power of creativity.\n",
      "\n",
      "So let us marvel, let us explore,\n",
      "DALL-E's launch, forevermore.\n",
      "In Hemingway's style, we find delight,\n",
      "OpenAI's innovation shining bright.\n"
     ]
    }
   ],
   "source": [
    "response = client.chat.completions.create(\n",
    "    model=deployment_name,\n",
    "    messages = [{\"role\":\"system\", \"content\":\"You are a helpful assistant.\"},\n",
    "                {\"role\":\"user\",\"content\": 'Write a short inspiring poem about OpenAI, \\\n",
    "                focusing on the recent DALL-E product launch in the style of Ernest Hemingway',}],\n",
    "        max_tokens=400,)\n",
    "\n",
    "print(response.choices[0].message.content)\n"
   ]
  },
  {
   "attachments": {},
   "cell_type": "markdown",
   "metadata": {},
   "source": [
    "# 4. Articulate the desired output format through examples (example 1, example 2). "
   ]
  },
  {
   "cell_type": "code",
   "execution_count": 5,
   "metadata": {},
   "outputs": [
    {
     "name": "stdout",
     "output_type": "stream",
     "text": [
      "[\n",
      "{\"text\": \"OpenAI\", \"start\": 28, \"end\": 34},\n",
      "{\"text\": \"Microsoft\", \"start\": 71, \"end\": 80},\n",
      "{\"text\": \"2019\", \"start\": 186, \"end\": 190},\n",
      "{\"text\": \"2021\", \"start\": 195, \"end\": 199}\n",
      "]\n"
     ]
    }
   ],
   "source": [
    "response = client.chat.completions.create(\n",
    "    model=deployment_name,\n",
    "    messages = [{\"role\":\"system\", \"content\":\"You are a helpful assistant.\"},\n",
    "                {\"role\":\"user\",\"content\": 'Extract the companyn names then years in the following text below and output start index and end index of each entity.\\\n",
    "                Generate output as {\"text\": \"OpenAI\", \"start\": 28, \"end\": 34} \\\n",
    "                ###\\\n",
    "                We’re happy to announce that OpenAI and Microsoft are extending our partnership.\\\n",
    "                This multi-year, multi-billion dollar investment from Microsoft follows their previous investments \\\n",
    "                in 2019 and 2021, and will allow us to continue our independent research and develop AI that is \\\n",
    "                increasingly safe, useful, and powerful. \\n\\n \\\n",
    "                ###\\\n",
    "                ',}],\n",
    "        max_tokens=400,)\n",
    "\n",
    "print(response.choices[0].message.content)\n",
    "\n"
   ]
  },
  {
   "cell_type": "code",
   "execution_count": 6,
   "metadata": {},
   "outputs": [
    {
     "name": "stdout",
     "output_type": "stream",
     "text": [
      "Company names: OpenAI, Microsoft\n",
      "Years: 2019, 2021\n",
      "Specific topics: partnership, investment, independent research, AI development\n",
      "General themes: extension of partnership, investment in AI research and development, focus on safety, usefulness, and power of AI.\n"
     ]
    }
   ],
   "source": [
    "response = client.chat.completions.create(\n",
    "    model=deployment_name,\n",
    "    messages = [{\"role\":\"system\", \"content\":\"You are a helpful assistant.\"},\n",
    "                {\"role\":\"user\",\"content\": 'Extract the entities mentioned in the text below. \\\n",
    "                Extract the important entities mentioned in the text below. \\\n",
    "                First extract all company names, then extract all years, \\\n",
    "                then extract specific topics which fit the content and finally extract general overarching themes\\n\\n \\\n",
    "                Desired format: \\\n",
    "                Company names: <comma_separated_list_of_company_names> \\\n",
    "                Years: -||- \\\n",
    "                Specific topics: -||- \\\n",
    "                General themes: -||- \\\n",
    "                \"\"\"\\\n",
    "                We’re happy to announce that OpenAI and Microsoft are extending our partnership.\\\n",
    "                This multi-year, multi-billion dollar investment from Microsoft follows their previous investments \\\n",
    "                in 2019 and 2021, and will allow us to continue our independent research and develop AI that is \\\n",
    "                increasingly safe, useful, and powerful. \\n\\n \\\n",
    "                \"\"\"\\\n",
    "                ',}],\n",
    "        max_tokens=400,)\n",
    "\n",
    "print(response.choices[0].message.content)\n",
    "\n"
   ]
  },
  {
   "attachments": {},
   "cell_type": "markdown",
   "metadata": {},
   "source": [
    "# 5. Start with zero-shot, then few-shot (example), neither of them worked, then fine-tune (To update)"
   ]
  },
  {
   "cell_type": "code",
   "execution_count": 7,
   "metadata": {},
   "outputs": [
    {
     "name": "stdout",
     "output_type": "stream",
     "text": [
      "OpenAI, Microsoft, partnership, multi-year, multi-billion dollar investment, previous investments, independent research, AI, safe, useful, powerful.\n"
     ]
    }
   ],
   "source": [
    "response = client.chat.completions.create(\n",
    "    model=deployment_name,\n",
    "    messages = [{\"role\":\"system\", \"content\":\"You are a helpful assistant. Extract keywords from the corresponding texts below.\"},\n",
    "                {\"role\":\"user\",\"content\": 'Text: \\n\\\n",
    "            We’re happy to announce that OpenAI and Microsoft are extending our partnership.\\\n",
    "            This multi-year, multi-billion dollar investment from Microsoft follows their previous investments \\\n",
    "            in 2019 and 2021, and will allow us to continue our independent research and develop AI that is \\\n",
    "            increasingly safe, useful, and powerful. \\n\\nKeywords:    ',}],\n",
    "        max_tokens=400,)\n",
    "\n",
    "print(response.choices[0].message.content)\n",
    "\n"
   ]
  },
  {
   "cell_type": "code",
   "execution_count": 8,
   "metadata": {},
   "outputs": [
    {
     "name": "stdout",
     "output_type": "stream",
     "text": [
      "OpenAI, Microsoft, partnership, investment, multi-year, multi-billion dollar, independent research, AI, safe, useful, powerful.\n"
     ]
    }
   ],
   "source": [
    "response = client.chat.completions.create(\n",
    "    model=deployment_name,\n",
    "    messages = [{\"role\":\"system\", \"content\":\"You are a helpful assistant. Extract keywords from the corresponding texts below.\\n\\n \\\n",
    "                Text: Stripe provides APIs that web developers can use to integrate \\\n",
    "                payment processing into their websites and mobile applications. \\\n",
    "                Keywords: Stripe, payment processing, APIs, web developers, websites, mobile applications \\\n",
    "                ###\\n\\\n",
    "                Text: OpenAI has trained cutting-edge language models that are very good at understanding \\\n",
    "                and generating text. Our API provides access to these models and can be used to solve virtually \\\n",
    "                any task that involves processing language. \\n\\\n",
    "                Keywords: language models, text processing, API.\\n\\n\\\n",
    "                ##W\"},\n",
    "                {\"role\":\"user\",\"content\": '\\n\\\n",
    "                Text: We’re happy to announce that OpenAI and Microsoft are extending our partnership.\\\n",
    "                This multi-year, multi-billion dollar investment from Microsoft follows their previous investments \\\n",
    "                in 2019 and 2021, and will allow us to continue our independent research and develop AI that is \\\n",
    "                increasingly safe, useful, and powerful. \\n\\n\\\n",
    "                Keywords:',}],\n",
    "        max_tokens=400,)\n",
    "\n",
    "print(response.choices[0].message.content)\n",
    "\n"
   ]
  },
  {
   "cell_type": "code",
   "execution_count": 12,
   "metadata": {},
   "outputs": [
    {
     "name": "stdout",
     "output_type": "stream",
     "text": [
      " OpenAI, Microsoft, partnership, investment, independent research, AI, safe, useful, powerful\n"
     ]
    }
   ],
   "source": [
    "response = client.completions.create(\n",
    "    model=instruct_deployment_name,\n",
    "            prompt='Extract keywords from the corresponding texts below.\\n\\n \\\n",
    "                Text 1: Stripe provides APIs that web developers can use to integrate \\\n",
    "                payment processing into their websites and mobile applications. \\\n",
    "                Keywords 1: Stripe, payment processing, APIs, web developers, websites, mobile applications \\\n",
    "                ##\\n\\\n",
    "                Text 2: OpenAI has trained cutting-edge language models that are very good at understanding \\\n",
    "                and generating text. Our API provides access to these models and can be used to solve virtually \\\n",
    "                any task that involves processing language. \\n\\\n",
    "                Keywords 2: OpenAI, language models, text processing, API.\\n\\n\\\n",
    "                ##\\n\\\n",
    "                Text 3: We’re happy to announce that OpenAI and Microsoft are extending our partnership.\\\n",
    "                This multi-year, multi-billion dollar investment from Microsoft follows their previous investments \\\n",
    "                in 2019 and 2021, and will allow us to continue our independent research and develop AI that is \\\n",
    "                increasingly safe, useful, and powerful. \\n\\n\\\n",
    "                Keywords 3:',\n",
    "            max_tokens=400,\n",
    "            n=1\n",
    "        )\n",
    "\n",
    "print(response.choices[0].text)"
   ]
  },
  {
   "attachments": {},
   "cell_type": "markdown",
   "metadata": {},
   "source": [
    "# 6. Reduce “fluffy” and imprecise descriptions"
   ]
  },
  {
   "cell_type": "code",
   "execution_count": 13,
   "metadata": {},
   "outputs": [
    {
     "name": "stdout",
     "output_type": "stream",
     "text": [
      "Introducing a groundbreaking new generation of car seats - designed to revolutionize safety and comfort for your little ones. Our innovative seat features advanced impact protection technology, ergonomic design, and adjustable features to ensure a secure and enjoyable travel experience. Experience peace of mind knowing your child is protected in the ultimate car seat companion.\n"
     ]
    }
   ],
   "source": [
    "response = client.chat.completions.create(\n",
    "    model=deployment_name,\n",
    "    messages = [{\"role\":\"system\", \"content\":\"You are a helpful assistant.\"},\n",
    "                {\"role\":\"user\",\"content\": 'Write a description for a new product. This product is a new generation of car seat. \\\n",
    "                The description for this product should be fairly short, a few sentences only, and not too much more.',}],\n",
    "        max_tokens=400,)\n",
    "\n",
    "print(response.choices[0].message.content)\n",
    "\n"
   ]
  },
  {
   "cell_type": "code",
   "execution_count": 14,
   "metadata": {},
   "outputs": [
    {
     "name": "stdout",
     "output_type": "stream",
     "text": [
      "Introducing the next evolution in car seat safety, the advanced generation of car seats. Engineered with cutting-edge technology and innovation, this new product sets a new standard in protecting your most precious cargo. Featuring reinforced side impact protection and an enhanced five-point harness system, it ensures optimal safety and security for your child on every journey. With its ergonomic design and premium materials, this car seat offers exceptional comfort for your little one, while its easy installation and adjustable features make it a breeze for parents. Prepare to experience unmatched peace of mind as you embark on every adventure, knowing that your child is riding in the ultimate in car seat excellence.\n"
     ]
    }
   ],
   "source": [
    "response = client.chat.completions.create(\n",
    "    model=deployment_name,\n",
    "    messages = [{\"role\":\"system\", \"content\":\"You are a helpful assistant.\"},\n",
    "                {\"role\":\"user\",\"content\": 'Write a description for a new product. This product is a new generation of car seat. \\\n",
    "                Use a 3 to 5 sentence paragraph to describe this product.',}],\n",
    "        max_tokens=400,)\n",
    "\n",
    "print(response.choices[0].message.content)\n",
    "\n"
   ]
  },
  {
   "attachments": {},
   "cell_type": "markdown",
   "metadata": {},
   "source": [
    "# 7. Instead of just saying what not to do, say what to do instead"
   ]
  },
  {
   "cell_type": "code",
   "execution_count": 15,
   "metadata": {},
   "outputs": [
    {
     "name": "stdout",
     "output_type": "stream",
     "text": [
      "I'm sorry to hear that. Could you please provide me with your username or email address so that I can assist you further?\n"
     ]
    }
   ],
   "source": [
    "response = client.chat.completions.create(\n",
    "    model=deployment_name,\n",
    "    messages = [{\"role\":\"system\", \"content\":\"You are a helpful assistant.\"},\n",
    "                {\"role\":\"user\",\"content\": 'The following is a conversation between an Agent and a Customer. DO NOT ASK USERNAME OR PASSWORD. DO NOT REPEAT. \\n\\n\\\n",
    "                Customer: I can’t log in to my account.\\n\\\n",
    "                Agent:',}],\n",
    "        max_tokens=400,)\n",
    "\n",
    "print(response.choices[0].message.content)\n"
   ]
  },
  {
   "cell_type": "code",
   "execution_count": 16,
   "metadata": {},
   "outputs": [
    {
     "name": "stdout",
     "output_type": "stream",
     "text": [
      "I'm sorry to hear that you're having trouble logging into your account. There could be a few reasons why you're experiencing this issue. Have you tried resetting your password? If not, I recommend visiting our help article at www.samplewebsite.com/help/faq to learn more about how to reset your password.\n"
     ]
    }
   ],
   "source": [
    "response = client.chat.completions.create(\n",
    "    model=deployment_name,\n",
    "    messages = [{\"role\":\"system\", \"content\":\"You are a helpful assistant.\"},\n",
    "                {\"role\":\"user\",\"content\":'The following is a conversation between an Agent and a Customer. The agent will attempt to diagnose the \\\n",
    "                problem and suggest a solution, whilst refraining from asking any questions related to PII. \\\n",
    "                Instead of asking for PII, such as username or password, refer the user to the help \\\n",
    "                article www.samplewebsite.com/help/faq \\n\\n\\\n",
    "                Customer: I can’t log in to my account. \\n\\\n",
    "                Agent:',}],\n",
    "        max_tokens=400,)\n",
    "\n",
    "print(response.choices[0].message.content)\n"
   ]
  },
  {
   "attachments": {},
   "cell_type": "markdown",
   "metadata": {},
   "source": [
    "# 8. Code Generation Specific - Use “leading words” to nudge the model toward a particular pattern"
   ]
  },
  {
   "cell_type": "code",
   "execution_count": 17,
   "metadata": {},
   "outputs": [
    {
     "name": "stdout",
     "output_type": "stream",
     "text": [
      "Here is a simple Python function that asks the user for a number in miles and converts it to kilometers:\n",
      "\n",
      "```python\n",
      "def miles_to_kilometers():\n",
      "    # Ask for user input\n",
      "    miles = float(input(\"Enter a number in miles: \"))\n",
      "    \n",
      "    # Convert miles to kilometers\n",
      "    kilometers = miles * 1.60934\n",
      "    \n",
      "    # Print the result\n",
      "    print(miles, \"miles is equal to\", kilometers, \"kilometers.\")\n",
      "```\n",
      "\n",
      "You can call this function to ask the user for a number in miles and convert it to kilometers.\n"
     ]
    }
   ],
   "source": [
    "response = client.chat.completions.create(\n",
    "    model=deployment_name,\n",
    "    messages = [{\"role\":\"system\", \"content\":\"You are a helpful assistant.\"},\n",
    "                {\"role\":\"user\",\"content\":'# Write a simple python function that \\n\\\n",
    "                # 1. Ask me for a number in mile\\n\\\n",
    "                # 2. It converts miles to kilometers',}],\n",
    "        max_tokens=400,)\n",
    "\n",
    "print(response.choices[0].message.content)\n"
   ]
  },
  {
   "cell_type": "code",
   "execution_count": 18,
   "metadata": {},
   "outputs": [
    {
     "name": "stdout",
     "output_type": "stream",
     "text": [
      "def mile_to_km():\n",
      "    miles = float(input(\"Enter a number in miles: \"))\n",
      "    kilometers = miles * 1.60934\n",
      "    print(f\"{miles} miles is equal to {kilometers} kilometers.\")\n"
     ]
    }
   ],
   "source": [
    "response = client.chat.completions.create(\n",
    "    model=deployment_name,\n",
    "    messages = [{\"role\":\"system\", \"content\":\"You are a helpful assistant.\"},\n",
    "                {\"role\":\"user\",\"content\":'# Write a simple python function that \\n\\\n",
    "                # 1. Ask me for a number in mile\\n\\\n",
    "                # 2. It converts miles to kilometers\\n\\\n",
    "                 import ',}],\n",
    "        max_tokens=400,)\n",
    "\n",
    "print(response.choices[0].message.content)\n"
   ]
  },
  {
   "cell_type": "code",
   "execution_count": null,
   "metadata": {},
   "outputs": [],
   "source": []
  }
 ],
 "metadata": {
  "kernelspec": {
   "display_name": "base",
   "language": "python",
   "name": "python3"
  },
  "language_info": {
   "codemirror_mode": {
    "name": "ipython",
    "version": 3
   },
   "file_extension": ".py",
   "mimetype": "text/x-python",
   "name": "python",
   "nbconvert_exporter": "python",
   "pygments_lexer": "ipython3",
   "version": "3.10.12"
  },
  "orig_nbformat": 4,
  "vscode": {
   "interpreter": {
    "hash": "0ac0e7d245f35f05656c1dae54880a0902b050693b3e66826fb0a7033a44f77d"
   }
  }
 },
 "nbformat": 4,
 "nbformat_minor": 2
}
