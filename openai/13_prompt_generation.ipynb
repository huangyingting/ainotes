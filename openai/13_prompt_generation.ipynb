{
  "cells": [
    {
      "cell_type": "code",
      "execution_count": null,
      "metadata": {
        "gather": {
          "logged": 1674254990318
        },
        "jupyter": {
          "outputs_hidden": true,
          "source_hidden": false
        },
        "nteract": {
          "transient": {
            "deleting": false
          }
        }
      },
      "outputs": [],
      "source": [
        "%pip install openai python-dotenv --quiet"
      ]
    },
    {
      "cell_type": "code",
      "execution_count": 4,
      "metadata": {
        "gather": {
          "logged": 1674829434433
        },
        "jupyter": {
          "outputs_hidden": false,
          "source_hidden": false
        },
        "nteract": {
          "transient": {
            "deleting": false
          }
        }
      },
      "outputs": [
        {
          "data": {
            "text/plain": [
              "True"
            ]
          },
          "execution_count": 4,
          "metadata": {},
          "output_type": "execute_result"
        }
      ],
      "source": [
        "import os\n",
        "from openai import AzureOpenAI\n",
        "from IPython.display import display, Markdown\n",
        "from dotenv import load_dotenv\n",
        "load_dotenv()"
      ]
    },
    {
      "cell_type": "code",
      "execution_count": 5,
      "metadata": {
        "gather": {
          "logged": 1674742720788
        },
        "jupyter": {
          "outputs_hidden": true,
          "source_hidden": false
        },
        "nteract": {
          "transient": {
            "deleting": false
          }
        }
      },
      "outputs": [],
      "source": [
        "deployment_name = \"gpt-35-turbo\""
      ]
    },
    {
      "cell_type": "code",
      "execution_count": 10,
      "metadata": {
        "gather": {
          "logged": 1674494935186
        },
        "jupyter": {
          "outputs_hidden": false,
          "source_hidden": false
        },
        "nteract": {
          "transient": {
            "deleting": false
          }
        }
      },
      "outputs": [
        {
          "data": {
            "text/markdown": [
              "1. Nuwa, flowing silk robes and adorned with pearls and jade, serene and focused, sculpting humans out of clay, a mystical celestial ruler, amidst a cosmic tapestry, ethereal glow of the stars, harmonious and peaceful atmosphere, soft moonlight gently illuminating her delicate features, a heavenly perspective, balanced composition.\n",
              "\n",
              "2. Chang'e, elegant hanfu dress with a celestial motif, melancholic and longing, gracefully dancing across the sky, holding the elixir of immortality, surrounded by celestial clouds, misty and mysterious atmosphere, the subtle radiance of a full moon bathing her in its glow, a view from heavenly realms, ethereal and enchanting composition.\n",
              "\n",
              "3. Daji, adorned in lavish court attire, with intricate hair ornaments, a mix of seductive and cruel, wielding her beauty to manipulate men, surrounded by luxurious furnishings and devious instruments, amidst a decadent palace, stormy and volatile weather, an ominous and unsettling atmosphere, dramatic lighting casting eerie shadows, a sinister and voyeuristic perspective, a chaotic and twisted composition.\n",
              "\n",
              "4. Xi Wangmu, draped in flowing robes of the purest white, emanating maternal warmth and wisdom, dispensing the peaches of immortality from her sacred garden, surrounded by lush mountains and serene rivers, a tranquil and rejuvenating atmosphere, soft golden sunlight suffusing the scenery, a serene and nurturing perspective, a balanced and serene composition.\n",
              "\n",
              "5. Mazu, adorned in traditional fisherman's garb, displaying strength and determination, guiding sailors through treacherous seas, surrounded by crashing waves and turbulent winds, a fierce and stormy atmosphere, piercing beams of light breaking through the dark clouds, a determined and resilient perspective, a dynamic and action-packed composition.\n",
              "\n",
              "6. Huangdi, dressed in royal armor adorned with phoenix motifs, filled with determination and ambition, leading armies into battle, holding the mystical sword of Zhuque, amidst a battlefield with billowing smoke, a tense and determined atmosphere, fiery red sunlight casting a foreboding glow, a commanding and forceful perspective, a dramatic and intense composition.\n",
              "\n",
              "7. Guanyin, draped in flowing robes with a compassionate expression, extending a hand in mercy and aid, surrounded by temples and devotees in prayer, a peaceful and reverent atmosphere, gentle candlelight illuminating the serene scene, a compassionate and empathetic perspective, a tranquil and benevolent composition.\n",
              "\n",
              "8. Xiwangmu, adorned in vibrant robes with a regal headdress, radiating regal power and authority, presiding over the mythical Kunlun mountain, surrounded by celestial beasts and guardian spirits, a majestic and awe-inspiring atmosphere, beams of golden light bathing the majestic scenery, a commanding and regal perspective, an epic and majestic composition.\n",
              "\n",
              "9. Zhi Nu, wearing a simple and elegant traditional attire, exuding grace and tenderness, weaving starlight across the night sky, amidst a tranquil celestial garden, a dreamy and magical atmosphere, shimmering starlight casting a mystical glow, a celestial and enchanting perspective, a celestial and enchanting composition.\n",
              "\n",
              "10. Hua Mulan, cloaked in the armor of a warrior, displaying determination and strength, leading soldiers into battle, amidst a rugged and war-torn terrain, an intense and courageous atmosphere, the soft glow of dawn breaking through the clouds, a determined and resolute perspective, a fierce and heroic composition."
            ],
            "text/plain": [
              "<IPython.core.display.Markdown object>"
            ]
          },
          "metadata": {},
          "output_type": "display_data"
        }
      ],
      "source": [
        "system_prompt = \"\"\"\n",
        "You are a helpful assistant.\n",
        "\"\"\"\n",
        "\n",
        "text_prompt = \"\"\"\n",
        "按照以下的格式, 用英语生成10个有关中国古代有关女性神话人物的描述, 要切合人物的特点\n",
        "\n",
        "** 格式 **\n",
        "人物, 服装配饰, 情绪, 行为动作, 物品道具, 元素, 环境, 天气, 氛围, 光线, 视角, 构图\n",
        "\"\"\"\n",
        "\n",
        "client = AzureOpenAI(\n",
        "    api_key=os.getenv(\"AZURE_OPENAI_KEY\"),  \n",
        "    api_version=os.getenv(\"OPENAI_API_VERSION\"),\n",
        "    azure_endpoint = os.getenv(\"AZURE_OPENAI_ENDPOINT\")\n",
        "    )\n",
        "\n",
        "response = client.chat.completions.create(\n",
        "  model=deployment_name,\n",
        "  messages = [{\"role\":\"system\", \"content\":system_prompt},\n",
        "               {\"role\":\"user\",\"content\":text_prompt},])\n",
        "\n",
        "result = response.choices[0].message.content\n",
        "display(Markdown(result))"
      ]
    }
  ],
  "metadata": {
    "kernel_info": {
      "name": "python310-sdkv2"
    },
    "kernelspec": {
      "display_name": "base",
      "language": "python",
      "name": "python3"
    },
    "language_info": {
      "codemirror_mode": {
        "name": "ipython",
        "version": 3
      },
      "file_extension": ".py",
      "mimetype": "text/x-python",
      "name": "python",
      "nbconvert_exporter": "python",
      "pygments_lexer": "ipython3",
      "version": "3.10.12"
    },
    "microsoft": {
      "host": {
        "AzureML": {
          "notebookHasBeenCompleted": true
        }
      }
    },
    "nteract": {
      "version": "nteract-front-end@1.0.0"
    }
  },
  "nbformat": 4,
  "nbformat_minor": 2
}
